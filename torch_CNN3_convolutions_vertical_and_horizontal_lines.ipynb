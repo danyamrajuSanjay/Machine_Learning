{
  "nbformat": 4,
  "nbformat_minor": 0,
  "metadata": {
    "kernelspec": {
      "display_name": "Python 3",
      "language": "python",
      "name": "python3"
    },
    "language_info": {
      "codemirror_mode": {
        "name": "ipython",
        "version": 3
      },
      "file_extension": ".py",
      "mimetype": "text/x-python",
      "name": "python",
      "nbconvert_exporter": "python",
      "pygments_lexer": "ipython3",
      "version": "3.6.8"
    },
    "colab": {
      "name": "torch CNN3 convolutions vertical and horizontal lines.ipynb",
      "provenance": [],
      "include_colab_link": true
    }
  },
  "cells": [
    {
      "cell_type": "markdown",
      "metadata": {
        "id": "view-in-github",
        "colab_type": "text"
      },
      "source": [
        "<a href=\"https://colab.research.google.com/github/danyamrajuSanjay/Machine_Learning/blob/master/torch_CNN3_convolutions_vertical_and_horizontal_lines.ipynb\" target=\"_parent\"><img src=\"https://colab.research.google.com/assets/colab-badge.svg\" alt=\"Open In Colab\"/></a>"
      ]
    },
    {
      "cell_type": "markdown",
      "metadata": {
        "id": "jJxRvFipUhxZ",
        "colab_type": "text"
      },
      "source": [
        "\n",
        "# Table of Contents\n",
        "In this lab, we will use a Convolutional Neral Networks to classify horizontal an vertical Lines \n",
        "\n",
        "<div class=\"alert alert-block alert-info\" style=\"margin-top: 20px\">\n",
        "<li><a href=\"#ref0\">Helper functions </a></li>\n",
        "\n",
        "<li><a href=\"#ref1\"> Prepare Data </a></li>\n",
        "<li><a href=\"#ref2\">Convolutional Neral Network </a></li>\n",
        "<li><a href=\"#ref3\">Define Softmax , Criterion function, Optimizer and Train the  Model</a></li>\n",
        "<li><a href=\"#ref4\">Analyse Results</a></li>\n",
        "\n",
        "<br>\n",
        "<p></p>\n",
        "Estimated Time Needed: <strong>25 min</strong>\n",
        "</div>\n",
        "\n",
        "<hr>"
      ]
    },
    {
      "cell_type": "markdown",
      "metadata": {
        "id": "jgMrGAq6Uhxa",
        "colab_type": "text"
      },
      "source": [
        "<a id=\"ref0\"></a>\n",
        "<h2 align=center>Helper functions </h2>"
      ]
    },
    {
      "cell_type": "code",
      "metadata": {
        "id": "PYT6CbiaUhxb",
        "colab_type": "code",
        "colab": {}
      },
      "source": [
        "import torch \n",
        "import torch.nn as nn\n",
        "import torchvision.transforms as transforms\n",
        "import torchvision.datasets as dsets\n",
        "import matplotlib.pylab as plt\n",
        "import numpy as np\n",
        "import pandas as pd"
      ],
      "execution_count": 1,
      "outputs": []
    },
    {
      "cell_type": "code",
      "metadata": {
        "id": "nCgMSyeJUhxh",
        "colab_type": "code",
        "colab": {
          "base_uri": "https://localhost:8080/",
          "height": 34
        },
        "outputId": "ba9a0c96-4364-4e50-b706-62548a96777a"
      },
      "source": [
        "torch.manual_seed(4)"
      ],
      "execution_count": 2,
      "outputs": [
        {
          "output_type": "execute_result",
          "data": {
            "text/plain": [
              "<torch._C.Generator at 0x7f273f0160c0>"
            ]
          },
          "metadata": {
            "tags": []
          },
          "execution_count": 2
        }
      ]
    },
    {
      "cell_type": "markdown",
      "metadata": {
        "id": "AkJH68nuUhxm",
        "colab_type": "text"
      },
      "source": [
        "function to plot out the parameters of the Convolutional layers  "
      ]
    },
    {
      "cell_type": "code",
      "metadata": {
        "id": "l1xlKLmWUhxn",
        "colab_type": "code",
        "colab": {}
      },
      "source": [
        "def plot_channels(W):\n",
        "    #number of output channels \n",
        "    n_out=W.shape[0]\n",
        "    #number of input channels \n",
        "    n_in=W.shape[1]\n",
        "    w_min=W.min().item()\n",
        "    w_max=W.max().item()\n",
        "    fig, axes = plt.subplots(n_out,n_in)\n",
        "    fig.subplots_adjust(hspace = 0.1)\n",
        "    out_index=0\n",
        "    in_index=0\n",
        "    #plot outputs as rows inputs as columns \n",
        "    for ax in axes.flat:\n",
        "    \n",
        "        if in_index>n_in-1:\n",
        "            out_index=out_index+1\n",
        "            in_index=0\n",
        "              \n",
        "        ax.imshow(W[out_index,in_index,:,:], vmin=w_min, vmax=w_max, cmap='seismic')\n",
        "        ax.set_yticklabels([])\n",
        "        ax.set_xticklabels([])\n",
        "        in_index=in_index+1\n",
        "\n",
        "    plt.show()"
      ],
      "execution_count": 3,
      "outputs": []
    },
    {
      "cell_type": "markdown",
      "metadata": {
        "id": "iuz_zooQUhxs",
        "colab_type": "text"
      },
      "source": [
        "<code>show_data</code>: plot out data sample"
      ]
    },
    {
      "cell_type": "code",
      "metadata": {
        "id": "Irf9blg9Uhxs",
        "colab_type": "code",
        "colab": {}
      },
      "source": [
        "def show_data(dataset,sample):\n",
        "\n",
        "    plt.imshow(dataset.x[sample,0,:,:].numpy(),cmap='gray')\n",
        "    plt.title('y='+str(dataset.y[sample].item()))\n",
        "    plt.show()"
      ],
      "execution_count": 4,
      "outputs": []
    },
    {
      "cell_type": "markdown",
      "metadata": {
        "id": "yqlEb1ARUhxx",
        "colab_type": "text"
      },
      "source": [
        "create some toy data "
      ]
    },
    {
      "cell_type": "code",
      "metadata": {
        "id": "k1TBvQMNUhxy",
        "colab_type": "code",
        "colab": {}
      },
      "source": [
        "from torch.utils.data import Dataset, DataLoader\n",
        "class Data(Dataset):\n",
        "    def __init__(self,N_images=100,offset=0,p=0.9, train=False):\n",
        "        \"\"\"\n",
        "        p:portability that pixel is wight  \n",
        "        N_images:number of images \n",
        "        offset:set a random vertical and horizontal offset images by a sample should be less than 3 \n",
        "        \"\"\"\n",
        "        if train==True:\n",
        "            np.random.seed(1)  \n",
        "        \n",
        "        #make images multiple of 3 \n",
        "        N_images=2*(N_images//2)\n",
        "        images=np.zeros((N_images,1,11,11))\n",
        "        start1=3\n",
        "        start2=1\n",
        "        self.y=torch.zeros(N_images).type(torch.long)\n",
        "\n",
        "        for n in range(N_images):\n",
        "            if offset>0:\n",
        "        \n",
        "                low=int(np.random.randint(low=start1, high=start1+offset, size=1))\n",
        "                high=int(np.random.randint(low=start2, high=start2+offset, size=1))\n",
        "            else:\n",
        "                low=4\n",
        "                high=1\n",
        "        \n",
        "            if n<=N_images//2:\n",
        "                self.y[n]=0\n",
        "                images[n,0,high:high+9,low:low+3]= np.random.binomial(1, p, (9,3))\n",
        "            elif  n>N_images//2:\n",
        "                self.y[n]=1\n",
        "                images[n,0,low:low+3,high:high+9] = np.random.binomial(1, p, (3,9))\n",
        "           \n",
        "        \n",
        "        \n",
        "        self.x=torch.from_numpy(images).type(torch.FloatTensor)\n",
        "        self.len=self.x.shape[0]\n",
        "        del(images)\n",
        "        np.random.seed(0)\n",
        "    def __getitem__(self,index):      \n",
        "        return self.x[index],self.y[index]\n",
        "    def __len__(self):\n",
        "        return self.len"
      ],
      "execution_count": 5,
      "outputs": []
    },
    {
      "cell_type": "markdown",
      "metadata": {
        "id": "8zNreyFAUhx1",
        "colab_type": "text"
      },
      "source": [
        "<code>plot_activation</code>: plot out the activations of the Convolutional layers  "
      ]
    },
    {
      "cell_type": "code",
      "metadata": {
        "id": "rRnCoFn-Uhx2",
        "colab_type": "code",
        "colab": {}
      },
      "source": [
        "def plot_activations(A,number_rows= 1,name=\"\"):\n",
        "    A=A[0,:,:,:].detach().numpy()\n",
        "    n_activations=A.shape[0]\n",
        "    \n",
        "    \n",
        "    print(n_activations)\n",
        "    A_min=A.min().item()\n",
        "    A_max=A.max().item()\n",
        "\n",
        "    if n_activations==1:\n",
        "\n",
        "        # Plot the image.\n",
        "        plt.imshow(A[0,:], vmin=A_min, vmax=A_max, cmap='seismic')\n",
        "\n",
        "    else:\n",
        "        fig, axes = plt.subplots(number_rows, n_activations//number_rows)\n",
        "        fig.subplots_adjust(hspace = 0.4)\n",
        "        for i,ax in enumerate(axes.flat):\n",
        "            if i< n_activations:\n",
        "                # Set the label for the sub-plot.\n",
        "                ax.set_xlabel( \"activation:{0}\".format(i+1))\n",
        "\n",
        "                # Plot the image.\n",
        "                ax.imshow(A[i,:], vmin=A_min, vmax=A_max, cmap='seismic')\n",
        "                ax.set_xticks([])\n",
        "                ax.set_yticks([])\n",
        "    plt.show()"
      ],
      "execution_count": 6,
      "outputs": []
    },
    {
      "cell_type": "markdown",
      "metadata": {
        "id": "wwC_Sgn9Uhx6",
        "colab_type": "text"
      },
      "source": [
        "\n",
        "Utility function for computing output of convolutions\n",
        "takes a tuple of (h,w) and returns a tuple of (h,w)"
      ]
    },
    {
      "cell_type": "code",
      "metadata": {
        "id": "YVZqW_Z2Uhx7",
        "colab_type": "code",
        "colab": {}
      },
      "source": [
        "\n",
        "def conv_output_shape(h_w, kernel_size=1, stride=1, pad=0, dilation=1):\n",
        "    #by Duane Nielsen\n",
        "    from math import floor\n",
        "    if type(kernel_size) is not tuple:\n",
        "        kernel_size = (kernel_size, kernel_size)\n",
        "    h = floor( ((h_w[0] + (2 * pad) - ( dilation * (kernel_size[0] - 1) ) - 1 )/ stride) + 1)\n",
        "    w = floor( ((h_w[1] + (2 * pad) - ( dilation * (kernel_size[1] - 1) ) - 1 )/ stride) + 1)\n",
        "    return h, w"
      ],
      "execution_count": 7,
      "outputs": []
    },
    {
      "cell_type": "markdown",
      "metadata": {
        "id": "PsMjD81nUhx-",
        "colab_type": "text"
      },
      "source": [
        "<a id=\"ref1\"></a>\n",
        "<h2 align=center>Prepare Data </h2> "
      ]
    },
    {
      "cell_type": "markdown",
      "metadata": {
        "id": "3SOc-jGeUhx_",
        "colab_type": "text"
      },
      "source": [
        "Load the training dataset with 10000 samples "
      ]
    },
    {
      "cell_type": "code",
      "metadata": {
        "id": "rtKChcB_UhyB",
        "colab_type": "code",
        "colab": {}
      },
      "source": [
        "N_images=10000\n",
        "train_dataset=Data(N_images=N_images)"
      ],
      "execution_count": 8,
      "outputs": []
    },
    {
      "cell_type": "markdown",
      "metadata": {
        "id": "CSpKKzRJUhyF",
        "colab_type": "text"
      },
      "source": [
        "Load the testing dataset"
      ]
    },
    {
      "cell_type": "code",
      "metadata": {
        "id": "iCzAwO51UhyF",
        "colab_type": "code",
        "colab": {
          "base_uri": "https://localhost:8080/",
          "height": 34
        },
        "outputId": "ecb6e519-4f88-4884-ed0f-bd81da0d9ca9"
      },
      "source": [
        "validation_dataset=Data(N_images=1000,train=False)\n",
        "validation_dataset"
      ],
      "execution_count": 9,
      "outputs": [
        {
          "output_type": "execute_result",
          "data": {
            "text/plain": [
              "<__main__.Data at 0x7f26f4200ac8>"
            ]
          },
          "metadata": {
            "tags": []
          },
          "execution_count": 9
        }
      ]
    },
    {
      "cell_type": "markdown",
      "metadata": {
        "id": "OdkTltmtUhyJ",
        "colab_type": "text"
      },
      "source": [
        "we can see the data type is long "
      ]
    },
    {
      "cell_type": "markdown",
      "metadata": {
        "id": "3RP82XhoUhyL",
        "colab_type": "text"
      },
      "source": [
        "### Data Visualization "
      ]
    },
    {
      "cell_type": "markdown",
      "metadata": {
        "id": "Q7mHxWjjUhyM",
        "colab_type": "text"
      },
      "source": [
        "Each element in the rectangular  tensor corresponds to a number representing a pixel intensity  as demonstrated by  the following image."
      ]
    },
    {
      "cell_type": "markdown",
      "metadata": {
        "id": "S__b7DhaUhyN",
        "colab_type": "text"
      },
      "source": [
        "We can print out the third label "
      ]
    },
    {
      "cell_type": "code",
      "metadata": {
        "id": "XrGOEzxZUhyP",
        "colab_type": "code",
        "colab": {
          "base_uri": "https://localhost:8080/",
          "height": 281
        },
        "outputId": "54783750-6125-4c04-d0d2-0817cde8539c"
      },
      "source": [
        "show_data(train_dataset,0)"
      ],
      "execution_count": 10,
      "outputs": [
        {
          "output_type": "display_data",
          "data": {
            "image/png": "[encoded data removed]",
            "text/plain": [
              "<Figure size 432x288 with 1 Axes>"
            ]
          },
          "metadata": {
            "tags": [],
            "needs_background": "light"
          }
        }
      ]
    },
    {
      "cell_type": "code",
      "metadata": {
        "id": "o2Ro427gUhyT",
        "colab_type": "code",
        "colab": {
          "base_uri": "https://localhost:8080/",
          "height": 281
        },
        "outputId": "bef2e649-b3c7-4d41-b3bf-06fc539a2297"
      },
      "source": [
        "show_data(train_dataset,N_images//2+2)"
      ],
      "execution_count": 11,
      "outputs": [
        {
          "output_type": "display_data",
          "data": {
            "image/png": "[encoded data removed]",
            "text/plain": [
              "<Figure size 432x288 with 1 Axes>"
            ]
          },
          "metadata": {
            "tags": [],
            "needs_background": "light"
          }
        }
      ]
    },
    {
      "cell_type": "markdown",
      "metadata": {
        "id": "mm58ac57UhyX",
        "colab_type": "text"
      },
      "source": [
        "we can plot the 3rd  sample "
      ]
    },
    {
      "cell_type": "markdown",
      "metadata": {
        "id": "V1M8JMpfUhyX",
        "colab_type": "text"
      },
      "source": [
        "<a id=\"ref3\"></a>\n",
        "### Build a Convolutional Neral Network Class "
      ]
    },
    {
      "cell_type": "markdown",
      "metadata": {
        "id": "2uPDNf3-UhyY",
        "colab_type": "text"
      },
      "source": [
        "The input image is 11 x11, the following will change the size of the activations:\n",
        "<ul>\n",
        "<il>convolutional layer</il> \n",
        "</ul>\n",
        "<ul>\n",
        "<il>max pooling layer</il> \n",
        "</ul>\n",
        "<ul>\n",
        "<il>convolutional layer </il>\n",
        "</ul>\n",
        "<ul>\n",
        "<il>max pooling layer </il>\n",
        "</ul>\n",
        "\n",
        "with the following parameters <code>kernel_size</code>, <code>stride</code> and <code> pad</code>.\n",
        "We use the following  lines of code to change the image before we get tot he fully connected layer "
      ]
    },
    {
      "cell_type": "code",
      "metadata": {
        "id": "XzXmcSHdUhyY",
        "colab_type": "code",
        "colab": {
          "base_uri": "https://localhost:8080/",
          "height": 85
        },
        "outputId": "2a088ec9-f938-4431-fe4a-d11bee509ef5"
      },
      "source": [
        "out=conv_output_shape((11,11), kernel_size=2, stride=1, pad=0, dilation=1)\n",
        "print(out)\n",
        "out1=conv_output_shape(out, kernel_size=2, stride=1, pad=0, dilation=1)\n",
        "print(out1)\n",
        "out2=conv_output_shape(out1, kernel_size=2, stride=1, pad=0, dilation=1)\n",
        "print(out2)\n",
        "\n",
        "out3=conv_output_shape(out2, kernel_size=2, stride=1, pad=0, dilation=1)\n",
        "print(out3)"
      ],
      "execution_count": 12,
      "outputs": [
        {
          "output_type": "stream",
          "text": [
            "(10, 10)\n",
            "(9, 9)\n",
            "(8, 8)\n",
            "(7, 7)\n"
          ],
          "name": "stdout"
        }
      ]
    },
    {
      "cell_type": "markdown",
      "metadata": {
        "id": "tRcRe0YnUhyd",
        "colab_type": "text"
      },
      "source": [
        "Build a Convolutional Network class with two Convolutional layers and one fully connected layer. Pre-determine the size of the final output matrix. The parameters in the constructor are the number of output channels for the first and second layer."
      ]
    },
    {
      "cell_type": "code",
      "metadata": {
        "id": "42tEpgxQUhyd",
        "colab_type": "code",
        "colab": {}
      },
      "source": [
        "class CNN(nn.Module):\n",
        "    def __init__(self,out_1=2,out_2=1):\n",
        "        \n",
        "        super(CNN,self).__init__()\n",
        "        #first Convolutional layers \n",
        "        self.cnn1=nn.Conv2d(in_channels=1,out_channels=out_1,kernel_size=2,padding=0)\n",
        "        self.maxpool1=nn.MaxPool2d(kernel_size=2 ,stride=1)\n",
        "\n",
        "        #second Convolutional layers\n",
        "        self.cnn2=nn.Conv2d(in_channels=out_1,out_channels=out_2,kernel_size=2,stride=1,padding=0)\n",
        "        self.maxpool2=nn.MaxPool2d(kernel_size=2 ,stride=1)\n",
        "        #max pooling \n",
        "\n",
        "        #fully connected layer \n",
        "        self.fc1=nn.Linear(out_2*7*7,2)\n",
        "        \n",
        "    def forward(self,x):\n",
        "        #first Convolutional layers\n",
        "        x=self.cnn1(x)\n",
        "        #activation function \n",
        "        x=torch.relu(x)\n",
        "        #max pooling \n",
        "        x=self.maxpool1(x)\n",
        "        #first Convolutional layers\n",
        "        x=self.cnn2(x)\n",
        "        #activation function\n",
        "        x=torch.relu(x)\n",
        "        #max pooling\n",
        "        x=self.maxpool2(x)\n",
        "        #flatten output \n",
        "        x=x.view(x.size(0),-1)\n",
        "        #fully connected layer\n",
        "        x=self.fc1(x)\n",
        "        return x\n",
        "    \n",
        "    def activations(self,x):\n",
        "        #outputs activation this is not necessary just for fun \n",
        "        z1=self.cnn1(x)\n",
        "        a1=torch.relu(z1)\n",
        "        out=self.maxpool1(a1)\n",
        "        \n",
        "        z2=self.cnn2(out)\n",
        "        a2=torch.relu(z2)\n",
        "        out=self.maxpool2(a2)\n",
        "        out=out.view(out.size(0),-1)\n",
        "        return z1,a1,z2,a2,out        "
      ],
      "execution_count": 13,
      "outputs": []
    },
    {
      "cell_type": "markdown",
      "metadata": {
        "id": "Fnsu3FCTUhyg",
        "colab_type": "text"
      },
      "source": [
        "<a id=\"ref3\"></a>\n",
        "<h2> Define the Convolutional Neral Network Classifier , Criterion function, Optimizer and Train the  Model  </h2> "
      ]
    },
    {
      "cell_type": "markdown",
      "metadata": {
        "id": "gYBED2RAUhyh",
        "colab_type": "text"
      },
      "source": [
        "There are 2 output channels for the first layer, and 1 outputs channel for the second layer "
      ]
    },
    {
      "cell_type": "code",
      "metadata": {
        "id": "X67MJflMUhyi",
        "colab_type": "code",
        "colab": {}
      },
      "source": [
        "model=CNN(2,1)"
      ],
      "execution_count": 14,
      "outputs": []
    },
    {
      "cell_type": "markdown",
      "metadata": {
        "id": "n1ZIku-VUhyl",
        "colab_type": "text"
      },
      "source": [
        "we can see the model parameters with the object "
      ]
    },
    {
      "cell_type": "code",
      "metadata": {
        "id": "l-HCalNmUhym",
        "colab_type": "code",
        "colab": {
          "base_uri": "https://localhost:8080/",
          "height": 136
        },
        "outputId": "91fec247-8c3c-49e0-c888-6150f6b2dd83"
      },
      "source": [
        "model"
      ],
      "execution_count": 15,
      "outputs": [
        {
          "output_type": "execute_result",
          "data": {
            "text/plain": [
              "CNN(\n",
              "  (cnn1): Conv2d(1, 2, kernel_size=(2, 2), stride=(1, 1))\n",
              "  (maxpool1): MaxPool2d(kernel_size=2, stride=1, padding=0, dilation=1, ceil_mode=False)\n",
              "  (cnn2): Conv2d(2, 1, kernel_size=(2, 2), stride=(1, 1))\n",
              "  (maxpool2): MaxPool2d(kernel_size=2, stride=1, padding=0, dilation=1, ceil_mode=False)\n",
              "  (fc1): Linear(in_features=49, out_features=2, bias=True)\n",
              ")"
            ]
          },
          "metadata": {
            "tags": []
          },
          "execution_count": 15
        }
      ]
    },
    {
      "cell_type": "markdown",
      "metadata": {
        "id": "8tuxt5Q-Uhyr",
        "colab_type": "text"
      },
      "source": [
        "Plot the model parameters for the kernels before training the kernels. The kernels are initialized randomly."
      ]
    },
    {
      "cell_type": "code",
      "metadata": {
        "id": "HX3KqUXFUhyr",
        "colab_type": "code",
        "colab": {
          "base_uri": "https://localhost:8080/",
          "height": 252
        },
        "outputId": "a9f57e5d-a1c8-4cf9-a028-01f6feb8f310"
      },
      "source": [
        "\n",
        "plot_channels(model.state_dict()['cnn1.weight'])\n"
      ],
      "execution_count": 16,
      "outputs": [
        {
          "output_type": "display_data",
          "data": {
            "image/png": "[encoded data removed]",
            "text/plain": [
              "<Figure size 432x288 with 2 Axes>"
            ]
          },
          "metadata": {
            "tags": [],
            "needs_background": "light"
          }
        }
      ]
    },
    {
      "cell_type": "markdown",
      "metadata": {
        "id": "aY9_WBkdUhyu",
        "colab_type": "text"
      },
      "source": [
        "Loss function "
      ]
    },
    {
      "cell_type": "code",
      "metadata": {
        "id": "tkRoO1XRUhyu",
        "colab_type": "code",
        "colab": {
          "base_uri": "https://localhost:8080/",
          "height": 187
        },
        "outputId": "96dd2888-aedd-4065-eec4-25afe1687d56"
      },
      "source": [
        "plot_channels(model.state_dict()['cnn2.weight'])"
      ],
      "execution_count": 17,
      "outputs": [
        {
          "output_type": "display_data",
          "data": {
            "image/png": "[encoded data removed]",
            "text/plain": [
              "<Figure size 432x288 with 2 Axes>"
            ]
          },
          "metadata": {
            "tags": [],
            "needs_background": "light"
          }
        }
      ]
    },
    {
      "cell_type": "markdown",
      "metadata": {
        "id": "KPWdYArvUhyy",
        "colab_type": "text"
      },
      "source": [
        "Define the loss function "
      ]
    },
    {
      "cell_type": "code",
      "metadata": {
        "id": "AJYkRuUiUhyz",
        "colab_type": "code",
        "colab": {}
      },
      "source": [
        "criterion=nn.CrossEntropyLoss()"
      ],
      "execution_count": 18,
      "outputs": []
    },
    {
      "cell_type": "markdown",
      "metadata": {
        "id": "PNk3PCFdUhy3",
        "colab_type": "text"
      },
      "source": [
        " optimizer class "
      ]
    },
    {
      "cell_type": "code",
      "metadata": {
        "id": "ssECbYTKUhy3",
        "colab_type": "code",
        "colab": {}
      },
      "source": [
        "learning_rate=0.001\n",
        "\n",
        "optimizer = torch.optim.Adam(model.parameters(), lr=learning_rate)"
      ],
      "execution_count": 19,
      "outputs": []
    },
    {
      "cell_type": "markdown",
      "metadata": {
        "id": "12B_ZtsRUhy7",
        "colab_type": "text"
      },
      "source": [
        "Define the optimizer class "
      ]
    },
    {
      "cell_type": "code",
      "metadata": {
        "id": "ejqPS5CMUhy8",
        "colab_type": "code",
        "colab": {}
      },
      "source": [
        "\n",
        "train_loader=torch.utils.data.DataLoader(dataset=train_dataset,batch_size=10)\n",
        "validation_loader=torch.utils.data.DataLoader(dataset=validation_dataset,batch_size=20)"
      ],
      "execution_count": 20,
      "outputs": []
    },
    {
      "cell_type": "markdown",
      "metadata": {
        "id": "Goi1YoA2UhzA",
        "colab_type": "text"
      },
      "source": [
        "Train the model and determine validation accuracy technically test accuracy **(This may take a long time)**"
      ]
    },
    {
      "cell_type": "code",
      "metadata": {
        "id": "p62sWIF7UhzB",
        "colab_type": "code",
        "colab": {}
      },
      "source": [
        "n_epochs=10\n",
        "cost_list=[]\n",
        "accuracy_list=[]\n",
        "N_test=len(validation_dataset)\n",
        "cost=0\n",
        "#n_epochs\n",
        "for epoch in range(n_epochs):\n",
        "    cost=0    \n",
        "    for x, y in train_loader:\n",
        "      \n",
        "\n",
        "        #clear gradient \n",
        "        optimizer.zero_grad()\n",
        "        #make a prediction \n",
        "        z=model(x)\n",
        "        # calculate loss \n",
        "        loss=criterion(z,y)\n",
        "        # calculate gradients of parameters \n",
        "        loss.backward()\n",
        "        # update parameters \n",
        "        optimizer.step()\n",
        "        cost+=loss.item()\n",
        "    cost_list.append(cost)\n",
        "        \n",
        "        \n",
        "    correct=0\n",
        "    #perform a prediction on the validation  data  \n",
        "    for x_test, y_test in validation_loader:\n",
        "\n",
        "        z=model(x_test)\n",
        "        _,yhat=torch.max(z.data,1)\n",
        "\n",
        "        correct+=(yhat==y_test).sum().item()\n",
        "        \n",
        "\n",
        "    accuracy=correct/N_test\n",
        "\n",
        "    accuracy_list.append(accuracy)\n",
        "    \n",
        "\n"
      ],
      "execution_count": 21,
      "outputs": []
    },
    {
      "cell_type": "markdown",
      "metadata": {
        "id": "LT9GgtSJUhzF",
        "colab_type": "text"
      },
      "source": [
        "#### <a id=\"ref3\"></a>\n",
        "<h2 align=center>Analyse Results</h2> "
      ]
    },
    {
      "cell_type": "markdown",
      "metadata": {
        "id": "l5Z-ouz2UhzF",
        "colab_type": "text"
      },
      "source": [
        "Plot the loss and accuracy on the validation data:"
      ]
    },
    {
      "cell_type": "code",
      "metadata": {
        "id": "MwUmH4l4UhzG",
        "colab_type": "code",
        "colab": {
          "base_uri": "https://localhost:8080/",
          "height": 297
        },
        "outputId": "f72219f8-15ac-420f-cf19-17bd9ed6feef"
      },
      "source": [
        "fig, ax1 = plt.subplots()\n",
        "color = 'tab:red'\n",
        "ax1.plot(cost_list,color=color)\n",
        "ax1.set_xlabel('epoch',color=color)\n",
        "ax1.set_ylabel('total loss',color=color)\n",
        "ax1.tick_params(axis='y', color=color)\n",
        "    \n",
        "ax2 = ax1.twinx()  \n",
        "color = 'tab:blue'\n",
        "ax2.set_ylabel('accuracy', color=color)  \n",
        "ax2.plot( accuracy_list, color=color)\n",
        "ax2.tick_params(axis='y', labelcolor=color)\n",
        "fig.tight_layout()"
      ],
      "execution_count": 22,
      "outputs": [
        {
          "output_type": "display_data",
          "data": {
            "image/png": "[encoded data removed]",
            "text/plain": [
              "<Figure size 432x288 with 2 Axes>"
            ]
          },
          "metadata": {
            "tags": [],
            "needs_background": "light"
          }
        }
      ]
    },
    {
      "cell_type": "markdown",
      "metadata": {
        "id": "uLeB1ItkUhzJ",
        "colab_type": "text"
      },
      "source": [
        "View the results of the parameters for the Convolutional layers "
      ]
    },
    {
      "cell_type": "code",
      "metadata": {
        "id": "wS9lYXFkUhzK",
        "colab_type": "code",
        "colab": {
          "base_uri": "https://localhost:8080/",
          "height": 119
        },
        "outputId": "022a932f-c188-4e1a-a4db-54770518fafc"
      },
      "source": [
        "model.state_dict()['cnn1.weight']"
      ],
      "execution_count": 23,
      "outputs": [
        {
          "output_type": "execute_result",
          "data": {
            "text/plain": [
              "tensor([[[[ 0.3789,  0.4948],\n",
              "          [-0.0573, -0.0858]]],\n",
              "\n",
              "\n",
              "        [[[-0.4316, -0.3028],\n",
              "          [ 0.9248,  0.8535]]]])"
            ]
          },
          "metadata": {
            "tags": []
          },
          "execution_count": 23
        }
      ]
    },
    {
      "cell_type": "code",
      "metadata": {
        "id": "kp-pdXGwUhzN",
        "colab_type": "code",
        "colab": {
          "base_uri": "https://localhost:8080/",
          "height": 252
        },
        "outputId": "d70e189c-d6ae-459b-ab0a-923778ab3ebc"
      },
      "source": [
        "plot_channels(model.state_dict()['cnn1.weight'])"
      ],
      "execution_count": 24,
      "outputs": [
        {
          "output_type": "display_data",
          "data": {
            "image/png": "[encoded data removed]",
            "text/plain": [
              "<Figure size 432x288 with 2 Axes>"
            ]
          },
          "metadata": {
            "tags": [],
            "needs_background": "light"
          }
        }
      ]
    },
    {
      "cell_type": "code",
      "metadata": {
        "id": "dZvLOBoEUhzT",
        "colab_type": "code",
        "colab": {
          "base_uri": "https://localhost:8080/",
          "height": 119
        },
        "outputId": "29e6d55f-2f72-4963-fa03-807ae832828f"
      },
      "source": [
        "model.state_dict()['cnn1.weight']"
      ],
      "execution_count": 25,
      "outputs": [
        {
          "output_type": "execute_result",
          "data": {
            "text/plain": [
              "tensor([[[[ 0.3789,  0.4948],\n",
              "          [-0.0573, -0.0858]]],\n",
              "\n",
              "\n",
              "        [[[-0.4316, -0.3028],\n",
              "          [ 0.9248,  0.8535]]]])"
            ]
          },
          "metadata": {
            "tags": []
          },
          "execution_count": 25
        }
      ]
    },
    {
      "cell_type": "code",
      "metadata": {
        "id": "f4yqAbnpUhzW",
        "colab_type": "code",
        "colab": {
          "base_uri": "https://localhost:8080/",
          "height": 187
        },
        "outputId": "701a48a6-4e28-4980-a37e-33820b6d34f4"
      },
      "source": [
        "plot_channels(model.state_dict()['cnn2.weight'])"
      ],
      "execution_count": 26,
      "outputs": [
        {
          "output_type": "display_data",
          "data": {
            "image/png": "[encoded data removed]",
            "text/plain": [
              "<Figure size 432x288 with 2 Axes>"
            ]
          },
          "metadata": {
            "tags": [],
            "needs_background": "light"
          }
        }
      ]
    },
    {
      "cell_type": "markdown",
      "metadata": {
        "id": "FlxRBK03UhzZ",
        "colab_type": "text"
      },
      "source": [
        "\n",
        "\n",
        "Consider the following sample "
      ]
    },
    {
      "cell_type": "code",
      "metadata": {
        "id": "zlLGH_AiUhzZ",
        "colab_type": "code",
        "colab": {
          "base_uri": "https://localhost:8080/",
          "height": 281
        },
        "outputId": "d0d940e6-1d22-4a8f-fc9f-4394e1d4b573"
      },
      "source": [
        "show_data(train_dataset,N_images//2+2)"
      ],
      "execution_count": 27,
      "outputs": [
        {
          "output_type": "display_data",
          "data": {
            "image/png": "[encoded data removed]",
            "text/plain": [
              "<Figure size 432x288 with 1 Axes>"
            ]
          },
          "metadata": {
            "tags": [],
            "needs_background": "light"
          }
        }
      ]
    },
    {
      "cell_type": "markdown",
      "metadata": {
        "id": "XJVcR7ihUhzd",
        "colab_type": "text"
      },
      "source": [
        "Determine the activations "
      ]
    },
    {
      "cell_type": "code",
      "metadata": {
        "id": "Kjq5g2UbUhzd",
        "colab_type": "code",
        "colab": {}
      },
      "source": [
        "out=model.activations(train_dataset[N_images//2+2][0].view(1,1,11,11))\n",
        "out=model.activations(train_dataset[0][0].view(1,1,11,11))"
      ],
      "execution_count": 28,
      "outputs": []
    },
    {
      "cell_type": "markdown",
      "metadata": {
        "id": "DCZo7_8ZUhzg",
        "colab_type": "text"
      },
      "source": [
        "Plot them out"
      ]
    },
    {
      "cell_type": "code",
      "metadata": {
        "id": "0TTMAaPeUhzh",
        "colab_type": "code",
        "colab": {
          "base_uri": "https://localhost:8080/",
          "height": 214
        },
        "outputId": "046042cd-b61c-41e5-bb71-81521e4dc7f3"
      },
      "source": [
        "plot_activations(out[0],number_rows=1,name=\" feature map\")\n",
        "plt.show()\n"
      ],
      "execution_count": 29,
      "outputs": [
        {
          "output_type": "stream",
          "text": [
            "2\n"
          ],
          "name": "stdout"
        },
        {
          "output_type": "display_data",
          "data": {
            "image/png": "[encoded data removed]",
            "text/plain": [
              "<Figure size 432x288 with 2 Axes>"
            ]
          },
          "metadata": {
            "tags": []
          }
        }
      ]
    },
    {
      "cell_type": "code",
      "metadata": {
        "id": "OwNV9Vg6Uhzk",
        "colab_type": "code",
        "colab": {
          "base_uri": "https://localhost:8080/",
          "height": 282
        },
        "outputId": "18e9c394-3b3b-4ece-c2c3-5f4dc4d999d8"
      },
      "source": [
        "plot_activations(out[2],number_rows=1,name=\"2nd feature map\")\n",
        "plt.show()"
      ],
      "execution_count": 30,
      "outputs": [
        {
          "output_type": "stream",
          "text": [
            "1\n"
          ],
          "name": "stdout"
        },
        {
          "output_type": "display_data",
          "data": {
            "image/png": "[encoded data removed]",
            "text/plain": [
              "<Figure size 432x288 with 1 Axes>"
            ]
          },
          "metadata": {
            "tags": [],
            "needs_background": "light"
          }
        }
      ]
    },
    {
      "cell_type": "code",
      "metadata": {
        "id": "Mk-zkU5jUhzn",
        "colab_type": "code",
        "colab": {
          "base_uri": "https://localhost:8080/",
          "height": 282
        },
        "outputId": "5728a159-bbb9-435f-8edc-fac701d9ddc2"
      },
      "source": [
        "plot_activations(out[3],number_rows=1,name=\"first feature map\")\n",
        "plt.show()"
      ],
      "execution_count": 31,
      "outputs": [
        {
          "output_type": "stream",
          "text": [
            "1\n"
          ],
          "name": "stdout"
        },
        {
          "output_type": "display_data",
          "data": {
            "image/png": "[encoded data removed]",
            "text/plain": [
              "<Figure size 432x288 with 1 Axes>"
            ]
          },
          "metadata": {
            "tags": [],
            "needs_background": "light"
          }
        }
      ]
    },
    {
      "cell_type": "markdown",
      "metadata": {
        "id": "dHvx3xP7Uhzq",
        "colab_type": "text"
      },
      "source": [
        "we save the output of the activation after flattening  "
      ]
    },
    {
      "cell_type": "code",
      "metadata": {
        "id": "WprVuVZkUhzq",
        "colab_type": "code",
        "colab": {}
      },
      "source": [
        "out1=out[4][0].detach().numpy()"
      ],
      "execution_count": 32,
      "outputs": []
    },
    {
      "cell_type": "markdown",
      "metadata": {
        "id": "A6_NwSjCUhzt",
        "colab_type": "text"
      },
      "source": [
        "we can do the same for a sample  where y=0 "
      ]
    },
    {
      "cell_type": "code",
      "metadata": {
        "id": "ksMmXP-zUhzt",
        "colab_type": "code",
        "colab": {
          "base_uri": "https://localhost:8080/",
          "height": 170
        },
        "outputId": "e666a076-726f-4507-9939-54cf628008d1"
      },
      "source": [
        "out0=model.activations(train_dataset[100][0].view(1,1,11,11))[4][0].detach().numpy()\n",
        "out0"
      ],
      "execution_count": 33,
      "outputs": [
        {
          "output_type": "execute_result",
          "data": {
            "text/plain": [
              "array([0.744784 , 1.8151996, 2.44123  , 2.44123  , 2.44123  , 2.0641756,\n",
              "       0.99376  , 0.5915645, 1.328013 , 1.7893078, 1.7893078, 1.7893078,\n",
              "       1.5654728, 0.8290244, 0.5915645, 1.328013 , 1.7893078, 1.7893078,\n",
              "       1.7893078, 1.5654728, 0.8290244, 0.5915645, 1.328013 , 1.7893078,\n",
              "       1.7893078, 1.7893078, 1.5654728, 0.8290244, 0.5915645, 1.328013 ,\n",
              "       1.7893078, 1.7893078, 1.7893078, 1.5654728, 0.8290244, 0.5915645,\n",
              "       1.328013 , 1.7893078, 1.7893078, 1.7893078, 1.5654728, 0.8290244,\n",
              "       0.6080932, 1.4010719, 1.8927581, 1.8927581, 1.8927581, 1.6523947,\n",
              "       0.8594159], dtype=float32)"
            ]
          },
          "metadata": {
            "tags": []
          },
          "execution_count": 33
        }
      ]
    },
    {
      "cell_type": "code",
      "metadata": {
        "id": "iB4sB9XWUhzx",
        "colab_type": "code",
        "colab": {
          "base_uri": "https://localhost:8080/",
          "height": 312
        },
        "outputId": "58fd3146-dbe5-4dfb-99c8-c5ba0c60e7f9"
      },
      "source": [
        "plt.subplot(2, 1, 1)\n",
        "plt.plot( out1, 'b')\n",
        "plt.title('Flatted Activation Values  ')\n",
        "plt.ylabel('Activation')\n",
        "plt.xlabel('index')\n",
        "plt.subplot(2, 1, 2)\n",
        "plt.plot(out0, 'r')\n",
        "plt.xlabel('index')\n",
        "plt.ylabel('Activation')"
      ],
      "execution_count": 34,
      "outputs": [
        {
          "output_type": "execute_result",
          "data": {
            "text/plain": [
              "Text(0, 0.5, 'Activation')"
            ]
          },
          "metadata": {
            "tags": []
          },
          "execution_count": 34
        },
        {
          "output_type": "display_data",
          "data": {
            "image/png": "[encoded data removed]",
            "text/plain": [
              "<Figure size 432x288 with 2 Axes>"
            ]
          },
          "metadata": {
            "tags": [],
            "needs_background": "light"
          }
        }
      ]
    }
  ]
}