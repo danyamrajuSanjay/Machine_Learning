{
  "nbformat": 4,
  "nbformat_minor": 0,
  "metadata": {
    "kernelspec": {
      "display_name": "Python",
      "language": "python",
      "name": "conda-env-python-py"
    },
    "language_info": {
      "codemirror_mode": {
        "name": "ipython",
        "version": 3
      },
      "file_extension": ".py",
      "mimetype": "text/x-python",
      "name": "python",
      "nbconvert_exporter": "python",
      "pygments_lexer": "ipython3",
      "version": "3.6.7"
    },
    "colab": {
      "name": "torch CNN2 Max pooling and activation functions.ipynb",
      "provenance": [],
      "include_colab_link": true
    }
  },
  "cells": [
    {
      "cell_type": "markdown",
      "metadata": {
        "id": "view-in-github",
        "colab_type": "text"
      },
      "source": [
        "<a href=\"https://colab.research.google.com/github/danyamrajuSanjay/Machine_Learning/blob/master/torch_CNN2_Max_pooling_and_activation_functions.ipynb\" target=\"_parent\"><img src=\"https://colab.research.google.com/assets/colab-badge.svg\" alt=\"Open In Colab\"/></a>"
      ]
    },
    {
      "cell_type": "markdown",
      "metadata": {
        "id": "at94ya7Eddli",
        "colab_type": "text"
      },
      "source": [
        "\n",
        "# Table of Contents\n",
        "In this lab, you will learn two important components in building a convolutional neural network. The first is applying an activation function, which is analogous to building a regular network. You will also learn about max pooling. Max pooling reduces the number of parameters and makes the network less susceptible to changes in the image. \n",
        "\n",
        "\n",
        "<li><a href=\"#ref0\">Activation Functions</a></li>\n",
        "\n",
        "<li><a href=\"#ref1\">Max Pooling</a></li>\n",
        "\n",
        "\n",
        "<br>\n",
        "<p></p>\n",
        "Estimated Time Needed: <strong>25 min</strong>\n",
        "</div>\n",
        "\n",
        "<hr>"
      ]
    },
    {
      "cell_type": "markdown",
      "metadata": {
        "id": "ndwIv4widdlj",
        "colab_type": "text"
      },
      "source": [
        "Import the following libraries:"
      ]
    },
    {
      "cell_type": "code",
      "metadata": {
        "id": "IUr--2fnddlk",
        "colab_type": "code",
        "colab": {}
      },
      "source": [
        "import torch \n",
        "import torch.nn as nn\n",
        "import matplotlib.pyplot as plt\n",
        "import numpy as np\n",
        "from scipy import ndimage, misc\n"
      ],
      "execution_count": 1,
      "outputs": []
    },
    {
      "cell_type": "markdown",
      "metadata": {
        "id": "J1aWIEuwddlo",
        "colab_type": "text"
      },
      "source": [
        "<a id=\"ref0\"></a>\n",
        "<h2 align=center>Activation Functions  </h2>"
      ]
    },
    {
      "cell_type": "markdown",
      "metadata": {
        "id": "7tKV7u_Iddlp",
        "colab_type": "text"
      },
      "source": [
        "Just like a neural network, you apply an activation function to the activation map as shown in the following image:"
      ]
    },
    {
      "cell_type": "markdown",
      "metadata": {
        "id": "s8OXAZNNddlq",
        "colab_type": "text"
      },
      "source": [
        "<img src = \"https://s3-api.us-geo.objectstorage.softlayer.net/cf-courses-data/CognitiveClass/DL0110EN/notebook_images%20/chapter%206/6.1.3block_digram.png\" width = 1000, align = \"center\">"
      ]
    },
    {
      "cell_type": "markdown",
      "metadata": {
        "id": "flfdKWBaddlr",
        "colab_type": "text"
      },
      "source": [
        "Create a kernel and image as usual. Set the bias to zero: "
      ]
    },
    {
      "cell_type": "code",
      "metadata": {
        "id": "-n6EoI3Mddls",
        "colab_type": "code",
        "colab": {
          "base_uri": "https://localhost:8080/",
          "height": 68
        },
        "outputId": "9ee6c892-c10f-42a1-c5e1-2ea1a2a1bbdf"
      },
      "source": [
        "conv = nn.Conv2d(in_channels=1, out_channels=1,kernel_size=3)\n",
        "Gx=torch.tensor([[1.0,0,-1.0],[2.0,0,-2.0],[1.0,0,-1.0]])\n",
        "conv.state_dict()['weight'][0][0]=Gx\n",
        "conv.state_dict()['bias'][0]=0.0\n",
        "conv.state_dict()"
      ],
      "execution_count": 2,
      "outputs": [
        {
          "output_type": "execute_result",
          "data": {
            "text/plain": [
              "OrderedDict([('weight', tensor([[[[ 1.,  0., -1.],\n",
              "                        [ 2.,  0., -2.],\n",
              "                        [ 1.,  0., -1.]]]])), ('bias', tensor([0.]))])"
            ]
          },
          "metadata": {
            "tags": []
          },
          "execution_count": 2
        }
      ]
    },
    {
      "cell_type": "code",
      "metadata": {
        "id": "xiL0mtyuddlv",
        "colab_type": "code",
        "colab": {
          "base_uri": "https://localhost:8080/",
          "height": 102
        },
        "outputId": "9e105331-2c10-463a-9799-e177ad027e2c"
      },
      "source": [
        "image=torch.zeros(1,1,5,5)\n",
        "image[0,0,:,2]=1\n",
        "image"
      ],
      "execution_count": 3,
      "outputs": [
        {
          "output_type": "execute_result",
          "data": {
            "text/plain": [
              "tensor([[[[0., 0., 1., 0., 0.],\n",
              "          [0., 0., 1., 0., 0.],\n",
              "          [0., 0., 1., 0., 0.],\n",
              "          [0., 0., 1., 0., 0.],\n",
              "          [0., 0., 1., 0., 0.]]]])"
            ]
          },
          "metadata": {
            "tags": []
          },
          "execution_count": 3
        }
      ]
    },
    {
      "cell_type": "markdown",
      "metadata": {
        "id": "ChGc8Tq2ddl0",
        "colab_type": "text"
      },
      "source": [
        "The following image shows the image and kernel: "
      ]
    },
    {
      "cell_type": "markdown",
      "metadata": {
        "id": "-1oW3G-Wddl2",
        "colab_type": "text"
      },
      "source": [
        "<img src = \"https://s3-api.us-geo.objectstorage.softlayer.net/cf-courses-data/CognitiveClass/DL0110EN/notebook_images%20/chapter%206/6.1.3kernal_out.png\" width = 500, align = \"center\">"
      ]
    },
    {
      "cell_type": "markdown",
      "metadata": {
        "id": "vzULpqcTddl2",
        "colab_type": "text"
      },
      "source": [
        "Apply convolution to the image: "
      ]
    },
    {
      "cell_type": "code",
      "metadata": {
        "id": "vOUBH6Hbddl3",
        "colab_type": "code",
        "colab": {
          "base_uri": "https://localhost:8080/",
          "height": 68
        },
        "outputId": "3a6c1742-ba49-4198-d4aa-66eec6e42ef2"
      },
      "source": [
        "Z=conv(image)\n",
        "Z"
      ],
      "execution_count": 4,
      "outputs": [
        {
          "output_type": "execute_result",
          "data": {
            "text/plain": [
              "tensor([[[[-4.,  0.,  4.],\n",
              "          [-4.,  0.,  4.],\n",
              "          [-4.,  0.,  4.]]]], grad_fn=<MkldnnConvolutionBackward>)"
            ]
          },
          "metadata": {
            "tags": []
          },
          "execution_count": 4
        }
      ]
    },
    {
      "cell_type": "markdown",
      "metadata": {
        "id": "mxv6yv6bddl6",
        "colab_type": "text"
      },
      "source": [
        "Apply the activation function to the activation map. This will apply the activation function to each element in the activation map."
      ]
    },
    {
      "cell_type": "code",
      "metadata": {
        "id": "7GoXEmIxddl7",
        "colab_type": "code",
        "colab": {
          "base_uri": "https://localhost:8080/",
          "height": 68
        },
        "outputId": "6b16a97d-dd50-4c8b-dd9d-7b0daa75d837"
      },
      "source": [
        "A=torch.relu(Z)\n",
        "A"
      ],
      "execution_count": 5,
      "outputs": [
        {
          "output_type": "execute_result",
          "data": {
            "text/plain": [
              "tensor([[[[0., 0., 4.],\n",
              "          [0., 0., 4.],\n",
              "          [0., 0., 4.]]]], grad_fn=<ReluBackward0>)"
            ]
          },
          "metadata": {
            "tags": []
          },
          "execution_count": 5
        }
      ]
    },
    {
      "cell_type": "markdown",
      "metadata": {
        "id": "gsUHubXLddmA",
        "colab_type": "text"
      },
      "source": [
        ""
      ]
    },
    {
      "cell_type": "code",
      "metadata": {
        "id": "Pu8KZUVIddmB",
        "colab_type": "code",
        "colab": {
          "base_uri": "https://localhost:8080/",
          "height": 68
        },
        "outputId": "8871c535-2fbf-4ced-8d6b-75ecf0b157de"
      },
      "source": [
        "relu = nn.ReLU()\n",
        "relu(Z)"
      ],
      "execution_count": 6,
      "outputs": [
        {
          "output_type": "execute_result",
          "data": {
            "text/plain": [
              "tensor([[[[0., 0., 4.],\n",
              "          [0., 0., 4.],\n",
              "          [0., 0., 4.]]]], grad_fn=<ReluBackward0>)"
            ]
          },
          "metadata": {
            "tags": []
          },
          "execution_count": 6
        }
      ]
    },
    {
      "cell_type": "markdown",
      "metadata": {
        "id": "lOgrLG2tddmE",
        "colab_type": "text"
      },
      "source": [
        "The process is summarized in the the following figure. The Relu function is applied to each element. All the elements less than zero are mapped to zero. The remaining components do not change."
      ]
    },
    {
      "cell_type": "markdown",
      "metadata": {
        "id": "WxU2hM52ddmE",
        "colab_type": "text"
      },
      "source": [
        "<img src = \"https://s3-api.us-geo.objectstorage.softlayer.net/cf-courses-data/CognitiveClass/DL0110EN/notebook_images%20/chapter%206/6.2.3_block_example.gif\" width = 1000, align = \"center\">"
      ]
    },
    {
      "cell_type": "markdown",
      "metadata": {
        "id": "2s_Cn3eOddmF",
        "colab_type": "text"
      },
      "source": [
        "<a id=\"ref1\"></a>\n",
        "<h2 align=center>Max Pooling </h2>"
      ]
    },
    {
      "cell_type": "markdown",
      "metadata": {
        "id": "X-oTxMLkddmG",
        "colab_type": "text"
      },
      "source": [
        "Consider the following image: "
      ]
    },
    {
      "cell_type": "code",
      "metadata": {
        "id": "wYXolbIrddmG",
        "colab_type": "code",
        "colab": {
          "base_uri": "https://localhost:8080/",
          "height": 85
        },
        "outputId": "8e0bc586-c275-49e7-90bd-8579a568da59"
      },
      "source": [
        "image1=torch.zeros(1,1,4,4)\n",
        "image1[0,0,0,:]=torch.tensor([1.0,2.0,3.0,-4.0])\n",
        "image1[0,0,1,:]=torch.tensor([0.0,2.0,-3.0,0.0])\n",
        "image1[0,0,2,:]=torch.tensor([0.0,2.0,3.0,1.0])\n",
        "\n",
        "image1"
      ],
      "execution_count": 7,
      "outputs": [
        {
          "output_type": "execute_result",
          "data": {
            "text/plain": [
              "tensor([[[[ 1.,  2.,  3., -4.],\n",
              "          [ 0.,  2., -3.,  0.],\n",
              "          [ 0.,  2.,  3.,  1.],\n",
              "          [ 0.,  0.,  0.,  0.]]]])"
            ]
          },
          "metadata": {
            "tags": []
          },
          "execution_count": 7
        }
      ]
    },
    {
      "cell_type": "markdown",
      "metadata": {
        "id": "f9k70zrTddmJ",
        "colab_type": "text"
      },
      "source": [
        "Max pooling simply takes the maximum value in each region. Consider the following image. For the first region, max pooling simply takes the largest element in a yellow region.   "
      ]
    },
    {
      "cell_type": "markdown",
      "metadata": {
        "id": "r9m6hyY0ddmK",
        "colab_type": "text"
      },
      "source": [
        "<img src = \"https://s3-api.us-geo.objectstorage.softlayer.net/cf-courses-data/CognitiveClass/DL0110EN/notebook_images%20/chapter%206/6.1.3maxpool_1.png\" width = 500, align = \"center\">"
      ]
    },
    {
      "cell_type": "markdown",
      "metadata": {
        "id": "xdOSdODlddmK",
        "colab_type": "text"
      },
      "source": [
        "The region shifts, and the process is repeated. The process is similar to convolution and is demonstrated in the following figure:"
      ]
    },
    {
      "cell_type": "markdown",
      "metadata": {
        "id": "kfV0KeHBddmL",
        "colab_type": "text"
      },
      "source": [
        "<img src = \"https://s3-api.us-geo.objectstorage.softlayer.net/cf-courses-data/CognitiveClass/DL0110EN/notebook_images%20/chapter%206/6.1.3_max_pool_animation.gif\" width = 500, align = \"center\">"
      ]
    },
    {
      "cell_type": "markdown",
      "metadata": {
        "id": "dXStL8IkddmL",
        "colab_type": "text"
      },
      "source": [
        "Create a maxpooling object in 2d as follows and perform max pooling as follows:  "
      ]
    },
    {
      "cell_type": "code",
      "metadata": {
        "id": "bnz-3DxIddmN",
        "colab_type": "code",
        "colab": {
          "base_uri": "https://localhost:8080/",
          "height": 68
        },
        "outputId": "d59f4293-7f0e-477d-d7b7-79a8a265c46d"
      },
      "source": [
        "max1=torch.nn.MaxPool2d(2,stride=1)\n",
        "max1(image1)"
      ],
      "execution_count": 8,
      "outputs": [
        {
          "output_type": "execute_result",
          "data": {
            "text/plain": [
              "tensor([[[[2., 3., 3.],\n",
              "          [2., 3., 3.],\n",
              "          [2., 3., 3.]]]])"
            ]
          },
          "metadata": {
            "tags": []
          },
          "execution_count": 8
        }
      ]
    },
    {
      "cell_type": "markdown",
      "metadata": {
        "id": "UZS0QdO-ddmR",
        "colab_type": "text"
      },
      "source": [
        "If the stride is set to None (its defaults setting), the process will simply take the maximum in a prescribed area and shift over accordingly as shown in the following figure:"
      ]
    },
    {
      "cell_type": "markdown",
      "metadata": {
        "id": "F4oGOuI4ddmS",
        "colab_type": "text"
      },
      "source": [
        "<img src = \"https://s3-api.us-geo.objectstorage.softlayer.net/cf-courses-data/CognitiveClass/DL0110EN/notebook_images%20/chapter%206/6.1.3_max_pool_animation_2.gif\" width = 500, align = \"center\">"
      ]
    },
    {
      "cell_type": "markdown",
      "metadata": {
        "id": "Zjt0YBfAddmS",
        "colab_type": "text"
      },
      "source": [
        "Here's the code in Pytorch:  "
      ]
    },
    {
      "cell_type": "code",
      "metadata": {
        "id": "vG2MC_KJddmT",
        "colab_type": "code",
        "colab": {
          "base_uri": "https://localhost:8080/",
          "height": 51
        },
        "outputId": "96340661-4c98-46a9-c544-e855ffa0c6c9"
      },
      "source": [
        "max1=torch.nn.MaxPool2d(2)\n",
        "max1(image1)"
      ],
      "execution_count": 9,
      "outputs": [
        {
          "output_type": "execute_result",
          "data": {
            "text/plain": [
              "tensor([[[[2., 3.],\n",
              "          [2., 3.]]]])"
            ]
          },
          "metadata": {
            "tags": []
          },
          "execution_count": 9
        }
      ]
    }
  ]
}