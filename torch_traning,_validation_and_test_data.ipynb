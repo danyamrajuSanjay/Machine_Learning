{
  "nbformat": 4,
  "nbformat_minor": 0,
  "metadata": {
    "kernelspec": {
      "display_name": "Python 3",
      "language": "python",
      "name": "python3"
    },
    "language_info": {
      "codemirror_mode": {
        "name": "ipython",
        "version": 3
      },
      "file_extension": ".py",
      "mimetype": "text/x-python",
      "name": "python",
      "nbconvert_exporter": "python",
      "pygments_lexer": "ipython3",
      "version": "3.6.8"
    },
    "colab": {
      "name": "torch traning, validation and test data.ipynb",
      "provenance": [],
      "include_colab_link": true
    }
  },
  "cells": [
    {
      "cell_type": "markdown",
      "metadata": {
        "id": "view-in-github",
        "colab_type": "text"
      },
      "source": [
        "<a href=\"https://colab.research.google.com/github/danyamrajuSanjay/Machine_Learning/blob/master/torch_traning%2C_validation_and_test_data.ipynb\" target=\"_parent\"><img src=\"https://colab.research.google.com/assets/colab-badge.svg\" alt=\"Open In Colab\"/></a>"
      ]
    },
    {
      "cell_type": "markdown",
      "metadata": {
        "id": "dCkLuLX3wlt3",
        "colab_type": "text"
      },
      "source": [
        "<h1>Linear regression: Training and Validation Data</h1> "
      ]
    },
    {
      "cell_type": "markdown",
      "metadata": {
        "id": "h3pv3ekkwlt4",
        "colab_type": "text"
      },
      "source": [
        "<h2>Table of Contents</h2>\n",
        "<p>In this lab, you will learn to select the best learning rate by using validation data.</p>\n",
        "\n",
        "<ul>\n",
        "    <li><a href=\"#Makeup_Data\">Make Some Data</a></li>\n",
        "    <li><a href=\"#LR_Loader_Cost\">Create a Linear Regression Object, Data Loader and Criterion Function</a></li>\n",
        "    <li><a href=\"#LR_Hyper\">Different learning rates and Data Structures to Store results for Different Hyperparameters</a></li>\n",
        "    <li><a href=\"#Model\">Train different modules for different Hyperparameters</a></li>\n",
        "    <li><a href=\"#Result\">View Results</a></li>\n",
        "</ul>\n",
        "\n",
        "<p>Estimated Time Needed: <strong>30 min</strong></p>\n",
        "\n",
        "<hr>"
      ]
    },
    {
      "cell_type": "markdown",
      "metadata": {
        "id": "Dg4OmWLQwlt5",
        "colab_type": "text"
      },
      "source": [
        "<h2>Preparation</h2>"
      ]
    },
    {
      "cell_type": "markdown",
      "metadata": {
        "id": "b0s2mF85wlt7",
        "colab_type": "text"
      },
      "source": [
        "We'll need the following libraries and set the random seed."
      ]
    },
    {
      "cell_type": "code",
      "metadata": {
        "id": "Er3euCrKwlt8",
        "colab_type": "code",
        "colab": {}
      },
      "source": [
        "# Import libraries we need for this lab, and set the random seed\n",
        "\n",
        "from torch import nn\n",
        "import torch\n",
        "import numpy as np\n",
        "import matplotlib.pyplot as plt\n",
        "from torch import nn,optim"
      ],
      "execution_count": 1,
      "outputs": []
    },
    {
      "cell_type": "markdown",
      "metadata": {
        "id": "RfuX_BlwwluA",
        "colab_type": "text"
      },
      "source": [
        "<!--Empty Space for separating topics-->"
      ]
    },
    {
      "cell_type": "markdown",
      "metadata": {
        "id": "-rKtvNcDwluB",
        "colab_type": "text"
      },
      "source": [
        "<h2 id=\"Makeup_Data\">Make Some Data</h2>"
      ]
    },
    {
      "cell_type": "markdown",
      "metadata": {
        "id": "BgO0HKrfwluC",
        "colab_type": "text"
      },
      "source": [
        "First, we'll create some artificial data in a dataset class. The class will include the option to produce training data or validation data. The training data will include outliers."
      ]
    },
    {
      "cell_type": "code",
      "metadata": {
        "id": "42mqsiv_wluD",
        "colab_type": "code",
        "colab": {}
      },
      "source": [
        "# Create Data class\n",
        "\n",
        "from torch.utils.data import Dataset, DataLoader\n",
        "\n",
        "class Data(Dataset):\n",
        "    \n",
        "    # Constructor\n",
        "    def __init__(self, train = True):\n",
        "            self.x = torch.arange(-3, 3, 0.1).view(-1, 1)\n",
        "            self.f = -3 * self.x + 1\n",
        "            self.y = self.f + 0.1 * torch.randn(self.x.size())\n",
        "            self.len = self.x.shape[0]\n",
        "            \n",
        "            #outliers \n",
        "            if train == True:\n",
        "                self.y[0] = 0\n",
        "                self.y[50:55] = 20\n",
        "            else:\n",
        "                pass\n",
        "      \n",
        "    # Getter\n",
        "    def __getitem__(self, index):    \n",
        "        return self.x[index], self.y[index]\n",
        "    \n",
        "    # Get Length\n",
        "    def __len__(self):\n",
        "        return self.len"
      ],
      "execution_count": 2,
      "outputs": []
    },
    {
      "cell_type": "markdown",
      "metadata": {
        "id": "pz4DUDZbwluH",
        "colab_type": "text"
      },
      "source": [
        "Create two objects: one that contains training data and a second that contains validation data. Assume that the training data has the outliers. "
      ]
    },
    {
      "cell_type": "code",
      "metadata": {
        "id": "cCAl50GvwluI",
        "colab_type": "code",
        "colab": {}
      },
      "source": [
        "# Create training dataset and validation dataset\n",
        "\n",
        "train_data = Data()\n",
        "val_data = Data(train = False)"
      ],
      "execution_count": 3,
      "outputs": []
    },
    {
      "cell_type": "markdown",
      "metadata": {
        "id": "i9SNbS9fwluN",
        "colab_type": "text"
      },
      "source": [
        "Overlay the training points in red over the function that generated the data. Notice the outliers at x=-3 and around x=2:"
      ]
    },
    {
      "cell_type": "code",
      "metadata": {
        "id": "LnMf4-cewluO",
        "colab_type": "code",
        "colab": {
          "base_uri": "https://localhost:8080/",
          "height": 279
        },
        "outputId": "8eaee588-f1f7-4f01-ba76-7d9e3fff5a18"
      },
      "source": [
        "# Plot out training points\n",
        "\n",
        "plt.plot(train_data.x.numpy(), train_data.y.numpy(), 'xr',label=\"training data \")\n",
        "plt.plot(train_data.x.numpy(), train_data.f.numpy(),label=\"true function  \")\n",
        "plt.xlabel('x')\n",
        "plt.ylabel('y')\n",
        "plt.legend()\n",
        "plt.show()"
      ],
      "execution_count": 4,
      "outputs": [
        {
          "output_type": "display_data",
          "data": {
            "image/png": "[encoded data removed]",
            "text/plain": [
              "<Figure size 432x288 with 1 Axes>"
            ]
          },
          "metadata": {
            "tags": [],
            "needs_background": "light"
          }
        }
      ]
    },
    {
      "cell_type": "markdown",
      "metadata": {
        "id": "iaIwkFTrwluR",
        "colab_type": "text"
      },
      "source": [
        "<!--Empty Space for separating topics-->"
      ]
    },
    {
      "cell_type": "markdown",
      "metadata": {
        "id": "5F3fdr0nwluS",
        "colab_type": "text"
      },
      "source": [
        "<h2 id=\"LR_Loader_Cost\">Create a Linear Regression Object,  Data Loader, and Criterion Function</h2>"
      ]
    },
    {
      "cell_type": "code",
      "metadata": {
        "id": "PtlAc03PwluT",
        "colab_type": "code",
        "colab": {}
      },
      "source": [
        "# Create Linear Regression Class\n",
        "\n",
        "from torch import nn\n",
        "\n",
        "class linear_regression(nn.Module):\n",
        "    \n",
        "    # Constructor\n",
        "    def __init__(self, input_size, output_size):\n",
        "        super(linear_regression, self).__init__()\n",
        "        self.linear = nn.Linear(input_size, output_size)\n",
        "    \n",
        "    # Prediction function\n",
        "    def forward(self, x):\n",
        "        yhat = self.linear(x)\n",
        "        return yhat"
      ],
      "execution_count": 5,
      "outputs": []
    },
    {
      "cell_type": "markdown",
      "metadata": {
        "id": "7I7aEOX3wluY",
        "colab_type": "text"
      },
      "source": [
        "Create the criterion function and a <code>DataLoader</code> object: "
      ]
    },
    {
      "cell_type": "code",
      "metadata": {
        "id": "PIoq-ux4wluZ",
        "colab_type": "code",
        "colab": {}
      },
      "source": [
        "# Create MSELoss function and DataLoader\n",
        "\n",
        "criterion = nn.MSELoss()\n",
        "trainloader = DataLoader(dataset = train_data, batch_size = 1)"
      ],
      "execution_count": 6,
      "outputs": []
    },
    {
      "cell_type": "markdown",
      "metadata": {
        "id": "5Up0L8HAwluc",
        "colab_type": "text"
      },
      "source": [
        "<!--Empty Space for separating topics-->"
      ]
    },
    {
      "cell_type": "markdown",
      "metadata": {
        "id": "qGrqe-5Lwlud",
        "colab_type": "text"
      },
      "source": [
        "<h2 id=\"LR_Hyper\">Different learning rates and Data Structures to Store results for different Hyperparameters</h2>"
      ]
    },
    {
      "cell_type": "markdown",
      "metadata": {
        "id": "5ahUi3Prwlud",
        "colab_type": "text"
      },
      "source": [
        "Create a list with different learning rates and a tensor (can be a list) for the training and validating cost/total loss. Include the list MODELS, which stores the training model for every value of the learning rate. "
      ]
    },
    {
      "cell_type": "code",
      "metadata": {
        "id": "DFXIhAZ3wlue",
        "colab_type": "code",
        "colab": {}
      },
      "source": [
        "# Create Learning Rate list, the error lists and the MODELS list\n",
        "\n",
        "learning_rates=[0.0001, 0.001, 0.01, 0.1]\n",
        "\n",
        "train_error=torch.zeros(len(learning_rates))\n",
        "validation_error=torch.zeros(len(learning_rates))\n",
        "\n",
        "MODELS=[]"
      ],
      "execution_count": 7,
      "outputs": []
    },
    {
      "cell_type": "markdown",
      "metadata": {
        "id": "wavd4viGwlug",
        "colab_type": "text"
      },
      "source": [
        "<!--Empty Space for separating topics-->"
      ]
    },
    {
      "cell_type": "markdown",
      "metadata": {
        "id": "UsZ1_ScFwluh",
        "colab_type": "text"
      },
      "source": [
        "<h2 id=\"Model\">Train different models  for different Hyperparameters</h2>"
      ]
    },
    {
      "cell_type": "markdown",
      "metadata": {
        "id": "585vc_QIwluh",
        "colab_type": "text"
      },
      "source": [
        "Try different values of learning rates, perform stochastic gradient descent, and save the results on the training data and validation data. Finally, save each model in a list."
      ]
    },
    {
      "cell_type": "code",
      "metadata": {
        "id": "PLr1Lvabwlui",
        "colab_type": "code",
        "colab": {}
      },
      "source": [
        "# Define the train model function and train the model\n",
        "\n",
        "def train_model_with_lr (iter, lr_list):\n",
        "    \n",
        "    # iterate through different learning rates \n",
        "    for i, lr in enumerate(lr_list):\n",
        "        model = linear_regression(1, 1)\n",
        "        optimizer = optim.SGD(model.parameters(), lr = lr)\n",
        "        for epoch in range(iter):\n",
        "            for x, y in trainloader:\n",
        "                yhat = model(x)\n",
        "                loss = criterion(yhat, y)\n",
        "                optimizer.zero_grad()\n",
        "                loss.backward()\n",
        "                optimizer.step()\n",
        "                \n",
        "        # train data\n",
        "        Yhat = model(train_data.x)\n",
        "        train_loss = criterion(Yhat, train_data.y)\n",
        "        train_error[i] = train_loss.item()\n",
        "    \n",
        "        # validation data\n",
        "        Yhat = model(val_data.x)\n",
        "        val_loss = criterion(Yhat, val_data.y)\n",
        "        validation_error[i] = val_loss.item()\n",
        "        MODELS.append(model)\n",
        "\n",
        "train_model_with_lr(10, learning_rates)"
      ],
      "execution_count": 8,
      "outputs": []
    },
    {
      "cell_type": "markdown",
      "metadata": {
        "id": "etOQ1kluwlum",
        "colab_type": "text"
      },
      "source": [
        "<!--Empty Space for separating topics-->"
      ]
    },
    {
      "cell_type": "markdown",
      "metadata": {
        "id": "q4bBOTASwlun",
        "colab_type": "text"
      },
      "source": [
        "<h2 id=\"Result\">View the Results</h2>"
      ]
    },
    {
      "cell_type": "markdown",
      "metadata": {
        "id": "XuO3tvfbwluo",
        "colab_type": "text"
      },
      "source": [
        "Plot the training loss and validation loss for each learning rate:  "
      ]
    },
    {
      "cell_type": "code",
      "metadata": {
        "id": "Id7QuV_fwluo",
        "colab_type": "code",
        "colab": {
          "base_uri": "https://localhost:8080/",
          "height": 283
        },
        "outputId": "532791c9-cbc0-436e-da4b-062b82f96da4"
      },
      "source": [
        "# Plot the training loss and validation loss\n",
        "\n",
        "plt.semilogx(np.array(learning_rates), train_error.numpy(), label = 'training loss/total Loss')\n",
        "plt.semilogx(np.array(learning_rates), validation_error.numpy(), label = 'validation cost/total Loss')\n",
        "plt.ylabel('Cost\\ Total Loss')\n",
        "plt.xlabel('learning rate')\n",
        "plt.legend()\n",
        "plt.show()"
      ],
      "execution_count": 9,
      "outputs": [
        {
          "output_type": "display_data",
          "data": {
            "image/png": "[encoded data removed]",
            "text/plain": [
              "<Figure size 432x288 with 1 Axes>"
            ]
          },
          "metadata": {
            "tags": [],
            "needs_background": "light"
          }
        }
      ]
    },
    {
      "cell_type": "markdown",
      "metadata": {
        "id": "kryat4Dywlur",
        "colab_type": "text"
      },
      "source": [
        "Produce a prediction by using the validation data for each model:  "
      ]
    },
    {
      "cell_type": "code",
      "metadata": {
        "id": "RhWfhg6qwlus",
        "colab_type": "code",
        "colab": {
          "base_uri": "https://localhost:8080/",
          "height": 483
        },
        "outputId": "a6bc1125-9c22-4062-87cc-4970990de072"
      },
      "source": [
        "\n",
        "\n",
        "\n",
        "\n",
        "\n",
        "# Plot the predictions\n",
        "\n",
        "i = 0\n",
        "for model, learning_rate in zip(MODELS, learning_rates):\n",
        "    yhat = model(val_data.x)\n",
        "    plt.plot(val_data.x.numpy(), yhat.detach().numpy(), label = 'lr:' + str(learning_rate))\n",
        "    print('i', yhat.detach().numpy()[0:3])\n",
        "plt.plot(val_data.x.numpy(), val_data.f.numpy(), 'or', label = 'validation data')\n",
        "plt.xlabel('x')\n",
        "plt.ylabel('y')\n",
        "plt.legend()\n",
        "plt.show()"
      ],
      "execution_count": 10,
      "outputs": [
        {
          "output_type": "stream",
          "text": [
            "i [[3.1687655]\n",
            " [3.102204 ]\n",
            " [3.0356424]]\n",
            "i [[5.4746575]\n",
            " [5.355521 ]\n",
            " [5.2363844]]\n",
            "i [[6.5541244]\n",
            " [6.420836 ]\n",
            " [6.287547 ]]\n",
            "i [[14.296223]\n",
            " [13.866957]\n",
            " [13.437691]]\n"
          ],
          "name": "stdout"
        },
        {
          "output_type": "display_data",
          "data": {
            "image/png": "[encoded data removed]",
            "text/plain": [
              "<Figure size 432x288 with 1 Axes>"
            ]
          },
          "metadata": {
            "tags": [],
            "needs_background": "light"
          }
        }
      ]
    },
    {
      "cell_type": "markdown",
      "metadata": {
        "id": "65Djt-4Ewluv",
        "colab_type": "text"
      },
      "source": [
        "<!--Empty Space for separating topics-->"
      ]
    },
    {
      "cell_type": "markdown",
      "metadata": {
        "id": "cZz2J3VIwluv",
        "colab_type": "text"
      },
      "source": [
        "<h3>Practice</h3>"
      ]
    },
    {
      "cell_type": "markdown",
      "metadata": {
        "id": "hiIuCGn-wluy",
        "colab_type": "text"
      },
      "source": [
        "The object <code>good_model</code> is the best performing model. Use the train loader to get the data samples x and y. Produce an estimate for <code>yhat</code> and print it out for every sample in a for a loop. Compare it to the actual prediction <code>y</code>."
      ]
    }
  ]
}