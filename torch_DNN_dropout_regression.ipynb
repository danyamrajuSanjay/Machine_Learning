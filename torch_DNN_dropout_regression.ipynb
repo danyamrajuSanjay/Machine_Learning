{
  "nbformat": 4,
  "nbformat_minor": 0,
  "metadata": {
    "kernelspec": {
      "display_name": "Python 3",
      "language": "python",
      "name": "python3"
    },
    "language_info": {
      "codemirror_mode": {
        "name": "ipython",
        "version": 3
      },
      "file_extension": ".py",
      "mimetype": "text/x-python",
      "name": "python",
      "nbconvert_exporter": "python",
      "pygments_lexer": "ipython3",
      "version": "3.6.5"
    },
    "colab": {
      "name": "torch DNN dropout regression.ipynb",
      "provenance": [],
      "include_colab_link": true
    }
  },
  "cells": [
    {
      "cell_type": "markdown",
      "metadata": {
        "id": "view-in-github",
        "colab_type": "text"
      },
      "source": [
        "<a href=\"https://colab.research.google.com/github/danyamrajuSanjay/Machine_Learning/blob/master/torch_DNN_dropout_regression.ipynb\" target=\"_parent\"><img src=\"https://colab.research.google.com/assets/colab-badge.svg\" alt=\"Open In Colab\"/></a>"
      ]
    },
    {
      "cell_type": "markdown",
      "metadata": {
        "id": "ipdOWSJ8IHpD",
        "colab_type": "text"
      },
      "source": [
        "<h1>Using Dropout in Regression</h1>"
      ]
    },
    {
      "cell_type": "markdown",
      "metadata": {
        "id": "NCfp3klDIHpE",
        "colab_type": "text"
      },
      "source": [
        "<h2>Table of Contents</h2>\n",
        "<p>In this lab, you will see how adding dropout to your model will decrease overfitting.</p>\n",
        "\n",
        "<ul>\n",
        "    <li><a href=\"#Makeup_Data\">Make Some Data</a></li>\n",
        "    <li><a href=\"#Model_Cost\">Create the Model and Cost Function the PyTorch way</a></li>\n",
        "    <li><a href=\"#BGD\">Batch Gradient Descent</a></li>\n",
        "</ul>\n",
        "<p>Estimated Time Needed: <strong>20 min</strong></p>\n",
        "\n",
        "<hr>"
      ]
    },
    {
      "cell_type": "markdown",
      "metadata": {
        "id": "vJ85kswcIHpE",
        "colab_type": "text"
      },
      "source": [
        "<h2>Preparation</h2>"
      ]
    },
    {
      "cell_type": "markdown",
      "metadata": {
        "id": "dJeq7NmRIHpF",
        "colab_type": "text"
      },
      "source": [
        "We'll need the following libraries"
      ]
    },
    {
      "cell_type": "code",
      "metadata": {
        "id": "WqkkRtkXIHpG",
        "colab_type": "code",
        "colab": {
          "base_uri": "https://localhost:8080/",
          "height": 34
        },
        "outputId": "2aed98a6-9ab2-4ab1-d923-2ee2a3fc205a"
      },
      "source": [
        "# Import the libraries we need for the lab\n",
        "\n",
        "import torch\n",
        "import matplotlib.pyplot as plt\n",
        "import torch.nn as nn\n",
        "import torch.nn.functional as F\n",
        "import numpy as np\n",
        "from torch.utils.data import Dataset, DataLoader\n",
        "\n",
        "torch.manual_seed(0) "
      ],
      "execution_count": 1,
      "outputs": [
        {
          "output_type": "execute_result",
          "data": {
            "text/plain": [
              "<torch._C.Generator at 0x7f3e2e0380c0>"
            ]
          },
          "metadata": {
            "tags": []
          },
          "execution_count": 1
        }
      ]
    },
    {
      "cell_type": "markdown",
      "metadata": {
        "id": "o0phEpXlIHpK",
        "colab_type": "text"
      },
      "source": [
        "<!--Empty Space for separating topics-->"
      ]
    },
    {
      "cell_type": "markdown",
      "metadata": {
        "id": "FzvS_9A7IHpL",
        "colab_type": "text"
      },
      "source": [
        "<h2 id=\"Makeup_Data\">Make Some Data</h2>"
      ]
    },
    {
      "cell_type": "markdown",
      "metadata": {
        "id": "-VtxUUxOIHpM",
        "colab_type": "text"
      },
      "source": [
        "Create polynomial dataset class: "
      ]
    },
    {
      "cell_type": "code",
      "metadata": {
        "id": "Zen954TvIHpM",
        "colab_type": "code",
        "colab": {}
      },
      "source": [
        "# Create Data object\n",
        "\n",
        "class Data(Dataset):\n",
        "    \n",
        "    # Constructor\n",
        "    def __init__(self, N_SAMPLES=40, noise_std=1, train=True):\n",
        "        self.x = torch.linspace(-1, 1, N_SAMPLES).view(-1, 1)\n",
        "        self.f = self.x ** 2\n",
        "        if train != True:\n",
        "            torch.manual_seed(1)\n",
        "            self.y = self.f + noise_std * torch.randn(self.f.size())\n",
        "            self.y = self.y.view(-1, 1)\n",
        "            torch.manual_seed(0)\n",
        "        else:\n",
        "            self.y = self.f + noise_std * torch.randn(self.f.size())\n",
        "            self.y = self.y.view(-1, 1)\n",
        "            \n",
        "    # Getter\n",
        "    def __getitem__(self, index):    \n",
        "        return self.x[index], self.y[index]\n",
        "    \n",
        "    # Get Length\n",
        "    def __len__(self):\n",
        "        return self.len\n",
        "    \n",
        "    # Plot the data\n",
        "    def plot(self):\n",
        "        plt.figure(figsize = (6.1, 10))\n",
        "        plt.scatter(self.x.numpy(), self.y.numpy(), label=\"Samples\")\n",
        "        plt.plot(self.x.numpy(), self.f.numpy() ,label=\"True Function\", color='orange')\n",
        "        plt.xlabel(\"x\")\n",
        "        plt.ylabel(\"y\")\n",
        "        plt.xlim((-1, 1))\n",
        "        plt.ylim((-2, 2.5))\n",
        "        plt.legend(loc=\"best\")\n",
        "        plt.show()"
      ],
      "execution_count": 2,
      "outputs": []
    },
    {
      "cell_type": "markdown",
      "metadata": {
        "id": "Na0PdtScIHpP",
        "colab_type": "text"
      },
      "source": [
        "Create a dataset object:"
      ]
    },
    {
      "cell_type": "code",
      "metadata": {
        "id": "-7IUn6faIHpQ",
        "colab_type": "code",
        "colab": {
          "base_uri": "https://localhost:8080/",
          "height": 610
        },
        "outputId": "b7ea9bbe-cd87-43be-bf64-ebff03241057"
      },
      "source": [
        "# Create the dataset object and plot the dataset\n",
        "\n",
        "data_set = Data()\n",
        "data_set.plot()"
      ],
      "execution_count": 3,
      "outputs": [
        {
          "output_type": "display_data",
          "data": {
            "image/png": "[encoded data removed]",
            "text/plain": [
              "<Figure size 439.2x720 with 1 Axes>"
            ]
          },
          "metadata": {
            "tags": [],
            "needs_background": "light"
          }
        }
      ]
    },
    {
      "cell_type": "markdown",
      "metadata": {
        "id": "Q0v0V2BYIHpT",
        "colab_type": "text"
      },
      "source": [
        "Get some validation data: "
      ]
    },
    {
      "cell_type": "code",
      "metadata": {
        "id": "Sm95DyTLIHpU",
        "colab_type": "code",
        "colab": {}
      },
      "source": [
        "# Create validation dataset object\n",
        "\n",
        "validation_set = Data(train=False)"
      ],
      "execution_count": 4,
      "outputs": []
    },
    {
      "cell_type": "markdown",
      "metadata": {
        "id": "Fq_-EUKCIHpX",
        "colab_type": "text"
      },
      "source": [
        "<!--Empty Space for separating topics-->"
      ]
    },
    {
      "cell_type": "markdown",
      "metadata": {
        "id": "cj_SqoFQIHpY",
        "colab_type": "text"
      },
      "source": [
        "<h2 id=\"Model_Cost\">Create the Model, Optimizer, and Total Loss Function (Cost)</h2>"
      ]
    },
    {
      "cell_type": "markdown",
      "metadata": {
        "id": "srorguRfIHpY",
        "colab_type": "text"
      },
      "source": [
        "Create a custom module with three layers. <code>in_size</code> is the size of the input features, <code>n_hidden</code> is the size of the layers, and <code>out_size</code> is the size. <code>p</code> is dropout probability. The default is 0 which is no dropout."
      ]
    },
    {
      "cell_type": "code",
      "metadata": {
        "id": "1j8bpM_IIHpZ",
        "colab_type": "code",
        "colab": {}
      },
      "source": [
        "# Create the class for model\n",
        "\n",
        "class Net(nn.Module):\n",
        "    \n",
        "    # Constructor\n",
        "    def __init__(self, in_size, n_hidden, out_size, p=0):\n",
        "        super(Net, self).__init__()\n",
        "        self.drop = nn.Dropout(p=p)\n",
        "        self.linear1 = nn.Linear(in_size, n_hidden)\n",
        "        self.linear2 = nn.Linear(n_hidden, n_hidden)\n",
        "        self.linear3 = nn.Linear(n_hidden, out_size)\n",
        "        \n",
        "    def forward(self, x):\n",
        "        x = F.relu(self.drop(self.linear1(x)))\n",
        "        x = F.relu(self.drop(self.linear2(x)))\n",
        "        x = self.linear3(x)\n",
        "        return x"
      ],
      "execution_count": 5,
      "outputs": []
    },
    {
      "cell_type": "markdown",
      "metadata": {
        "id": "oVQShR_0IHpd",
        "colab_type": "text"
      },
      "source": [
        "Create two model objects: <code>model</code> had no dropout, and <code>model_drop </cdoe> has a dropout probability of 0.5:"
      ]
    },
    {
      "cell_type": "code",
      "metadata": {
        "id": "54Kft870IHpe",
        "colab_type": "code",
        "colab": {}
      },
      "source": [
        "# Create the model objects\n",
        "\n",
        "model = Net(1, 300, 1)\n",
        "model_drop = Net(1, 300, 1, p=0.5)"
      ],
      "execution_count": 6,
      "outputs": []
    },
    {
      "cell_type": "markdown",
      "metadata": {
        "id": "1rfzoIWfIHpg",
        "colab_type": "text"
      },
      "source": [
        "<!--Empty Space for separating topics-->"
      ]
    },
    {
      "cell_type": "markdown",
      "metadata": {
        "id": "GmgJ2bzIIHph",
        "colab_type": "text"
      },
      "source": [
        "<h2 id=\"Train\">Train the Model via Mini-Batch Gradient Descent</h2>"
      ]
    },
    {
      "cell_type": "markdown",
      "metadata": {
        "id": "y02ZDIXtIHpi",
        "colab_type": "text"
      },
      "source": [
        "Set the model using dropout to training mode; this is the default mode, but it's good practice. "
      ]
    },
    {
      "cell_type": "code",
      "metadata": {
        "id": "pAQ2IzW9IHpi",
        "colab_type": "code",
        "colab": {
          "base_uri": "https://localhost:8080/",
          "height": 119
        },
        "outputId": "56211bb5-a91d-49ae-f745-2f7553b6ae71"
      },
      "source": [
        "# Set the model to train mode\n",
        "\n",
        "model_drop.train()"
      ],
      "execution_count": 7,
      "outputs": [
        {
          "output_type": "execute_result",
          "data": {
            "text/plain": [
              "Net(\n",
              "  (drop): Dropout(p=0.5, inplace=False)\n",
              "  (linear1): Linear(in_features=1, out_features=300, bias=True)\n",
              "  (linear2): Linear(in_features=300, out_features=300, bias=True)\n",
              "  (linear3): Linear(in_features=300, out_features=1, bias=True)\n",
              ")"
            ]
          },
          "metadata": {
            "tags": []
          },
          "execution_count": 7
        }
      ]
    },
    {
      "cell_type": "markdown",
      "metadata": {
        "id": "UUWq2kj8IHpl",
        "colab_type": "text"
      },
      "source": [
        "Train the model by using the Adam optimizer. See the unit on other optimizers. Use the mean square loss: "
      ]
    },
    {
      "cell_type": "code",
      "metadata": {
        "id": "F-_Ul2MZIHpm",
        "colab_type": "code",
        "colab": {}
      },
      "source": [
        "# Set the optimizer and criterion function\n",
        "\n",
        "optimizer_ofit = torch.optim.Adam(model.parameters(), lr=0.01)\n",
        "optimizer_drop = torch.optim.Adam(model_drop.parameters(), lr=0.01)\n",
        "criterion = torch.nn.MSELoss()"
      ],
      "execution_count": 8,
      "outputs": []
    },
    {
      "cell_type": "markdown",
      "metadata": {
        "id": "Fs93DGDvIHpq",
        "colab_type": "text"
      },
      "source": [
        "Initialize a dictionary that stores the training and validation loss for each model:"
      ]
    },
    {
      "cell_type": "code",
      "metadata": {
        "id": "vWFapGGpIHpq",
        "colab_type": "code",
        "colab": {}
      },
      "source": [
        "# Initialize the dict to contain the loss results\n",
        "\n",
        "LOSS={}\n",
        "LOSS['training data no dropout']=[]\n",
        "LOSS['validation data no dropout']=[]\n",
        "LOSS['training data dropout']=[]\n",
        "LOSS['validation data dropout']=[]"
      ],
      "execution_count": 9,
      "outputs": []
    },
    {
      "cell_type": "markdown",
      "metadata": {
        "id": "ta3aMoHhIHpt",
        "colab_type": "text"
      },
      "source": [
        "Run 500 iterations of batch gradient descent: "
      ]
    },
    {
      "cell_type": "code",
      "metadata": {
        "id": "sz8-A3E6IHpu",
        "colab_type": "code",
        "colab": {}
      },
      "source": [
        "# Train the model\n",
        "\n",
        "epochs = 500\n",
        "\n",
        "def train_model(epochs):\n",
        "    for epoch in range(epochs):\n",
        "        yhat = model(data_set.x)\n",
        "        yhat_drop = model_drop(data_set.x)\n",
        "        loss = criterion(yhat, data_set.y)\n",
        "        loss_drop = criterion(yhat_drop, data_set.y)\n",
        "\n",
        "        #store the loss for  both the training and validation  data for both models \n",
        "        LOSS['training data no dropout'].append(loss.item())\n",
        "        LOSS['validation data no dropout'].append(criterion(model(validation_set.x), validation_set.y).item())\n",
        "        LOSS['training data dropout'].append(loss_drop.item())\n",
        "        model_drop.eval()\n",
        "        LOSS['validation data dropout'].append(criterion(model_drop(validation_set.x), validation_set.y).item())\n",
        "        model_drop.train()\n",
        "\n",
        "        optimizer_ofit.zero_grad()\n",
        "        optimizer_drop.zero_grad()\n",
        "        loss.backward()\n",
        "        loss_drop.backward()\n",
        "        optimizer_ofit.step()\n",
        "        optimizer_drop.step()\n",
        "        \n",
        "train_model(epochs)"
      ],
      "execution_count": 10,
      "outputs": []
    },
    {
      "cell_type": "markdown",
      "metadata": {
        "id": "HKAg462-IHpy",
        "colab_type": "text"
      },
      "source": [
        "Set the model with dropout to evaluation mode:"
      ]
    },
    {
      "cell_type": "code",
      "metadata": {
        "id": "K37Xsv9GIHpz",
        "colab_type": "code",
        "colab": {
          "base_uri": "https://localhost:8080/",
          "height": 119
        },
        "outputId": "432f02d0-2a1d-4e72-f550-ae88fb6f3211"
      },
      "source": [
        "# Set the model with dropout to evaluation mode\n",
        "\n",
        "model_drop.eval()"
      ],
      "execution_count": 11,
      "outputs": [
        {
          "output_type": "execute_result",
          "data": {
            "text/plain": [
              "Net(\n",
              "  (drop): Dropout(p=0.5, inplace=False)\n",
              "  (linear1): Linear(in_features=1, out_features=300, bias=True)\n",
              "  (linear2): Linear(in_features=300, out_features=300, bias=True)\n",
              "  (linear3): Linear(in_features=300, out_features=1, bias=True)\n",
              ")"
            ]
          },
          "metadata": {
            "tags": []
          },
          "execution_count": 11
        }
      ]
    },
    {
      "cell_type": "markdown",
      "metadata": {
        "id": "wgcVqB6hIHp3",
        "colab_type": "text"
      },
      "source": [
        "Make a prediction by using both models: "
      ]
    },
    {
      "cell_type": "code",
      "metadata": {
        "id": "1VA0Z5nuIHp4",
        "colab_type": "code",
        "colab": {}
      },
      "source": [
        "# Make the prediction\n",
        "\n",
        "yhat = model(data_set.x)\n",
        "yhat_drop = model_drop(data_set.x)"
      ],
      "execution_count": 12,
      "outputs": []
    },
    {
      "cell_type": "markdown",
      "metadata": {
        "id": "dv5qzT6hIHp6",
        "colab_type": "text"
      },
      "source": [
        "Plot predictions of both models. Compare them to the training points and the true function: "
      ]
    },
    {
      "cell_type": "code",
      "metadata": {
        "id": "tHSClKf7IHp7",
        "colab_type": "code",
        "colab": {
          "base_uri": "https://localhost:8080/",
          "height": 610
        },
        "outputId": "9d4184b4-fa94-41b6-9d0f-bce55278a736"
      },
      "source": [
        "# Plot the predictions for both models\n",
        "\n",
        "plt.figure(figsize=(6.1, 10))\n",
        "\n",
        "plt.scatter(data_set.x.numpy(), data_set.y.numpy(), label=\"Samples\")\n",
        "plt.plot(data_set.x.numpy(), data_set.f.numpy(), label=\"True function\", color='orange')\n",
        "plt.plot(data_set.x.numpy(), yhat.detach().numpy(), label='no dropout', c='r')\n",
        "plt.plot(data_set.x.numpy(), yhat_drop.detach().numpy(), label=\"dropout\", c ='g')\n",
        "\n",
        "plt.xlabel(\"x\")\n",
        "plt.ylabel(\"y\")\n",
        "plt.xlim((-1, 1))\n",
        "plt.ylim((-2, 2.5))\n",
        "plt.legend(loc = \"best\")\n",
        "plt.show()"
      ],
      "execution_count": 13,
      "outputs": [
        {
          "output_type": "display_data",
          "data": {
            "image/png": "[encoded data removed]",
            "text/plain": [
              "<Figure size 439.2x720 with 1 Axes>"
            ]
          },
          "metadata": {
            "tags": [],
            "needs_background": "light"
          }
        }
      ]
    },
    {
      "cell_type": "markdown",
      "metadata": {
        "id": "cUg5Dfv6IHp-",
        "colab_type": "text"
      },
      "source": [
        "You can see that the model using dropout does better at tracking the function that generated the data. We use the log to make the difference more apparent "
      ]
    },
    {
      "cell_type": "markdown",
      "metadata": {
        "id": "oVucMGx3IHp_",
        "colab_type": "text"
      },
      "source": [
        "Plot out the loss for training and validation data on both models:  "
      ]
    },
    {
      "cell_type": "code",
      "metadata": {
        "id": "kjwbBTXTIHp_",
        "colab_type": "code",
        "colab": {
          "base_uri": "https://localhost:8080/",
          "height": 606
        },
        "outputId": "10e0ea44-553e-41e9-d7c8-90e540d48307"
      },
      "source": [
        "# Plot the loss\n",
        "\n",
        "plt.figure(figsize=(6.1, 10))\n",
        "for key, value in LOSS.items():\n",
        "    plt.plot(np.log(np.array(value)), label=key)\n",
        "    plt.legend()\n",
        "    plt.xlabel(\"iterations\")\n",
        "    plt.ylabel(\"Log of cost or total loss\")"
      ],
      "execution_count": 14,
      "outputs": [
        {
          "output_type": "display_data",
          "data": {
            "image/png": "[encoded data removed]",
            "text/plain": [
              "<Figure size 439.2x720 with 1 Axes>"
            ]
          },
          "metadata": {
            "tags": [],
            "needs_background": "light"
          }
        }
      ]
    }
  ]
}