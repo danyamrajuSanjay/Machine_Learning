{
  "nbformat": 4,
  "nbformat_minor": 0,
  "metadata": {
    "kernelspec": {
      "display_name": "Python 3",
      "language": "python",
      "name": "python3"
    },
    "language_info": {
      "codemirror_mode": {
        "name": "ipython",
        "version": 3
      },
      "file_extension": ".py",
      "mimetype": "text/x-python",
      "name": "python",
      "nbconvert_exporter": "python",
      "pygments_lexer": "ipython3",
      "version": "3.6.8"
    },
    "colab": {
      "name": "torch logistic regression.ipynb",
      "provenance": [],
      "include_colab_link": true
    }
  },
  "cells": [
    {
      "cell_type": "markdown",
      "metadata": {
        "id": "view-in-github",
        "colab_type": "text"
      },
      "source": [
        "<a href=\"https://colab.research.google.com/github/danyamrajuSanjay/Machine_Learning/blob/master/torch_logistic_regression.ipynb\" target=\"_parent\"><img src=\"https://colab.research.google.com/assets/colab-badge.svg\" alt=\"Open In Colab\"/></a>"
      ]
    },
    {
      "cell_type": "markdown",
      "metadata": {
        "id": "jmgaxaRTNr9L",
        "colab_type": "text"
      },
      "source": [
        "<h1>Logistic Regression</h1>"
      ]
    },
    {
      "cell_type": "markdown",
      "metadata": {
        "id": "ZZjRS_89Nr9M",
        "colab_type": "text"
      },
      "source": [
        "<h2>Table of Contents</h2>\n",
        "<p>In this lab, we will cover logistic regression using PyTorch.</p>\n",
        "\n",
        "<ul>\n",
        "    <li><a href=\"#Log\">Logistic Function</a></li>\n",
        "    <li><a href=\"#Seq\">Build a Logistic Regression Using nn.Sequential</a></li>\n",
        "    <li><a href=\"#Model\">Build Custom Modules</a></li>\n",
        "</ul>\n",
        "<p>Estimated Time Needed: <strong>15 min</strong></p>\n",
        "\n",
        "<hr>"
      ]
    },
    {
      "cell_type": "markdown",
      "metadata": {
        "id": "iJiq0cx5Nr9N",
        "colab_type": "text"
      },
      "source": [
        "<h2>Preparation</h2>"
      ]
    },
    {
      "cell_type": "markdown",
      "metadata": {
        "id": "S54DVDveNr9N",
        "colab_type": "text"
      },
      "source": [
        "We'll need the following libraries:  "
      ]
    },
    {
      "cell_type": "code",
      "metadata": {
        "id": "vq0Jgl-WNr9P",
        "colab_type": "code",
        "colab": {}
      },
      "source": [
        "# Import the libraries we need for this lab\n",
        "\n",
        "import torch.nn as nn\n",
        "import torch\n",
        "import matplotlib.pyplot as plt "
      ],
      "execution_count": 1,
      "outputs": []
    },
    {
      "cell_type": "markdown",
      "metadata": {
        "id": "UfLxC9gFNr9V",
        "colab_type": "text"
      },
      "source": [
        "Set the random seed:"
      ]
    },
    {
      "cell_type": "code",
      "metadata": {
        "id": "YbE4nO0LNr9V",
        "colab_type": "code",
        "colab": {
          "base_uri": "https://localhost:8080/",
          "height": 34
        },
        "outputId": "d0b2b12f-8833-41e4-d9b2-75a58f93b53a"
      },
      "source": [
        "# Set the random seed\n",
        "\n",
        "torch.manual_seed(2)"
      ],
      "execution_count": 2,
      "outputs": [
        {
          "output_type": "execute_result",
          "data": {
            "text/plain": [
              "<torch._C.Generator at 0x7f48a6b970d8>"
            ]
          },
          "metadata": {
            "tags": []
          },
          "execution_count": 2
        }
      ]
    },
    {
      "cell_type": "markdown",
      "metadata": {
        "id": "szQURFb2Nr9Z",
        "colab_type": "text"
      },
      "source": [
        "<!--Empty Space for separating topics-->"
      ]
    },
    {
      "cell_type": "markdown",
      "metadata": {
        "id": "948i0VbjNr9a",
        "colab_type": "text"
      },
      "source": [
        "<h2 id=\"Log\">Logistic Function</h2>"
      ]
    },
    {
      "cell_type": "markdown",
      "metadata": {
        "id": "wfDKmvGRNr9b",
        "colab_type": "text"
      },
      "source": [
        "Create a tensor ranging from -100 to 100:"
      ]
    },
    {
      "cell_type": "code",
      "metadata": {
        "id": "ugS9A5waNr9c",
        "colab_type": "code",
        "colab": {
          "base_uri": "https://localhost:8080/",
          "height": 136
        },
        "outputId": "aa6b9249-04f0-4bea-90da-3ff3c1ba54a4"
      },
      "source": [
        "z = torch.arange(-100, 100, 0.1).view(-1, 1)\n",
        "print(\"The tensor: \", z)"
      ],
      "execution_count": 3,
      "outputs": [
        {
          "output_type": "stream",
          "text": [
            "The tensor:  tensor([[-100.0000],\n",
            "        [ -99.9000],\n",
            "        [ -99.8000],\n",
            "        ...,\n",
            "        [  99.7000],\n",
            "        [  99.8000],\n",
            "        [  99.9000]])\n"
          ],
          "name": "stdout"
        }
      ]
    },
    {
      "cell_type": "markdown",
      "metadata": {
        "id": "EbRdYMaSNr9g",
        "colab_type": "text"
      },
      "source": [
        "Create a sigmoid object: "
      ]
    },
    {
      "cell_type": "code",
      "metadata": {
        "id": "Pk9ObSLfNr9h",
        "colab_type": "code",
        "colab": {}
      },
      "source": [
        "# Create sigmoid object\n",
        "\n",
        "sig = nn.Sigmoid()"
      ],
      "execution_count": 4,
      "outputs": []
    },
    {
      "cell_type": "markdown",
      "metadata": {
        "id": "2RiGtgF8Nr9k",
        "colab_type": "text"
      },
      "source": [
        "Apply the element-wise function Sigmoid with the object:"
      ]
    },
    {
      "cell_type": "code",
      "metadata": {
        "id": "ekPbMF_6Nr9l",
        "colab_type": "code",
        "colab": {}
      },
      "source": [
        "# Use sigmoid object to calculate the \n",
        "\n",
        "yhat = sig(z)"
      ],
      "execution_count": 5,
      "outputs": []
    },
    {
      "cell_type": "markdown",
      "metadata": {
        "id": "e7otB3VxNr9q",
        "colab_type": "text"
      },
      "source": [
        "Plot the results: "
      ]
    },
    {
      "cell_type": "code",
      "metadata": {
        "id": "4wG9LI5bNr9r",
        "colab_type": "code",
        "colab": {
          "base_uri": "https://localhost:8080/",
          "height": 296
        },
        "outputId": "1d73e724-dee1-470c-d0fc-233bf700243c"
      },
      "source": [
        "plt.plot(z.numpy(), yhat.numpy())\n",
        "plt.xlabel('z')\n",
        "plt.ylabel('yhat')"
      ],
      "execution_count": 6,
      "outputs": [
        {
          "output_type": "execute_result",
          "data": {
            "text/plain": [
              "Text(0, 0.5, 'yhat')"
            ]
          },
          "metadata": {
            "tags": []
          },
          "execution_count": 6
        },
        {
          "output_type": "display_data",
          "data": {
            "image/png": "[encoded data removed]",
            "text/plain": [
              "<Figure size 432x288 with 1 Axes>"
            ]
          },
          "metadata": {
            "tags": [],
            "needs_background": "light"
          }
        }
      ]
    },
    {
      "cell_type": "markdown",
      "metadata": {
        "id": "2EctBNJRNr9u",
        "colab_type": "text"
      },
      "source": [
        "Apply the element-wise Sigmoid from the function module and plot the results:"
      ]
    },
    {
      "cell_type": "code",
      "metadata": {
        "id": "6R4K3Z6bNr9u",
        "colab_type": "code",
        "colab": {
          "base_uri": "https://localhost:8080/",
          "height": 282
        },
        "outputId": "99f4a4d6-f035-41a6-815d-0a6d9b445eb8"
      },
      "source": [
        "yhat = torch.sigmoid(z)\n",
        "plt.plot(z.numpy(), yhat.numpy())"
      ],
      "execution_count": 7,
      "outputs": [
        {
          "output_type": "execute_result",
          "data": {
            "text/plain": [
              "[<matplotlib.lines.Line2D at 0x7f485bf388d0>]"
            ]
          },
          "metadata": {
            "tags": []
          },
          "execution_count": 7
        },
        {
          "output_type": "display_data",
          "data": {
            "image/png": "[encoded data removed]",
            "text/plain": [
              "<Figure size 432x288 with 1 Axes>"
            ]
          },
          "metadata": {
            "tags": [],
            "needs_background": "light"
          }
        }
      ]
    },
    {
      "cell_type": "markdown",
      "metadata": {
        "id": "QwHFyJdMNr9x",
        "colab_type": "text"
      },
      "source": [
        "<!--Empty Space for separating topics-->"
      ]
    },
    {
      "cell_type": "markdown",
      "metadata": {
        "id": "YaYWImHqNr9y",
        "colab_type": "text"
      },
      "source": [
        "<h2 id=\"Seq\">Build a Logistic Regression with <code>nn.Sequential</code></h2>"
      ]
    },
    {
      "cell_type": "markdown",
      "metadata": {
        "id": "iNHYl25FNr9z",
        "colab_type": "text"
      },
      "source": [
        "Create a 1x1 tensor where x represents one data sample with one dimension, and 2x1 tensor X represents two data samples of one dimension:"
      ]
    },
    {
      "cell_type": "code",
      "metadata": {
        "id": "MijTIqm0Nr90",
        "colab_type": "code",
        "colab": {
          "base_uri": "https://localhost:8080/",
          "height": 68
        },
        "outputId": "66415968-4652-4bbd-d8d4-6eef44518653"
      },
      "source": [
        "# Create x and X tensor\n",
        "\n",
        "x = torch.tensor([[1.0]])\n",
        "X = torch.tensor([[1.0], [100]])\n",
        "print('x = ', x)\n",
        "print('X = ', X)"
      ],
      "execution_count": 8,
      "outputs": [
        {
          "output_type": "stream",
          "text": [
            "x =  tensor([[1.]])\n",
            "X =  tensor([[  1.],\n",
            "        [100.]])\n"
          ],
          "name": "stdout"
        }
      ]
    },
    {
      "cell_type": "markdown",
      "metadata": {
        "id": "MK32MJwyNr94",
        "colab_type": "text"
      },
      "source": [
        "Create a logistic regression object with the <code>nn.Sequential</code> model with a one-dimensional input:"
      ]
    },
    {
      "cell_type": "code",
      "metadata": {
        "id": "eoXqwKdQNr95",
        "colab_type": "code",
        "colab": {}
      },
      "source": [
        "# Use sequential function to create model\n",
        "\n",
        "model = nn.Sequential(nn.Linear(1, 1), nn.Sigmoid())"
      ],
      "execution_count": 9,
      "outputs": []
    },
    {
      "cell_type": "markdown",
      "metadata": {
        "id": "2pfxh4QBNr9-",
        "colab_type": "text"
      },
      "source": [
        "The object is represented in the following diagram: "
      ]
    },
    {
      "cell_type": "markdown",
      "metadata": {
        "id": "QfOpIX8lNr9_",
        "colab_type": "text"
      },
      "source": [
        "<img src = \"https://s3-api.us-geo.objectstorage.softlayer.net/cf-courses-data/CognitiveClass/DL0110EN/notebook_images%20/chapter3/3.1.1_logistic_regression_block_diagram.png\" width = 800, align = \"center\" alt=\"logistic regression block diagram\" />"
      ]
    },
    {
      "cell_type": "markdown",
      "metadata": {
        "id": "HyPAOo-oNr-A",
        "colab_type": "text"
      },
      "source": [
        "In this case, the parameters are randomly initialized. You can view them the following ways:"
      ]
    },
    {
      "cell_type": "code",
      "metadata": {
        "id": "zUMyN6tUNr-B",
        "colab_type": "code",
        "colab": {
          "base_uri": "https://localhost:8080/",
          "height": 136
        },
        "outputId": "a458fc5d-ac32-4810-e908-ce2f198e82f0"
      },
      "source": [
        "# Print the parameters\n",
        "\n",
        "print(\"list(model.parameters()):\\n \", list(model.parameters()))\n",
        "print(\"\\nmodel.state_dict():\\n \", model.state_dict())"
      ],
      "execution_count": 10,
      "outputs": [
        {
          "output_type": "stream",
          "text": [
            "list(model.parameters()):\n",
            "  [Parameter containing:\n",
            "tensor([[0.2294]], requires_grad=True), Parameter containing:\n",
            "tensor([-0.2380], requires_grad=True)]\n",
            "\n",
            "model.state_dict():\n",
            "  OrderedDict([('0.weight', tensor([[0.2294]])), ('0.bias', tensor([-0.2380]))])\n"
          ],
          "name": "stdout"
        }
      ]
    },
    {
      "cell_type": "markdown",
      "metadata": {
        "id": "0RM_9PciNr-F",
        "colab_type": "text"
      },
      "source": [
        "Make a prediction with one sample:"
      ]
    },
    {
      "cell_type": "code",
      "metadata": {
        "id": "N0xmzPdSNr-G",
        "colab_type": "code",
        "colab": {
          "base_uri": "https://localhost:8080/",
          "height": 34
        },
        "outputId": "619cb24d-d757-4759-eca8-ee33a29f9413"
      },
      "source": [
        "# The prediction for x\n",
        "\n",
        "yhat = model(x)\n",
        "print(\"The prediction: \", yhat)"
      ],
      "execution_count": 11,
      "outputs": [
        {
          "output_type": "stream",
          "text": [
            "The prediction:  tensor([[0.4979]], grad_fn=<SigmoidBackward>)\n"
          ],
          "name": "stdout"
        }
      ]
    },
    {
      "cell_type": "markdown",
      "metadata": {
        "id": "auqZPqFeNr-J",
        "colab_type": "text"
      },
      "source": [
        "Calling the object with tensor <code>X</code> performed the following operation <b>(code values may not be the same as the diagrams value  depending on the version of PyTorch) </b>:"
      ]
    },
    {
      "cell_type": "markdown",
      "metadata": {
        "id": "xuhUXERmNr-K",
        "colab_type": "text"
      },
      "source": [
        "<img src=\"https://s3-api.us-geo.objectstorage.softlayer.net/cf-courses-data/CognitiveClass/DL0110EN/notebook_images%20/chapter3/3.1.1_logistic_functio_example%20.png\" width=\"400\" alt=\"Logistic Example\" />"
      ]
    },
    {
      "cell_type": "markdown",
      "metadata": {
        "id": "7Ys-ji9ANr-L",
        "colab_type": "text"
      },
      "source": [
        "Make a prediction with multiple samples:"
      ]
    },
    {
      "cell_type": "code",
      "metadata": {
        "id": "oD6guNB9Nr-M",
        "colab_type": "code",
        "colab": {
          "base_uri": "https://localhost:8080/",
          "height": 51
        },
        "outputId": "57332ed3-0cd2-4699-8b54-3f82e85c2985"
      },
      "source": [
        "# The prediction for X\n",
        "\n",
        "yhat = model(X)\n",
        "yhat"
      ],
      "execution_count": 12,
      "outputs": [
        {
          "output_type": "execute_result",
          "data": {
            "text/plain": [
              "tensor([[0.4979],\n",
              "        [1.0000]], grad_fn=<SigmoidBackward>)"
            ]
          },
          "metadata": {
            "tags": []
          },
          "execution_count": 12
        }
      ]
    },
    {
      "cell_type": "markdown",
      "metadata": {
        "id": "lPeaMSDTNr-P",
        "colab_type": "text"
      },
      "source": [
        "Calling the object performed the following operation: "
      ]
    },
    {
      "cell_type": "markdown",
      "metadata": {
        "id": "vrRWcmfnNr-P",
        "colab_type": "text"
      },
      "source": [
        "Create a 1x2 tensor where x represents one data sample with one dimension, and 2x3 tensor X represents one data sample of two dimensions:"
      ]
    },
    {
      "cell_type": "code",
      "metadata": {
        "id": "-VLHHFLRNr-Q",
        "colab_type": "code",
        "colab": {
          "base_uri": "https://localhost:8080/",
          "height": 85
        },
        "outputId": "616766f3-959e-40e0-d1a8-8797893f2fc3"
      },
      "source": [
        "# Create and print samples\n",
        "\n",
        "x = torch.tensor([[1.0, 1.0]])\n",
        "X = torch.tensor([[1.0, 1.0], [1.0, 2.0], [1.0, 3.0]])\n",
        "print('x = ', x)\n",
        "print('X = ', X)"
      ],
      "execution_count": 13,
      "outputs": [
        {
          "output_type": "stream",
          "text": [
            "x =  tensor([[1., 1.]])\n",
            "X =  tensor([[1., 1.],\n",
            "        [1., 2.],\n",
            "        [1., 3.]])\n"
          ],
          "name": "stdout"
        }
      ]
    },
    {
      "cell_type": "markdown",
      "metadata": {
        "id": "-ONyCkmNNr-U",
        "colab_type": "text"
      },
      "source": [
        "Create a logistic regression object with the <code>nn.Sequential</code> model with a two-dimensional input: "
      ]
    },
    {
      "cell_type": "code",
      "metadata": {
        "id": "-3GJv6xVNr-V",
        "colab_type": "code",
        "colab": {}
      },
      "source": [
        "# Create new model using nn.sequential()\n",
        "\n",
        "model = nn.Sequential(nn.Linear(2, 1), nn.Sigmoid())"
      ],
      "execution_count": 14,
      "outputs": []
    },
    {
      "cell_type": "markdown",
      "metadata": {
        "id": "i-4SOEbNNr-Y",
        "colab_type": "text"
      },
      "source": [
        "The object will apply the Sigmoid function to the output of the linear function as shown in the following diagram:"
      ]
    },
    {
      "cell_type": "markdown",
      "metadata": {
        "id": "F6mO02ypNr-Z",
        "colab_type": "text"
      },
      "source": [
        "<img src=\"https://s3-api.us-geo.objectstorage.softlayer.net/cf-courses-data/CognitiveClass/DL0110EN/notebook_images%20/chapter3/3.1.1logistic_output.png\" width=\"800\" alt=\"The structure of nn.sequential\"/>"
      ]
    },
    {
      "cell_type": "markdown",
      "metadata": {
        "id": "3L844nCINr-Z",
        "colab_type": "text"
      },
      "source": [
        "In this case, the parameters are randomly initialized. You can view them the following ways:"
      ]
    },
    {
      "cell_type": "code",
      "metadata": {
        "id": "m1KMAeaSNr-a",
        "colab_type": "code",
        "colab": {
          "base_uri": "https://localhost:8080/",
          "height": 136
        },
        "outputId": "1f7ee83a-4444-4bbc-cafb-61ccf7ba8775"
      },
      "source": [
        "# Print the parameters\n",
        "\n",
        "print(\"list(model.parameters()):\\n \", list(model.parameters()))\n",
        "print(\"\\nmodel.state_dict():\\n \", model.state_dict())"
      ],
      "execution_count": 15,
      "outputs": [
        {
          "output_type": "stream",
          "text": [
            "list(model.parameters()):\n",
            "  [Parameter containing:\n",
            "tensor([[ 0.1939, -0.0361]], requires_grad=True), Parameter containing:\n",
            "tensor([0.3021], requires_grad=True)]\n",
            "\n",
            "model.state_dict():\n",
            "  OrderedDict([('0.weight', tensor([[ 0.1939, -0.0361]])), ('0.bias', tensor([0.3021]))])\n"
          ],
          "name": "stdout"
        }
      ]
    },
    {
      "cell_type": "markdown",
      "metadata": {
        "id": "Ht01OhR3Nr-c",
        "colab_type": "text"
      },
      "source": [
        "Make a prediction with one sample:"
      ]
    },
    {
      "cell_type": "code",
      "metadata": {
        "id": "688SrlD9Nr-c",
        "colab_type": "code",
        "colab": {
          "base_uri": "https://localhost:8080/",
          "height": 34
        },
        "outputId": "e5e6c0be-f7cb-4330-ff5e-c64b97b34f54"
      },
      "source": [
        "# Make the prediction of x\n",
        "\n",
        "yhat = model(x)\n",
        "print(\"The prediction: \", yhat)"
      ],
      "execution_count": 16,
      "outputs": [
        {
          "output_type": "stream",
          "text": [
            "The prediction:  tensor([[0.6130]], grad_fn=<SigmoidBackward>)\n"
          ],
          "name": "stdout"
        }
      ]
    },
    {
      "cell_type": "markdown",
      "metadata": {
        "id": "YjJ_wiZ4Nr-f",
        "colab_type": "text"
      },
      "source": [
        "The operation is represented in the following diagram:"
      ]
    },
    {
      "cell_type": "markdown",
      "metadata": {
        "id": "ocQ0MXJLNr-f",
        "colab_type": "text"
      },
      "source": [
        "<img src=\"https://s3-api.us-geo.objectstorage.softlayer.net/cf-courses-data/CognitiveClass/DL0110EN/notebook_images%20/chapter3/3.3.1.logisticwithouptut.png\" width=\"500\" alt=\"Sequential Example\" />"
      ]
    },
    {
      "cell_type": "markdown",
      "metadata": {
        "id": "W05XzYi2Nr-g",
        "colab_type": "text"
      },
      "source": [
        "Make a prediction with multiple samples:"
      ]
    },
    {
      "cell_type": "code",
      "metadata": {
        "id": "4NzWDDd-Nr-g",
        "colab_type": "code",
        "colab": {
          "base_uri": "https://localhost:8080/",
          "height": 68
        },
        "outputId": "9e914be4-bf84-44e8-dde7-dd8019879673"
      },
      "source": [
        "# The prediction of X\n",
        "\n",
        "yhat = model(X)\n",
        "print(\"The prediction: \", yhat)"
      ],
      "execution_count": 17,
      "outputs": [
        {
          "output_type": "stream",
          "text": [
            "The prediction:  tensor([[0.6130],\n",
            "        [0.6044],\n",
            "        [0.5957]], grad_fn=<SigmoidBackward>)\n"
          ],
          "name": "stdout"
        }
      ]
    },
    {
      "cell_type": "markdown",
      "metadata": {
        "id": "KhhPGv3-Nr-k",
        "colab_type": "text"
      },
      "source": [
        "The operation is represented in the following diagram: "
      ]
    },
    {
      "cell_type": "markdown",
      "metadata": {
        "id": "FJGqkw7SNr-l",
        "colab_type": "text"
      },
      "source": [
        "<img src=\"https://s3-api.us-geo.objectstorage.softlayer.net/cf-courses-data/CognitiveClass/DL0110EN/notebook_images%20/chapter3/3.1.1_logistic_with_outputs2.png\" width=\"800\" alt=\"Sequential Example\" />"
      ]
    },
    {
      "cell_type": "markdown",
      "metadata": {
        "id": "IoNZyDsYNr-m",
        "colab_type": "text"
      },
      "source": [
        "<!--Empty Space for separating topics-->"
      ]
    },
    {
      "cell_type": "markdown",
      "metadata": {
        "id": "XUu1J3BkNr-n",
        "colab_type": "text"
      },
      "source": [
        "<h2 id=\"Model\">Build Custom Modules</h2>"
      ]
    },
    {
      "cell_type": "markdown",
      "metadata": {
        "id": "jACzvsH6Nr-o",
        "colab_type": "text"
      },
      "source": [
        "In this section, you will build a custom Module or class. The model or object function is identical to using <code>nn.Sequential</code>."
      ]
    },
    {
      "cell_type": "markdown",
      "metadata": {
        "id": "R9rjFiJpNr-p",
        "colab_type": "text"
      },
      "source": [
        "Create a logistic regression custom module:"
      ]
    },
    {
      "cell_type": "code",
      "metadata": {
        "id": "hl0w258oNr-q",
        "colab_type": "code",
        "colab": {}
      },
      "source": [
        "# Create logistic_regression custom class\n",
        "\n",
        "class logistic_regression(nn.Module):\n",
        "    \n",
        "    # Constructor\n",
        "    def __init__(self, n_inputs):\n",
        "        super(logistic_regression, self).__init__()\n",
        "        self.linear = nn.Linear(n_inputs, 1)\n",
        "    \n",
        "    # Prediction\n",
        "    def forward(self, x):\n",
        "        yhat = torch.sigmoid(self.linear(x))\n",
        "        return yhat"
      ],
      "execution_count": 18,
      "outputs": []
    },
    {
      "cell_type": "markdown",
      "metadata": {
        "id": "IyOAlK-nNr-u",
        "colab_type": "text"
      },
      "source": [
        "Create a 1x1 tensor where x represents one data sample with one dimension, and 3x1 tensor where $X$ represents one data sample of one dimension:"
      ]
    },
    {
      "cell_type": "code",
      "metadata": {
        "id": "LJGq2K04Nr-u",
        "colab_type": "code",
        "colab": {
          "base_uri": "https://localhost:8080/",
          "height": 85
        },
        "outputId": "b2ef61e1-3c73-4bd3-9da3-9c54cfbd6e68"
      },
      "source": [
        "# Create x and X tensor\n",
        "\n",
        "x = torch.tensor([[1.0]])\n",
        "X = torch.tensor([[-100], [0], [100.0]])\n",
        "print('x = ', x)\n",
        "print('X = ', X)"
      ],
      "execution_count": 19,
      "outputs": [
        {
          "output_type": "stream",
          "text": [
            "x =  tensor([[1.]])\n",
            "X =  tensor([[-100.],\n",
            "        [   0.],\n",
            "        [ 100.]])\n"
          ],
          "name": "stdout"
        }
      ]
    },
    {
      "cell_type": "markdown",
      "metadata": {
        "id": "fe48s3JLNr-x",
        "colab_type": "text"
      },
      "source": [
        "Create a model to predict one dimension: "
      ]
    },
    {
      "cell_type": "code",
      "metadata": {
        "id": "A9syOCdXNr-y",
        "colab_type": "code",
        "colab": {}
      },
      "source": [
        "# Create logistic regression model\n",
        "\n",
        "model = logistic_regression(1)"
      ],
      "execution_count": 20,
      "outputs": []
    },
    {
      "cell_type": "markdown",
      "metadata": {
        "id": "ToMwopw5Nr-0",
        "colab_type": "text"
      },
      "source": [
        "In this case, the parameters are randomly initialized. You can view them the following ways:"
      ]
    },
    {
      "cell_type": "code",
      "metadata": {
        "id": "RKlFN4zNNr-1",
        "colab_type": "code",
        "colab": {
          "base_uri": "https://localhost:8080/",
          "height": 136
        },
        "outputId": "8566eb8f-65a1-484b-92a6-6f8e9d74846d"
      },
      "source": [
        "# Print parameters \n",
        "\n",
        "print(\"list(model.parameters()):\\n \", list(model.parameters()))\n",
        "print(\"\\nmodel.state_dict():\\n \", model.state_dict())"
      ],
      "execution_count": 21,
      "outputs": [
        {
          "output_type": "stream",
          "text": [
            "list(model.parameters()):\n",
            "  [Parameter containing:\n",
            "tensor([[0.2381]], requires_grad=True), Parameter containing:\n",
            "tensor([-0.1149], requires_grad=True)]\n",
            "\n",
            "model.state_dict():\n",
            "  OrderedDict([('linear.weight', tensor([[0.2381]])), ('linear.bias', tensor([-0.1149]))])\n"
          ],
          "name": "stdout"
        }
      ]
    },
    {
      "cell_type": "markdown",
      "metadata": {
        "id": "F6bJJJM7Nr-4",
        "colab_type": "text"
      },
      "source": [
        "Make a prediction with one sample:"
      ]
    },
    {
      "cell_type": "code",
      "metadata": {
        "id": "ILrQMFJeNr-5",
        "colab_type": "code",
        "colab": {
          "base_uri": "https://localhost:8080/",
          "height": 51
        },
        "outputId": "aba8c621-57ef-43c0-cbd7-ca728a4230e8"
      },
      "source": [
        "# Make the prediction of x\n",
        "\n",
        "yhat = model(x)\n",
        "print(\"The prediction result: \\n\", yhat)"
      ],
      "execution_count": 22,
      "outputs": [
        {
          "output_type": "stream",
          "text": [
            "The prediction result: \n",
            " tensor([[0.5307]], grad_fn=<SigmoidBackward>)\n"
          ],
          "name": "stdout"
        }
      ]
    },
    {
      "cell_type": "markdown",
      "metadata": {
        "id": "-E_ouneYNr-9",
        "colab_type": "text"
      },
      "source": [
        "Make a prediction with multiple samples:"
      ]
    },
    {
      "cell_type": "code",
      "metadata": {
        "id": "93x7H5KINr-9",
        "colab_type": "code",
        "colab": {
          "base_uri": "https://localhost:8080/",
          "height": 85
        },
        "outputId": "996a4c20-4593-4392-81ba-e0186fae0682"
      },
      "source": [
        "# Make the prediction of X\n",
        "\n",
        "yhat = model(X)\n",
        "print(\"The prediction result: \\n\", yhat)"
      ],
      "execution_count": 23,
      "outputs": [
        {
          "output_type": "stream",
          "text": [
            "The prediction result: \n",
            " tensor([[4.0805e-11],\n",
            "        [4.7130e-01],\n",
            "        [1.0000e+00]], grad_fn=<SigmoidBackward>)\n"
          ],
          "name": "stdout"
        }
      ]
    },
    {
      "cell_type": "markdown",
      "metadata": {
        "id": "LjAkFLrGNr_A",
        "colab_type": "text"
      },
      "source": [
        "Create a logistic regression object with a function with two inputs: "
      ]
    },
    {
      "cell_type": "code",
      "metadata": {
        "id": "8BJOM1IlNr_B",
        "colab_type": "code",
        "colab": {}
      },
      "source": [
        "# Create logistic regression model\n",
        "\n",
        "model = logistic_regression(2)"
      ],
      "execution_count": 24,
      "outputs": []
    },
    {
      "cell_type": "markdown",
      "metadata": {
        "id": "d5JKK6DkNr_E",
        "colab_type": "text"
      },
      "source": [
        "Create a 1x2 tensor where x represents one data sample with one dimension, and 3x2 tensor X represents one data sample of one dimension:"
      ]
    },
    {
      "cell_type": "code",
      "metadata": {
        "id": "BpPjAN43Nr_E",
        "colab_type": "code",
        "colab": {
          "base_uri": "https://localhost:8080/",
          "height": 85
        },
        "outputId": "6312b46e-be4d-4ca4-8d8c-6f7609637443"
      },
      "source": [
        "# Create x and X tensor\n",
        "\n",
        "x = torch.tensor([[1.0, 2.0]])\n",
        "X = torch.tensor([[100, -100], [0.0, 0.0], [-100, 100]])\n",
        "print('x = ', x)\n",
        "print('X = ', X)"
      ],
      "execution_count": 25,
      "outputs": [
        {
          "output_type": "stream",
          "text": [
            "x =  tensor([[1., 2.]])\n",
            "X =  tensor([[ 100., -100.],\n",
            "        [   0.,    0.],\n",
            "        [-100.,  100.]])\n"
          ],
          "name": "stdout"
        }
      ]
    },
    {
      "cell_type": "markdown",
      "metadata": {
        "id": "zdOa74z5Nr_J",
        "colab_type": "text"
      },
      "source": [
        "Make a prediction with one sample:"
      ]
    },
    {
      "cell_type": "code",
      "metadata": {
        "id": "16lGLNBMNr_J",
        "colab_type": "code",
        "colab": {
          "base_uri": "https://localhost:8080/",
          "height": 51
        },
        "outputId": "7fc12441-46ed-46c4-c1c4-776227c0a1d3"
      },
      "source": [
        "# Make the prediction of x\n",
        "\n",
        "yhat = model(x)\n",
        "print(\"The prediction result: \\n\", yhat)"
      ],
      "execution_count": 26,
      "outputs": [
        {
          "output_type": "stream",
          "text": [
            "The prediction result: \n",
            " tensor([[0.2943]], grad_fn=<SigmoidBackward>)\n"
          ],
          "name": "stdout"
        }
      ]
    },
    {
      "cell_type": "markdown",
      "metadata": {
        "id": "ixCKJVFRNr_M",
        "colab_type": "text"
      },
      "source": [
        "Make a prediction with multiple samples: "
      ]
    },
    {
      "cell_type": "code",
      "metadata": {
        "id": "o2MQl08DNr_N",
        "colab_type": "code",
        "colab": {
          "base_uri": "https://localhost:8080/",
          "height": 85
        },
        "outputId": "d74a3041-687b-4320-8b8d-d1445948def1"
      },
      "source": [
        "# Make the prediction of X\n",
        "\n",
        "yhat = model(X)\n",
        "print(\"The prediction result: \\n\", yhat)"
      ],
      "execution_count": 27,
      "outputs": [
        {
          "output_type": "stream",
          "text": [
            "The prediction result: \n",
            " tensor([[7.7529e-33],\n",
            "        [3.4841e-01],\n",
            "        [1.0000e+00]], grad_fn=<SigmoidBackward>)\n"
          ],
          "name": "stdout"
        }
      ]
    },
    {
      "cell_type": "markdown",
      "metadata": {
        "id": "fVmyDgn-Nr_P",
        "colab_type": "text"
      },
      "source": [
        "<!--Empty Space for separating topics-->"
      ]
    },
    {
      "cell_type": "markdown",
      "metadata": {
        "id": "ffFxPWeUNr_Q",
        "colab_type": "text"
      },
      "source": [
        "<h3>Practice</h3>"
      ]
    },
    {
      "cell_type": "markdown",
      "metadata": {
        "id": "5d8d1PsrNr_Q",
        "colab_type": "text"
      },
      "source": [
        "Make your own model <code>my_model</code> as applying linear regression first and then logistic regression using <code>nn.Sequential()</code>. Print out your prediction."
      ]
    },
    {
      "cell_type": "code",
      "metadata": {
        "id": "4riBYF2LNr_R",
        "colab_type": "code",
        "colab": {}
      },
      "source": [
        "# Practice: Make your model and make the prediction\n",
        "\n",
        "X = torch.tensor([-10.0])"
      ],
      "execution_count": 28,
      "outputs": []
    },
    {
      "cell_type": "markdown",
      "metadata": {
        "id": "BzPz-GgzNr_T",
        "colab_type": "text"
      },
      "source": [
        "Double-click <b>here</b> for the solution.\n",
        "\n",
        "<!-- \n",
        "my_model = nn.Sequential(nn.Linear(1, 1),nn.Sigmoid())\n",
        "yhat = my_model(X)\n",
        "print(\"The prediction: \", yhat)\n",
        "-->"
      ]
    },
    {
      "cell_type": "markdown",
      "metadata": {
        "id": "mbTyWb7jNr_T",
        "colab_type": "text"
      },
      "source": [
        "<!--Empty Space for separating topics-->"
      ]
    }
  ]
}