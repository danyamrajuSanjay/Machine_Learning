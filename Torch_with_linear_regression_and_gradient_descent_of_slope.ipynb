{
  "nbformat": 4,
  "nbformat_minor": 0,
  "metadata": {
    "kernelspec": {
      "display_name": "Python 3",
      "language": "python",
      "name": "python3"
    },
    "language_info": {
      "codemirror_mode": {
        "name": "ipython",
        "version": 3
      },
      "file_extension": ".py",
      "mimetype": "text/x-python",
      "name": "python",
      "nbconvert_exporter": "python",
      "pygments_lexer": "ipython3",
      "version": "3.6.8"
    },
    "colab": {
      "name": "Torch with linear regression and gradient descent of slope.ipynb",
      "provenance": [],
      "include_colab_link": true
    }
  },
  "cells": [
    {
      "cell_type": "markdown",
      "metadata": {
        "id": "view-in-github",
        "colab_type": "text"
      },
      "source": [
        "<a href=\"https://colab.research.google.com/github/danyamrajuSanjay/Machine_Learning/blob/master/Torch_with_linear_regression_and_gradient_descent_of_slope.ipynb\" target=\"_parent\"><img src=\"https://colab.research.google.com/assets/colab-badge.svg\" alt=\"Open In Colab\"/></a>"
      ]
    },
    {
      "cell_type": "markdown",
      "metadata": {
        "id": "dvygQG-wJUWg",
        "colab_type": "text"
      },
      "source": [
        "<h1>Linear Regression 1D: Training One Parameter</h1>"
      ]
    },
    {
      "cell_type": "markdown",
      "metadata": {
        "id": "C14tAOOzJUWh",
        "colab_type": "text"
      },
      "source": [
        "<h2>Table of Contents</h2>\n",
        "<p>In this lab, you will train a model with PyTorch by using data that you created. The model only has one parameter: the slope.</p>\n",
        "\n",
        "<ul>\n",
        "    <li><a href=\"#Makeup_Data\">Make Some Data</a></li>\n",
        "    <li><a href=\"#Model_Cost\">Create the Model and Cost Function (Total Loss)</a></li>\n",
        "    <li><a href=\"#Train\">Train the Model</a></li>\n",
        "</ul>\n",
        "<p>Estimated Time Needed: <strong>20 min</strong></p>\n",
        "\n",
        "<hr>"
      ]
    },
    {
      "cell_type": "markdown",
      "metadata": {
        "id": "zaJyCsmSJUWi",
        "colab_type": "text"
      },
      "source": [
        "<h2>Preparation</h2>"
      ]
    },
    {
      "cell_type": "markdown",
      "metadata": {
        "id": "S2Wma560JUWj",
        "colab_type": "text"
      },
      "source": [
        "The following are the libraries we are going to use for this lab."
      ]
    },
    {
      "cell_type": "code",
      "metadata": {
        "id": "Spk7-9i1JUWj",
        "colab_type": "code",
        "colab": {}
      },
      "source": [
        "# These are the libraries will be used for this lab.\n",
        "\n",
        "import numpy as np\n",
        "import matplotlib.pyplot as plt"
      ],
      "execution_count": 1,
      "outputs": []
    },
    {
      "cell_type": "markdown",
      "metadata": {
        "id": "-zq5MSEVJUWp",
        "colab_type": "text"
      },
      "source": [
        "The class <code>plot_diagram</code> helps us to visualize the data space and the parameter space during training and has nothing to do with PyTorch."
      ]
    },
    {
      "cell_type": "code",
      "metadata": {
        "id": "aj-KaGHtJUWq",
        "colab_type": "code",
        "colab": {}
      },
      "source": [
        "# The class for plotting\n",
        "\n",
        "class plot_diagram():\n",
        "    \n",
        "    # Constructor\n",
        "    def __init__(self, X, Y, w, stop, go = False):\n",
        "        start = w.data\n",
        "        self.error = []\n",
        "        self.parameter = []\n",
        "        self.X = X.numpy()\n",
        "        self.Y = Y.numpy()\n",
        "        self.parameter_values = torch.arange(start, stop)\n",
        "        self.Loss_function = [criterion(forward(X), Y) for w.data in self.parameter_values] \n",
        "        w.data = start\n",
        "        \n",
        "    # Executor\n",
        "    def __call__(self, Yhat, w, error, n):\n",
        "        self.error.append(error)\n",
        "        self.parameter.append(w.data)\n",
        "        plt.subplot(212)\n",
        "        plt.plot(self.X, Yhat.detach().numpy())\n",
        "        plt.plot(self.X, self.Y,'ro')\n",
        "        plt.xlabel(\"A\")\n",
        "        plt.ylim(-20, 20)\n",
        "        plt.subplot(211)\n",
        "        plt.title(\"Data Space (top) Estimated Line (bottom) Iteration \" + str(n))\n",
        "        plt.plot(self.parameter_values.numpy(), self.Loss_function)   \n",
        "        plt.plot(self.parameter, self.error, 'ro')\n",
        "        plt.xlabel(\"B\")\n",
        "        plt.figure()\n",
        "    \n",
        "    # Destructor\n",
        "    def __del__(self):\n",
        "        plt.close('all')"
      ],
      "execution_count": 3,
      "outputs": []
    },
    {
      "cell_type": "markdown",
      "metadata": {
        "id": "-3OVdJ1aJUWu",
        "colab_type": "text"
      },
      "source": [
        "<!--Empty Space for separating topics-->"
      ]
    },
    {
      "cell_type": "markdown",
      "metadata": {
        "id": "WfZszNzeJUWv",
        "colab_type": "text"
      },
      "source": [
        "<h2 id=\"Makeup_Data\">Make Some Data</h2>"
      ]
    },
    {
      "cell_type": "markdown",
      "metadata": {
        "id": "pnnl2-MQJUWw",
        "colab_type": "text"
      },
      "source": [
        "Import PyTorch library:"
      ]
    },
    {
      "cell_type": "code",
      "metadata": {
        "id": "I1HaOW0kJUWx",
        "colab_type": "code",
        "colab": {}
      },
      "source": [
        "# Import the library PyTorch\n",
        "\n",
        "import torch"
      ],
      "execution_count": 4,
      "outputs": []
    },
    {
      "cell_type": "markdown",
      "metadata": {
        "id": "VT8kBFuqJUW1",
        "colab_type": "text"
      },
      "source": [
        "Generate values from -3 to 3 that create a line with a slope of -3. This is the line you will estimate."
      ]
    },
    {
      "cell_type": "code",
      "metadata": {
        "id": "e0TKmNJzJUW2",
        "colab_type": "code",
        "colab": {
          "base_uri": "https://localhost:8080/",
          "height": 34
        },
        "outputId": "2de0f237-3f00-4bdc-bda6-94800c05321c"
      },
      "source": [
        "# Create the f(X) with a slope of -3\n",
        "\n",
        "X = torch.arange(-3, 3, 0.1).view(-1, 1)\n",
        "f = -3 * X\n",
        "X.shape"
      ],
      "execution_count": 9,
      "outputs": [
        {
          "output_type": "execute_result",
          "data": {
            "text/plain": [
              "torch.Size([60, 1])"
            ]
          },
          "metadata": {
            "tags": []
          },
          "execution_count": 9
        }
      ]
    },
    {
      "cell_type": "markdown",
      "metadata": {
        "id": "_9fI1tssJUW5",
        "colab_type": "text"
      },
      "source": [
        "Let us plot the line."
      ]
    },
    {
      "cell_type": "code",
      "metadata": {
        "id": "mFpjTB42JUW6",
        "colab_type": "code",
        "colab": {
          "base_uri": "https://localhost:8080/",
          "height": 279
        },
        "outputId": "a37625ec-db29-4f66-f8fe-b97c87ae5d63"
      },
      "source": [
        "# Plot the line with blue\n",
        "\n",
        "plt.plot(X.numpy(), f.numpy(), label = 'f')\n",
        "plt.xlabel('x')\n",
        "plt.ylabel('y')\n",
        "plt.legend()\n",
        "plt.show()"
      ],
      "execution_count": 10,
      "outputs": [
        {
          "output_type": "display_data",
          "data": {
            "image/png": "[encoded data removed]",
            "text/plain": [
              "<Figure size 432x288 with 1 Axes>"
            ]
          },
          "metadata": {
            "tags": [],
            "needs_background": "light"
          }
        }
      ]
    },
    {
      "cell_type": "markdown",
      "metadata": {
        "id": "OneEECfZJUW_",
        "colab_type": "text"
      },
      "source": [
        "Let us add some noise to the data in order to simulate the real data. Use <code>torch.randn(X.size())</code> to generate Gaussian noise that is the same size as <code>X</code> and has a standard deviation opf 0.1."
      ]
    },
    {
      "cell_type": "code",
      "metadata": {
        "id": "Ml4GsF6VJUXA",
        "colab_type": "code",
        "colab": {}
      },
      "source": [
        "# Add some noise to f(X) and save it in Y\n",
        "\n",
        "Y = f + 0.1 * torch.randn(X.size())"
      ],
      "execution_count": 11,
      "outputs": []
    },
    {
      "cell_type": "markdown",
      "metadata": {
        "id": "663JHX_uJUXD",
        "colab_type": "text"
      },
      "source": [
        "Plot the <code>Y</code>: "
      ]
    },
    {
      "cell_type": "code",
      "metadata": {
        "id": "LhsVRPnBJUXE",
        "colab_type": "code",
        "colab": {
          "base_uri": "https://localhost:8080/",
          "height": 279
        },
        "outputId": "e2e66e43-b184-4ceb-9682-90634ed68522"
      },
      "source": [
        "# Plot the data points\n",
        "\n",
        "plt.plot(X.numpy(), Y.numpy(), 'rx', label = 'Y')\n",
        "\n",
        "plt.plot(X.numpy(), f.numpy(), label = 'f')\n",
        "plt.xlabel('x')\n",
        "plt.ylabel('y')\n",
        "plt.legend()\n",
        "plt.show()"
      ],
      "execution_count": 12,
      "outputs": [
        {
          "output_type": "display_data",
          "data": {
            "image/png": "[encoded data removed]",
            "text/plain": [
              "<Figure size 432x288 with 1 Axes>"
            ]
          },
          "metadata": {
            "tags": [],
            "needs_background": "light"
          }
        }
      ]
    },
    {
      "cell_type": "markdown",
      "metadata": {
        "id": "J847sCt-JUXI",
        "colab_type": "text"
      },
      "source": [
        "<!--Empty Space for separating topics-->"
      ]
    },
    {
      "cell_type": "markdown",
      "metadata": {
        "id": "m-l-LeaZJUXJ",
        "colab_type": "text"
      },
      "source": [
        "<h2 id=\"Model_Cost\">Create the Model and Cost Function (Total Loss)</h2>"
      ]
    },
    {
      "cell_type": "markdown",
      "metadata": {
        "id": "vrD27tewJUXK",
        "colab_type": "text"
      },
      "source": [
        "In this section, let us create the model and the cost function (total loss) we are going to use to train the model and evaluate the result."
      ]
    },
    {
      "cell_type": "markdown",
      "metadata": {
        "id": "okd9vh1HJUXL",
        "colab_type": "text"
      },
      "source": [
        "First, define the <code>forward</code> function $y=w*x$. (We will add the bias in the next lab.)"
      ]
    },
    {
      "cell_type": "code",
      "metadata": {
        "id": "tdVnXTJiJUXL",
        "colab_type": "code",
        "colab": {}
      },
      "source": [
        "# Create forward function for prediction\n",
        "\n",
        "def forward(x):\n",
        "    return w * x"
      ],
      "execution_count": 13,
      "outputs": []
    },
    {
      "cell_type": "markdown",
      "metadata": {
        "id": "o4AXsZHjJUXQ",
        "colab_type": "text"
      },
      "source": [
        "Define the cost or criterion function using MSE (Mean Square Error): "
      ]
    },
    {
      "cell_type": "code",
      "metadata": {
        "id": "pAcoYXi7JUXQ",
        "colab_type": "code",
        "colab": {}
      },
      "source": [
        "# Create the MSE function for evaluate the result.\n",
        "\n",
        "def criterion(yhat, y):\n",
        "    return torch.mean((yhat - y) ** 2)"
      ],
      "execution_count": 14,
      "outputs": []
    },
    {
      "cell_type": "markdown",
      "metadata": {
        "id": "6_QVQ3p4JUXU",
        "colab_type": "text"
      },
      "source": [
        "Define the learning rate <code>lr</code> and an empty list <code>LOSS</code> to record the loss for each iteration:   "
      ]
    },
    {
      "cell_type": "code",
      "metadata": {
        "id": "1kD2hI8OJUXV",
        "colab_type": "code",
        "colab": {}
      },
      "source": [
        "# Create Learning Rate and an empty list to record the loss for each iteration\n",
        "\n",
        "lr = 0.1\n",
        "LOSS = []"
      ],
      "execution_count": 15,
      "outputs": []
    },
    {
      "cell_type": "markdown",
      "metadata": {
        "id": "fg47Q3U4JUXZ",
        "colab_type": "text"
      },
      "source": [
        "Now, we create a model parameter by setting the argument <code>requires_grad</code> to <code> True</code> because the system must learn it."
      ]
    },
    {
      "cell_type": "code",
      "metadata": {
        "id": "CAcaqOAgJUXa",
        "colab_type": "code",
        "colab": {}
      },
      "source": [
        "w = torch.tensor(-10.0, requires_grad = True)"
      ],
      "execution_count": 16,
      "outputs": []
    },
    {
      "cell_type": "markdown",
      "metadata": {
        "id": "ckpo7QSpJUXe",
        "colab_type": "text"
      },
      "source": [
        "Create a <code>plot_diagram</code> object to visualize the data space and the parameter space for each iteration during training:"
      ]
    },
    {
      "cell_type": "code",
      "metadata": {
        "id": "OoINyRE-JUXe",
        "colab_type": "code",
        "colab": {}
      },
      "source": [
        "gradient_plot = plot_diagram(X, Y, w, stop = 5)"
      ],
      "execution_count": 17,
      "outputs": []
    },
    {
      "cell_type": "markdown",
      "metadata": {
        "id": "bjuZQAP5JUXh",
        "colab_type": "text"
      },
      "source": [
        "<!--Empty Space for separating topics-->"
      ]
    },
    {
      "cell_type": "markdown",
      "metadata": {
        "id": "5nOJSXr-JUXh",
        "colab_type": "text"
      },
      "source": [
        "<h2 id=\"Train\">Train the Model</h2>"
      ]
    },
    {
      "cell_type": "markdown",
      "metadata": {
        "id": "hh00unDgJUXi",
        "colab_type": "text"
      },
      "source": [
        "Let us define a function for training the model. The steps will be described in the comments."
      ]
    },
    {
      "cell_type": "code",
      "metadata": {
        "id": "B_8rpk3AJUXi",
        "colab_type": "code",
        "colab": {}
      },
      "source": [
        "# Define a function for train the model\n",
        "\n",
        "def train_model(iter):\n",
        "    for epoch in range (iter):\n",
        "        \n",
        "        # make the prediction as we learned in the last lab\n",
        "        Yhat = forward(X)\n",
        "        \n",
        "        # calculate the iteration\n",
        "        loss = criterion(Yhat,Y)\n",
        "        \n",
        "        # plot the diagram for us to have a better idea\n",
        "        gradient_plot(Yhat, w, loss.item(), epoch)\n",
        "        \n",
        "        # store the loss into list\n",
        "        LOSS.append(loss.item())\n",
        "        \n",
        "        # backward pass: compute gradient of the loss with respect to all the learnable parameters\n",
        "        loss.backward()\n",
        "        \n",
        "        # updata parameters\n",
        "        w.data = w.data - lr * w.grad.data\n",
        "        \n",
        "        # zero the gradients before running the backward pass\n",
        "        w.grad.data.zero_()"
      ],
      "execution_count": 18,
      "outputs": []
    },
    {
      "cell_type": "markdown",
      "metadata": {
        "id": "izqUzdLzJUXm",
        "colab_type": "text"
      },
      "source": [
        "Let us try to run 4 iterations of gradient descent:  "
      ]
    },
    {
      "cell_type": "code",
      "metadata": {
        "id": "ssCaJa-kJUXm",
        "colab_type": "code",
        "colab": {
          "base_uri": "https://localhost:8080/",
          "height": 1000
        },
        "outputId": "3319fa2d-fcd5-4c06-b597-483ec1ad16ef"
      },
      "source": [
        "# Give 4 iterations for training the model here.\n",
        "\n",
        "train_model(4)"
      ],
      "execution_count": 19,
      "outputs": [
        {
          "output_type": "display_data",
          "data": {
            "image/png": "[encoded data removed]",
            "text/plain": [
              "<Figure size 432x288 with 2 Axes>"
            ]
          },
          "metadata": {
            "tags": [],
            "needs_background": "light"
          }
        },
        {
          "output_type": "display_data",
          "data": {
            "image/png": "[encoded data removed]",
            "text/plain": [
              "<Figure size 432x288 with 2 Axes>"
            ]
          },
          "metadata": {
            "tags": [],
            "needs_background": "light"
          }
        },
        {
          "output_type": "display_data",
          "data": {
            "image/png": "[encoded data removed]",
            "text/plain": [
              "<Figure size 432x288 with 2 Axes>"
            ]
          },
          "metadata": {
            "tags": [],
            "needs_background": "light"
          }
        },
        {
          "output_type": "display_data",
          "data": {
            "image/png": "[encoded data removed]",
            "text/plain": [
              "<Figure size 432x288 with 2 Axes>"
            ]
          },
          "metadata": {
            "tags": [],
            "needs_background": "light"
          }
        },
        {
          "output_type": "display_data",
          "data": {
            "text/plain": [
              "<Figure size 432x288 with 0 Axes>"
            ]
          },
          "metadata": {
            "tags": []
          }
        }
      ]
    },
    {
      "cell_type": "markdown",
      "metadata": {
        "id": "9drs9NOxJUXr",
        "colab_type": "text"
      },
      "source": [
        "Plot the cost for each iteration: "
      ]
    },
    {
      "cell_type": "code",
      "metadata": {
        "id": "xaGOy24QJUXr",
        "colab_type": "code",
        "colab": {
          "base_uri": "https://localhost:8080/",
          "height": 328
        },
        "outputId": "ae21f87e-c852-4610-bd72-7fdaa89685a1"
      },
      "source": [
        "# Plot the loss for each iteration\n",
        "\n",
        "plt.plot(LOSS)\n",
        "plt.tight_layout()\n",
        "plt.xlabel(\"Epoch/Iterations\")\n",
        "plt.ylabel(\"Cost\")"
      ],
      "execution_count": 20,
      "outputs": [
        {
          "output_type": "execute_result",
          "data": {
            "text/plain": [
              "Text(24.0, 0.5, 'Cost')"
            ]
          },
          "metadata": {
            "tags": []
          },
          "execution_count": 20
        },
        {
          "output_type": "display_data",
          "data": {
            "image/png": "[encoded data removed]",
            "text/plain": [
              "<Figure size 432x288 with 1 Axes>"
            ]
          },
          "metadata": {
            "tags": [],
            "needs_background": "light"
          }
        }
      ]
    },
    {
      "cell_type": "markdown",
      "metadata": {
        "id": "UPJKOieqJUXu",
        "colab_type": "text"
      },
      "source": [
        "<!--Empty Space for separating topics-->"
      ]
    },
    {
      "cell_type": "code",
      "metadata": {
        "id": "IDcEldXnRdL3",
        "colab_type": "code",
        "colab": {}
      },
      "source": [
        ""
      ],
      "execution_count": null,
      "outputs": []
    },
    {
      "cell_type": "code",
      "metadata": {
        "id": "7S5-MIH9RdOP",
        "colab_type": "code",
        "colab": {}
      },
      "source": [
        ""
      ],
      "execution_count": null,
      "outputs": []
    },
    {
      "cell_type": "code",
      "metadata": {
        "id": "qEjcdU5nRdUB",
        "colab_type": "code",
        "colab": {}
      },
      "source": [
        ""
      ],
      "execution_count": null,
      "outputs": []
    },
    {
      "cell_type": "code",
      "metadata": {
        "id": "FedeNYj2RdDv",
        "colab_type": "code",
        "colab": {}
      },
      "source": [
        ""
      ],
      "execution_count": null,
      "outputs": []
    }
  ]
}