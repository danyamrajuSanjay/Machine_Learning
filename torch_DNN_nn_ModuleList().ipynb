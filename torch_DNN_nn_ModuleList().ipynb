{
  "nbformat": 4,
  "nbformat_minor": 0,
  "metadata": {
    "kernelspec": {
      "display_name": "Python 3",
      "language": "python",
      "name": "python3"
    },
    "language_info": {
      "codemirror_mode": {
        "name": "ipython",
        "version": 3
      },
      "file_extension": ".py",
      "mimetype": "text/x-python",
      "name": "python",
      "nbconvert_exporter": "python",
      "pygments_lexer": "ipython3",
      "version": "3.6.8"
    },
    "colab": {
      "name": "torch nn.ModuleList() DNN.ipynb",
      "provenance": [],
      "include_colab_link": true
    }
  },
  "cells": [
    {
      "cell_type": "markdown",
      "metadata": {
        "id": "view-in-github",
        "colab_type": "text"
      },
      "source": [
        "<a href=\"https://colab.research.google.com/github/danyamrajuSanjay/Machine_Learning/blob/master/torch_DNN_nn_ModuleList().ipynb\" target=\"_parent\"><img src=\"https://colab.research.google.com/assets/colab-badge.svg\" alt=\"Open In Colab\"/></a>"
      ]
    },
    {
      "cell_type": "markdown",
      "metadata": {
        "id": "eZP3-YHJ62gm",
        "colab_type": "text"
      },
      "source": [
        "<h1>Deeper Neural Networks with nn.ModuleList()</h1>"
      ]
    },
    {
      "cell_type": "markdown",
      "metadata": {
        "id": "Sm9Di9mo62gn",
        "colab_type": "text"
      },
      "source": [
        "<h2>Table of Contents</h2>\n",
        "<p>In this lab, you will create a Deeper Neural Network with <code>nn.ModuleList()</code></p>\n",
        "\n",
        "<ul>\n",
        "    <li><a href=\"#Model\">Neural Network Module and Function for Training</a></li>\n",
        "    <li><a href=\"#Train\">Train and Validate the Model</a></li>\n",
        "</ul>\n",
        "<p>Estimated Time Needed: <strong>25 min</strong></p>\n",
        "\n",
        "<hr>"
      ]
    },
    {
      "cell_type": "markdown",
      "metadata": {
        "id": "RNmi-d7162go",
        "colab_type": "text"
      },
      "source": [
        "<h2>Preparation</h2>"
      ]
    },
    {
      "cell_type": "markdown",
      "metadata": {
        "id": "UK1GudId62go",
        "colab_type": "text"
      },
      "source": [
        "We'll need the following libraries"
      ]
    },
    {
      "cell_type": "code",
      "metadata": {
        "id": "T_RHuAy-62gp",
        "colab_type": "code",
        "colab": {
          "base_uri": "https://localhost:8080/",
          "height": 34
        },
        "outputId": "0af9f292-aef2-42b6-8559-6e47c4ce6792"
      },
      "source": [
        "# Import the libraries we need for this lab\n",
        "\n",
        "import matplotlib.pyplot as plt \n",
        "import numpy as np\n",
        "import torch\n",
        "import torch.nn as nn\n",
        "import torch.nn.functional as F\n",
        "from matplotlib.colors import ListedColormap\n",
        "from torch.utils.data import Dataset, DataLoader\n",
        "\n",
        "torch.manual_seed(1)"
      ],
      "execution_count": 1,
      "outputs": [
        {
          "output_type": "execute_result",
          "data": {
            "text/plain": [
              "<torch._C.Generator at 0x7f3fb398e0c0>"
            ]
          },
          "metadata": {
            "tags": []
          },
          "execution_count": 1
        }
      ]
    },
    {
      "cell_type": "markdown",
      "metadata": {
        "id": "OmxSTnYl62gw",
        "colab_type": "text"
      },
      "source": [
        "Function used to plot:"
      ]
    },
    {
      "cell_type": "code",
      "metadata": {
        "id": "uSnDf1kt62gw",
        "colab_type": "code",
        "colab": {}
      },
      "source": [
        "# Define the function to plot the diagram\n",
        "\n",
        "def plot_decision_regions_3class(model, data_set):\n",
        "    cmap_light = ListedColormap(['#FFAAAA', '#AAFFAA', '#00AAFF'])\n",
        "    cmap_bold = ListedColormap(['#FF0000', '#00FF00', '#00AAFF'])\n",
        "    X = data_set.x.numpy()\n",
        "    y = data_set.y.numpy()\n",
        "    h = .02\n",
        "    x_min, x_max = X[:, 0].min() - 0.1, X[:, 0].max() + 0.1 \n",
        "    y_min, y_max = X[:, 1].min() - 0.1, X[:, 1].max() + 0.1 \n",
        "    xx, yy = np.meshgrid(np.arange(x_min, x_max, h), np.arange(y_min, y_max, h))\n",
        "    XX = torch.Tensor(np.c_[xx.ravel(), yy.ravel()])\n",
        "    _, yhat = torch.max(model(XX), 1)\n",
        "    yhat = yhat.numpy().reshape(xx.shape)\n",
        "    plt.pcolormesh(xx, yy, yhat, cmap=cmap_light)\n",
        "    plt.plot(X[y[:] == 0, 0], X[y[:] == 0, 1], 'ro', label = 'y=0')\n",
        "    plt.plot(X[y[:] == 1, 0], X[y[:] == 1, 1], 'go', label = 'y=1')\n",
        "    plt.plot(X[y[:] == 2, 0], X[y[:] == 2, 1], 'o', label = 'y=2')\n",
        "    plt.title(\"decision region\")\n",
        "    plt.legend()"
      ],
      "execution_count": 2,
      "outputs": []
    },
    {
      "cell_type": "markdown",
      "metadata": {
        "id": "RURoSHqa62g0",
        "colab_type": "text"
      },
      "source": [
        "Create Dataset <code>Class</code>"
      ]
    },
    {
      "cell_type": "code",
      "metadata": {
        "id": "9cYu_Y1K62g0",
        "colab_type": "code",
        "colab": {}
      },
      "source": [
        "# Create Data Class\n",
        "\n",
        "class Data(Dataset):\n",
        "    \n",
        "    #  modified from: http://cs231n.github.io/neural-networks-case-study/\n",
        "    # Constructor\n",
        "    def __init__(self, K=3, N=500):\n",
        "        D = 2\n",
        "        X = np.zeros((N * K, D)) # data matrix (each row = single example)\n",
        "        y = np.zeros(N * K, dtype='uint8') # class labels\n",
        "        for j in range(K):\n",
        "          ix = range(N * j, N * (j + 1))\n",
        "          r = np.linspace(0.0, 1, N) # radius\n",
        "          t = np.linspace(j * 4, (j + 1) * 4, N) + np.random.randn(N) * 0.2 # theta\n",
        "          X[ix] = np.c_[r * np.sin(t), r*np.cos(t)]\n",
        "          y[ix] = j\n",
        "        self.y = torch.from_numpy(y).type(torch.LongTensor)\n",
        "        self.x = torch.from_numpy(X).type(torch.FloatTensor)\n",
        "        self.len = y.shape[0]\n",
        "    \n",
        "    # Getter\n",
        "    def __getitem__(self, index):    \n",
        "        return self.x[index], self.y[index]\n",
        "    \n",
        "    # Get Length\n",
        "    def __len__(self):\n",
        "        return self.len\n",
        "    \n",
        "    # Plot the diagram\n",
        "    def plot_stuff(self):\n",
        "        plt.plot(self.x[self.y[:] == 0, 0].numpy(), self.x[self.y[:] == 0, 1].numpy(), 'o', label=\"y = 0\")\n",
        "        plt.plot(self.x[self.y[:] == 1, 0].numpy(), self.x[self.y[:] == 1, 1].numpy(), 'ro', label=\"y = 1\")\n",
        "        plt.plot(self.x[self.y[:] == 2, 0].numpy(), self.x[self.y[:] == 2, 1].numpy(), 'go', label=\"y = 2\")\n",
        "        plt.legend()"
      ],
      "execution_count": 3,
      "outputs": []
    },
    {
      "cell_type": "markdown",
      "metadata": {
        "id": "wuLbV3se62g4",
        "colab_type": "text"
      },
      "source": [
        "<!--Empty Space for separating topics-->"
      ]
    },
    {
      "cell_type": "markdown",
      "metadata": {
        "id": "J8PyhEqg62g4",
        "colab_type": "text"
      },
      "source": [
        "<h2 id=\"Model\">Neural Network Module and Function for Training</h2>"
      ]
    },
    {
      "cell_type": "markdown",
      "metadata": {
        "id": "pv4p1fv-62g5",
        "colab_type": "text"
      },
      "source": [
        "Neural Network Module using <code>ModuleList()</code>"
      ]
    },
    {
      "cell_type": "code",
      "metadata": {
        "id": "8OoQqcbh62g6",
        "colab_type": "code",
        "colab": {}
      },
      "source": [
        "# Create Net model class\n",
        "\n",
        "class Net(nn.Module):\n",
        "    \n",
        "    # Constructor\n",
        "    def __init__(self, Layers):\n",
        "        super(Net, self).__init__()\n",
        "        self.hidden = nn.ModuleList()\n",
        "        for input_size, output_size in zip(Layers, Layers[1:]):\n",
        "            self.hidden.append(nn.Linear(input_size, output_size))\n",
        "    \n",
        "    # Prediction\n",
        "    def forward(self, activation):\n",
        "        L = len(self.hidden)\n",
        "        for (l, linear_transform) in zip(range(L), self.hidden):\n",
        "            if l < L - 1:\n",
        "                activation = F.relu(linear_transform(activation))\n",
        "            else:\n",
        "                activation = linear_transform(activation)\n",
        "        return activation"
      ],
      "execution_count": 4,
      "outputs": []
    },
    {
      "cell_type": "markdown",
      "metadata": {
        "id": "XRGWEv9462hB",
        "colab_type": "text"
      },
      "source": [
        "A function used to train. "
      ]
    },
    {
      "cell_type": "code",
      "metadata": {
        "id": "-jMh78EK62hD",
        "colab_type": "code",
        "colab": {}
      },
      "source": [
        "# Define the function for training the model\n",
        "\n",
        "def train(data_set, model, criterion, train_loader, optimizer, epochs=100):\n",
        "    LOSS = []\n",
        "    ACC = []\n",
        "    for epoch in range(epochs):\n",
        "        for x, y in train_loader:\n",
        "            optimizer.zero_grad()\n",
        "            yhat = model(x)\n",
        "            loss = criterion(yhat, y)\n",
        "            optimizer.zero_grad()\n",
        "            loss.backward()\n",
        "            optimizer.step()\n",
        "            LOSS.append(loss.item())\n",
        "        ACC.append(accuracy(model, data_set))\n",
        "    \n",
        "    fig, ax1 = plt.subplots()\n",
        "    color = 'tab:red'\n",
        "    ax1.plot(LOSS, color = color)\n",
        "    ax1.set_xlabel('Iteration', color = color)\n",
        "    ax1.set_ylabel('total loss', color = color)\n",
        "    ax1.tick_params(axis = 'y', color = color)\n",
        "    \n",
        "    ax2 = ax1.twinx()  \n",
        "    color = 'tab:blue'\n",
        "    ax2.set_ylabel('accuracy', color = color)  # we already handled the x-label with ax1\n",
        "    ax2.plot(ACC, color = color)\n",
        "    ax2.tick_params(axis = 'y', color = color)\n",
        "    fig.tight_layout()  # otherwise the right y-label is slightly clipped\n",
        "    \n",
        "    plt.show()\n",
        "    return LOSS"
      ],
      "execution_count": 5,
      "outputs": []
    },
    {
      "cell_type": "markdown",
      "metadata": {
        "id": "2Br-l9Gl62hJ",
        "colab_type": "text"
      },
      "source": [
        "A function used to calculate accuracy "
      ]
    },
    {
      "cell_type": "code",
      "metadata": {
        "id": "mFGuQeCc62hK",
        "colab_type": "code",
        "colab": {}
      },
      "source": [
        "# The function to calculate the accuracy\n",
        "\n",
        "def accuracy(model, data_set):\n",
        "    _, yhat = torch.max(model(data_set.x), 1)\n",
        "    return (yhat == data_set.y).numpy().mean()"
      ],
      "execution_count": 6,
      "outputs": []
    },
    {
      "cell_type": "markdown",
      "metadata": {
        "id": "I00_1vwb62hN",
        "colab_type": "text"
      },
      "source": [
        "<!--Empty Space for separating topics-->"
      ]
    },
    {
      "cell_type": "markdown",
      "metadata": {
        "id": "QJatSOJQ62hO",
        "colab_type": "text"
      },
      "source": [
        "<h2 id=\"Train\">Train and Validate the Model</h2>"
      ]
    },
    {
      "cell_type": "markdown",
      "metadata": {
        "id": "_YjBqVgT62hP",
        "colab_type": "text"
      },
      "source": [
        "Crate a dataset object:"
      ]
    },
    {
      "cell_type": "code",
      "metadata": {
        "id": "AbW6jV1G62hQ",
        "colab_type": "code",
        "colab": {
          "base_uri": "https://localhost:8080/",
          "height": 265
        },
        "outputId": "baae27e2-c01b-4c58-db73-b8a3290750b6"
      },
      "source": [
        "# Create a Dataset object\n",
        "\n",
        "data_set = Data()\n",
        "data_set.plot_stuff()\n",
        "data_set.y = data_set.y.view(-1)"
      ],
      "execution_count": 7,
      "outputs": [
        {
          "output_type": "display_data",
          "data": {
            "image/png": "[encoded data removed]",
            "text/plain": [
              "<Figure size 432x288 with 1 Axes>"
            ]
          },
          "metadata": {
            "tags": [],
            "needs_background": "light"
          }
        }
      ]
    },
    {
      "cell_type": "markdown",
      "metadata": {
        "id": "GbgQTjaF62hT",
        "colab_type": "text"
      },
      "source": [
        "Create a  network to classify three classes with 1 hidden layer with 50 neurons "
      ]
    },
    {
      "cell_type": "code",
      "metadata": {
        "id": "MbGU7v_n62hT",
        "colab_type": "code",
        "colab": {
          "base_uri": "https://localhost:8080/",
          "height": 561
        },
        "outputId": "af4ccd47-3766-4cf7-b58a-bf9417f7aa1d"
      },
      "source": [
        "# Train the model with 1 hidden layer with 50 neurons\n",
        "\n",
        "Layers = [2, 50, 3]\n",
        "model = Net(Layers)\n",
        "learning_rate = 0.10\n",
        "optimizer = torch.optim.SGD(model.parameters(), lr=learning_rate)\n",
        "train_loader = DataLoader(dataset=data_set, batch_size=20)\n",
        "criterion = nn.CrossEntropyLoss()\n",
        "LOSS = train(data_set, model, criterion, train_loader, optimizer, epochs=100)\n",
        "\n",
        "plot_decision_regions_3class(model, data_set)"
      ],
      "execution_count": 8,
      "outputs": [
        {
          "output_type": "display_data",
          "data": {
            "image/png": "[encoded data removed]",
            "text/plain": [
              "<Figure size 432x288 with 2 Axes>"
            ]
          },
          "metadata": {
            "tags": [],
            "needs_background": "light"
          }
        },
        {
          "output_type": "display_data",
          "data": {
            "image/png": "[encoded data removed]",
            "text/plain": [
              "<Figure size 432x288 with 1 Axes>"
            ]
          },
          "metadata": {
            "tags": [],
            "needs_background": "light"
          }
        }
      ]
    },
    {
      "cell_type": "markdown",
      "metadata": {
        "id": "ogCElFoN62hX",
        "colab_type": "text"
      },
      "source": [
        "Create a  network to classify three classes with 2 hidden layers with 20 neurons in total "
      ]
    },
    {
      "cell_type": "code",
      "metadata": {
        "id": "Rws0DIvY62hZ",
        "colab_type": "code",
        "colab": {
          "base_uri": "https://localhost:8080/",
          "height": 136
        },
        "outputId": "b30976fd-5d9a-4912-9990-3ebae38361dd"
      },
      "source": [
        "Net([3,3,4,3]).parameters"
      ],
      "execution_count": 9,
      "outputs": [
        {
          "output_type": "execute_result",
          "data": {
            "text/plain": [
              "<bound method Module.parameters of Net(\n",
              "  (hidden): ModuleList(\n",
              "    (0): Linear(in_features=3, out_features=3, bias=True)\n",
              "    (1): Linear(in_features=3, out_features=4, bias=True)\n",
              "    (2): Linear(in_features=4, out_features=3, bias=True)\n",
              "  )\n",
              ")>"
            ]
          },
          "metadata": {
            "tags": []
          },
          "execution_count": 9
        }
      ]
    },
    {
      "cell_type": "code",
      "metadata": {
        "id": "-3zigZp362hd",
        "colab_type": "code",
        "colab": {}
      },
      "source": [
        "# Train the model with 2 hidden layers with 20 neurons\n",
        "\n",
        "Layers = [2, 10, 10, 3]\n",
        "model = Net(Layers)\n",
        "learning_rate = 0.01\n",
        "optimizer = torch.optim.SGD(model.parameters(), lr=learning_rate)\n",
        "train_loader = DataLoader(dataset=data_set, batch_size=20)\n",
        "criterion = nn.CrossEntropyLoss()\n",
        "LOSS = train(data_set, model, criterion, train_loader, optimizer, epochs=1000)\n",
        "\n",
        "plot_decision_regions_3class(model, data_set)"
      ],
      "execution_count": null,
      "outputs": []
    },
    {
      "cell_type": "markdown",
      "metadata": {
        "id": "jgme5jTn62hg",
        "colab_type": "text"
      },
      "source": [
        "<h3>Practice</h3>"
      ]
    },
    {
      "cell_type": "markdown",
      "metadata": {
        "id": "wprS8U2k62hh",
        "colab_type": "text"
      },
      "source": [
        "Create a network with three hidden layers each with ten neurons, then train the network using the same process as above "
      ]
    },
    {
      "cell_type": "code",
      "metadata": {
        "id": "SoEybBZn62hh",
        "colab_type": "code",
        "colab": {}
      },
      "source": [
        "# Practice: Create a network with three hidden layers each with ten neurons.\n",
        "\n",
        "# Type your code here"
      ],
      "execution_count": null,
      "outputs": []
    },
    {
      "cell_type": "markdown",
      "metadata": {
        "id": "9i9K2Jua62hk",
        "colab_type": "text"
      },
      "source": [
        "Double-click <b>here</b> for the solution.\n",
        "\n",
        "<!-- \n",
        "Layers = [2, 10, 10, 10, 3]\n",
        "model = Net(Layers)\n",
        "learning_rate = 0.01\n",
        "optimizer = torch.optim.SGD(model.parameters(), lr = learning_rate)\n",
        "train_loader = DataLoader(dataset = data_set, batch_size = 20)\n",
        "criterion = nn.CrossEntropyLoss()\n",
        "LOSS = train(data_set, model, criterion, train_loader, optimizer, epochs = 1000)\n",
        "plot_decision_regions_3class(model, data_set)\n",
        "-->"
      ]
    },
    {
      "cell_type": "markdown",
      "metadata": {
        "id": "PXYTmDiO62hl",
        "colab_type": "text"
      },
      "source": [
        "<!--Empty Space for separating topics-->"
      ]
    }
  ]
}