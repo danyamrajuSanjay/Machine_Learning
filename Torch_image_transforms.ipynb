{
  "nbformat": 4,
  "nbformat_minor": 0,
  "metadata": {
    "kernelspec": {
      "display_name": "Python",
      "language": "python",
      "name": "conda-env-python-py"
    },
    "language_info": {
      "codemirror_mode": {
        "name": "ipython",
        "version": 3
      },
      "file_extension": ".py",
      "mimetype": "text/x-python",
      "name": "python",
      "nbconvert_exporter": "python",
      "pygments_lexer": "ipython3",
      "version": "3.6.7"
    },
    "colab": {
      "name": "Torch image transforms",
      "provenance": [],
      "include_colab_link": true
    }
  },
  "cells": [
    {
      "cell_type": "markdown",
      "metadata": {
        "id": "view-in-github",
        "colab_type": "text"
      },
      "source": [
        "<a href=\"https://colab.research.google.com/github/danyamrajuSanjay/Machine_Learning/blob/master/Torch_image_transforms.ipynb\" target=\"_parent\"><img src=\"https://colab.research.google.com/assets/colab-badge.svg\" alt=\"Open In Colab\"/></a>"
      ]
    },
    {
      "cell_type": "markdown",
      "metadata": {
        "id": "4ToIGSOA52pT",
        "colab_type": "text"
      },
      "source": [
        "<h1>Image Datasets and Transforms</h1> "
      ]
    },
    {
      "cell_type": "markdown",
      "metadata": {
        "id": "ZxbnoAhd52pU",
        "colab_type": "text"
      },
      "source": [
        "<h2>Table of Contents</h2>\n",
        "<p>In this lab, you will build a dataset objects for images; many of the processes can be applied to a larger dataset. Then you will apply pre-build transforms from Torchvision Transforms to that dataset.</p>\n",
        "<ul>\n",
        "    <li><a href=\"#auxiliary\"> Auxiliary Functions </a></li>\n",
        "    <li><a href=\"#Dataset\"> Datasets</a></li>\n",
        "    <li><a href=\"#Torchvision\">Torchvision Transforms</a></li>\n",
        "</ul>\n",
        "<p>Estimated Time Needed: <strong>25 min</strong></p>\n",
        "\n",
        "<hr>"
      ]
    },
    {
      "cell_type": "markdown",
      "metadata": {
        "id": "MS9A9SVR52pV",
        "colab_type": "text"
      },
      "source": [
        "<h2>Preparation</h2>"
      ]
    },
    {
      "cell_type": "markdown",
      "metadata": {
        "id": "_yA2CkVn52pV",
        "colab_type": "text"
      },
      "source": [
        "Download the dataset and unzip the files in your data directory, **to download faster this dataset has only 100 samples**:"
      ]
    },
    {
      "cell_type": "code",
      "metadata": {
        "id": "v3C46oRO52pX",
        "colab_type": "code",
        "colab": {
          "base_uri": "https://localhost:8080/",
          "height": 204
        },
        "outputId": "a29f325b-946a-4455-cb97-cc63ac2b898d"
      },
      "source": [
        "! wget https://s3-api.us-geo.objectstorage.softlayer.net/cf-courses-data/CognitiveClass/DL0110EN/datasets/img.tar.gz -P /resources/data\n"
      ],
      "execution_count": 1,
      "outputs": [
        {
          "output_type": "stream",
          "text": [
            "--2020-08-27 12:50:02--  https://s3-api.us-geo.objectstorage.softlayer.net/cf-courses-data/CognitiveClass/DL0110EN/datasets/img.tar.gz\n",
            "Resolving s3-api.us-geo.objectstorage.softlayer.net (s3-api.us-geo.objectstorage.softlayer.net)... 67.228.254.196\n",
            "Connecting to s3-api.us-geo.objectstorage.softlayer.net (s3-api.us-geo.objectstorage.softlayer.net)|67.228.254.196|:443... connected.\n",
            "HTTP request sent, awaiting response... 200 OK\n",
            "Length: 50460 (49K) [application/octet-stream]\n",
            "Saving to: ‘/resources/data/img.tar.gz’\n",
            "\n",
            "img.tar.gz          100%[===================>]  49.28K  --.-KB/s    in 0.04s   \n",
            "\n",
            "2020-08-27 12:50:02 (1.28 MB/s) - ‘/resources/data/img.tar.gz’ saved [50460/50460]\n",
            "\n"
          ],
          "name": "stdout"
        }
      ]
    },
    {
      "cell_type": "code",
      "metadata": {
        "id": "h5P8f04s52pd",
        "colab_type": "code",
        "colab": {}
      },
      "source": [
        "!tar -xf /resources/data/img.tar.gz "
      ],
      "execution_count": 2,
      "outputs": []
    },
    {
      "cell_type": "code",
      "metadata": {
        "id": "kykRHySV52pi",
        "colab_type": "code",
        "colab": {
          "base_uri": "https://localhost:8080/",
          "height": 204
        },
        "outputId": "3453449f-1074-4334-beee-f437507aafd4"
      },
      "source": [
        "!wget https://s3-api.us-geo.objectstorage.softlayer.net/cf-courses-data/CognitiveClass/DL0110EN/datasets/index.csv "
      ],
      "execution_count": 3,
      "outputs": [
        {
          "output_type": "stream",
          "text": [
            "--2020-08-27 12:50:02--  https://s3-api.us-geo.objectstorage.softlayer.net/cf-courses-data/CognitiveClass/DL0110EN/datasets/index.csv\n",
            "Resolving s3-api.us-geo.objectstorage.softlayer.net (s3-api.us-geo.objectstorage.softlayer.net)... 67.228.254.196\n",
            "Connecting to s3-api.us-geo.objectstorage.softlayer.net (s3-api.us-geo.objectstorage.softlayer.net)|67.228.254.196|:443... connected.\n",
            "HTTP request sent, awaiting response... 200 OK\n",
            "Length: 1680905 (1.6M) [text/csv]\n",
            "Saving to: ‘index.csv’\n",
            "\n",
            "index.csv           100%[===================>]   1.60M  10.7MB/s    in 0.2s    \n",
            "\n",
            "2020-08-27 12:50:03 (10.7 MB/s) - ‘index.csv’ saved [1680905/1680905]\n",
            "\n"
          ],
          "name": "stdout"
        }
      ]
    },
    {
      "cell_type": "markdown",
      "metadata": {
        "id": "xdFdWswX52pm",
        "colab_type": "text"
      },
      "source": [
        "We will use this function in the lab:"
      ]
    },
    {
      "cell_type": "code",
      "metadata": {
        "id": "QxF77IrY52pn",
        "colab_type": "code",
        "colab": {}
      },
      "source": [
        "def show_data(data_sample, shape = (28, 28)):\n",
        "    plt.imshow(data_sample[0].numpy().reshape(shape), cmap='gray')\n",
        "    plt.title('y = ' + data_sample[1])"
      ],
      "execution_count": 4,
      "outputs": []
    },
    {
      "cell_type": "markdown",
      "metadata": {
        "id": "iZhMDNW752pr",
        "colab_type": "text"
      },
      "source": [
        "The following are the libraries we are going to use for this lab. The <code>torch.manual_seed()</code> is for forcing the random function to give the same number every time we try to recompile it."
      ]
    },
    {
      "cell_type": "code",
      "metadata": {
        "id": "A5R9sJyC52ps",
        "colab_type": "code",
        "colab": {
          "base_uri": "https://localhost:8080/",
          "height": 34
        },
        "outputId": "6057fff6-47dc-4a7a-95e2-c47cfe819470"
      },
      "source": [
        "# These are the libraries will be used for this lab.\n",
        "\n",
        "import torch \n",
        "import matplotlib.pylab as plt\n",
        "import numpy as np\n",
        "from torch.utils.data import Dataset, DataLoader\n",
        "torch.manual_seed(0)"
      ],
      "execution_count": 5,
      "outputs": [
        {
          "output_type": "execute_result",
          "data": {
            "text/plain": [
              "<torch._C.Generator at 0x7f40874851c8>"
            ]
          },
          "metadata": {
            "tags": []
          },
          "execution_count": 5
        }
      ]
    },
    {
      "cell_type": "code",
      "metadata": {
        "id": "pyF2P5I152p1",
        "colab_type": "code",
        "colab": {}
      },
      "source": [
        "from matplotlib.pyplot import imshow\n",
        "import matplotlib.pylab as plt\n",
        "from PIL import Image\n",
        "import pandas as pd\n",
        "import os"
      ],
      "execution_count": 6,
      "outputs": []
    },
    {
      "cell_type": "markdown",
      "metadata": {
        "id": "xtqzv40l52p6",
        "colab_type": "text"
      },
      "source": [
        "<!--Empty Space for separating topics-->"
      ]
    },
    {
      "cell_type": "markdown",
      "metadata": {
        "id": "R5QcMvMZ52p7",
        "colab_type": "text"
      },
      "source": [
        "<h2 id=\"auxiliary\">Auxiliary Functions</h2>"
      ]
    },
    {
      "cell_type": "markdown",
      "metadata": {
        "id": "dVq1J2Un52p8",
        "colab_type": "text"
      },
      "source": [
        "You will use the following function as components of a dataset object, in this section, you will review each of the components independently."
      ]
    },
    {
      "cell_type": "markdown",
      "metadata": {
        "id": "c8AHBm0q52p9",
        "colab_type": "text"
      },
      "source": [
        " The path to the csv file with the labels for each image."
      ]
    },
    {
      "cell_type": "code",
      "metadata": {
        "id": "ro-Yf7AU52p-",
        "colab_type": "code",
        "colab": {}
      },
      "source": [
        "# Read CSV file from the URL and print out the first five samples\n",
        "directory=\"\"\n",
        "csv_file ='index.csv'\n",
        "csv_path=os.path.join(directory,csv_file)"
      ],
      "execution_count": 7,
      "outputs": []
    },
    {
      "cell_type": "markdown",
      "metadata": {
        "id": "ccKdnkM652qB",
        "colab_type": "text"
      },
      "source": [
        "You can load the CSV file and convert it into a dataframe , using the Pandas function <code>read_csv()</code> . You can view the dataframe using the method head."
      ]
    },
    {
      "cell_type": "code",
      "metadata": {
        "id": "HVZ4KXgj52qB",
        "colab_type": "code",
        "colab": {
          "base_uri": "https://localhost:8080/",
          "height": 204
        },
        "outputId": "468dd492-1f7e-48ac-b72c-4741ca916161"
      },
      "source": [
        "data_name = pd.read_csv(csv_path)\n",
        "data_name.head()"
      ],
      "execution_count": 8,
      "outputs": [
        {
          "output_type": "execute_result",
          "data": {
            "text/html": [
              "<div>\n",
              "<style scoped>\n",
              "    .dataframe tbody tr th:only-of-type {\n",
              "        vertical-align: middle;\n",
              "    }\n",
              "\n",
              "    .dataframe tbody tr th {\n",
              "        vertical-align: top;\n",
              "    }\n",
              "\n",
              "    .dataframe thead th {\n",
              "        text-align: right;\n",
              "    }\n",
              "</style>\n",
              "<table border=\"1\" class=\"dataframe\">\n",
              "  <thead>\n",
              "    <tr style=\"text-align: right;\">\n",
              "      <th></th>\n",
              "      <th>category</th>\n",
              "      <th>image</th>\n",
              "    </tr>\n",
              "  </thead>\n",
              "  <tbody>\n",
              "    <tr>\n",
              "      <th>0</th>\n",
              "      <td>Ankle boot</td>\n",
              "      <td>img/fashion0.png</td>\n",
              "    </tr>\n",
              "    <tr>\n",
              "      <th>1</th>\n",
              "      <td>T-shirt</td>\n",
              "      <td>img/fashion1.png</td>\n",
              "    </tr>\n",
              "    <tr>\n",
              "      <th>2</th>\n",
              "      <td>T-shirt</td>\n",
              "      <td>img/fashion2.png</td>\n",
              "    </tr>\n",
              "    <tr>\n",
              "      <th>3</th>\n",
              "      <td>Dress</td>\n",
              "      <td>img/fashion3.png</td>\n",
              "    </tr>\n",
              "    <tr>\n",
              "      <th>4</th>\n",
              "      <td>T-shirt</td>\n",
              "      <td>img/fashion4.png</td>\n",
              "    </tr>\n",
              "  </tbody>\n",
              "</table>\n",
              "</div>"
            ],
            "text/plain": [
              "     category             image\n",
              "0  Ankle boot  img/fashion0.png\n",
              "1     T-shirt  img/fashion1.png\n",
              "2     T-shirt  img/fashion2.png\n",
              "3       Dress  img/fashion3.png\n",
              "4     T-shirt  img/fashion4.png"
            ]
          },
          "metadata": {
            "tags": []
          },
          "execution_count": 8
        }
      ]
    },
    {
      "cell_type": "code",
      "metadata": {
        "id": "USihreK0-69A",
        "colab_type": "code",
        "colab": {
          "base_uri": "https://localhost:8080/",
          "height": 35
        },
        "outputId": "daae78e5-0897-4367-96a2-fe6cd945c8b9"
      },
      "source": [
        "csv_path"
      ],
      "execution_count": 9,
      "outputs": [
        {
          "output_type": "execute_result",
          "data": {
            "application/vnd.google.colaboratory.intrinsic+json": {
              "type": "string"
            },
            "text/plain": [
              "'index.csv'"
            ]
          },
          "metadata": {
            "tags": []
          },
          "execution_count": 9
        }
      ]
    },
    {
      "cell_type": "markdown",
      "metadata": {
        "id": "_4gHtimp52qE",
        "colab_type": "text"
      },
      "source": [
        "The first column of the dataframe corresponds to the type of clothing. The second column is the name of the image file corresponding to the clothing. You can obtain the path of the first file by using the method  <code> <i>DATAFRAME</i>.iloc[0, 1]</code>. The first argument corresponds to the sample number, and the second input corresponds to the column index. "
      ]
    },
    {
      "cell_type": "code",
      "metadata": {
        "id": "9WcHq2y452qE",
        "colab_type": "code",
        "colab": {
          "base_uri": "https://localhost:8080/",
          "height": 34
        },
        "outputId": "d379882b-660f-48ff-9440-476f91c3f6c0"
      },
      "source": [
        "# Get the value on location row 0, column 1 (Notice that index starts at 0)\n",
        "#rember this dataset has only 100 samples to make the download faster  \n",
        "print('File name:', data_name.iloc[0, 1])"
      ],
      "execution_count": 10,
      "outputs": [
        {
          "output_type": "stream",
          "text": [
            "File name: img/fashion0.png\n"
          ],
          "name": "stdout"
        }
      ]
    },
    {
      "cell_type": "markdown",
      "metadata": {
        "id": "QDrDc7C252qI",
        "colab_type": "text"
      },
      "source": [
        "As the class of the sample is in the first column, you can also obtain the class value as follows."
      ]
    },
    {
      "cell_type": "code",
      "metadata": {
        "id": "jyS7vb2d52qJ",
        "colab_type": "code",
        "colab": {
          "base_uri": "https://localhost:8080/",
          "height": 34
        },
        "outputId": "7e628b3b-5865-4440-97d7-ff77042cc2e1"
      },
      "source": [
        "# Get the value on location row 0, column 0 (Notice that index starts at 0.)\n",
        "\n",
        "print('y:', data_name.iloc[0, 0])"
      ],
      "execution_count": 11,
      "outputs": [
        {
          "output_type": "stream",
          "text": [
            "y: Ankle boot\n"
          ],
          "name": "stdout"
        }
      ]
    },
    {
      "cell_type": "markdown",
      "metadata": {
        "id": "6l0qtwE952qM",
        "colab_type": "text"
      },
      "source": [
        "Similarly, You can obtain the file name of the second image file and class type:"
      ]
    },
    {
      "cell_type": "code",
      "metadata": {
        "id": "9fbu0Nqi52qN",
        "colab_type": "code",
        "colab": {
          "base_uri": "https://localhost:8080/",
          "height": 51
        },
        "outputId": "565d78e8-5114-4403-d398-7ed12a581062"
      },
      "source": [
        "# Print out the file name and the class number of the element on row 1 (the second row)\n",
        "\n",
        "print('File name:', data_name.iloc[1, 1])\n",
        "print('class or y:', data_name.iloc[1, 0])"
      ],
      "execution_count": 12,
      "outputs": [
        {
          "output_type": "stream",
          "text": [
            "File name: img/fashion1.png\n",
            "class or y: T-shirt\n"
          ],
          "name": "stdout"
        }
      ]
    },
    {
      "cell_type": "markdown",
      "metadata": {
        "id": "Vb-DvJN152qQ",
        "colab_type": "text"
      },
      "source": [
        "The number of samples corresponds to the number of rows in a dataframe. You can obtain the number of rows using the following lines of code. This will correspond the data attribute <code>len</code>."
      ]
    },
    {
      "cell_type": "code",
      "metadata": {
        "id": "9YoMWUEp52qR",
        "colab_type": "code",
        "colab": {
          "base_uri": "https://localhost:8080/",
          "height": 34
        },
        "outputId": "b716071a-eaf7-487f-f6f3-c11966a73bdb"
      },
      "source": [
        "# Print out the total number of rows in traing dataset\n",
        "\n",
        "print('The number of rows: ', data_name.shape[0])"
      ],
      "execution_count": 13,
      "outputs": [
        {
          "output_type": "stream",
          "text": [
            "The number of rows:  60000\n"
          ],
          "name": "stdout"
        }
      ]
    },
    {
      "cell_type": "markdown",
      "metadata": {
        "id": "iDh6sdMv52qV",
        "colab_type": "text"
      },
      "source": [
        "<h2 id=\"load_image\">Load Image</h2>"
      ]
    },
    {
      "cell_type": "markdown",
      "metadata": {
        "id": "Tpt8wQ4352qV",
        "colab_type": "text"
      },
      "source": [
        "To load the image, you need the directory and the image name. You can concatenate the variable <code>train_data_dir</code> with the name of the image stored in a Dataframe. Finally, you will store the result in the variable <code>image_name</code>"
      ]
    },
    {
      "cell_type": "code",
      "metadata": {
        "id": "n9Hbxtl1_FLp",
        "colab_type": "code",
        "colab": {
          "base_uri": "https://localhost:8080/",
          "height": 35
        },
        "outputId": "389753d2-b8f3-4e4e-e325-37e30a610c2a"
      },
      "source": [
        "directory"
      ],
      "execution_count": 14,
      "outputs": [
        {
          "output_type": "execute_result",
          "data": {
            "application/vnd.google.colaboratory.intrinsic+json": {
              "type": "string"
            },
            "text/plain": [
              "''"
            ]
          },
          "metadata": {
            "tags": []
          },
          "execution_count": 14
        }
      ]
    },
    {
      "cell_type": "code",
      "metadata": {
        "id": "VieZc77752qW",
        "colab_type": "code",
        "colab": {
          "base_uri": "https://localhost:8080/",
          "height": 35
        },
        "outputId": "07d178e6-1f80-4d77-f56b-de8a6d497545"
      },
      "source": [
        "# Combine the directory path with file name\n",
        "\n",
        "image_name =data_name.iloc[1, 1]\n",
        "image_name"
      ],
      "execution_count": 15,
      "outputs": [
        {
          "output_type": "execute_result",
          "data": {
            "application/vnd.google.colaboratory.intrinsic+json": {
              "type": "string"
            },
            "text/plain": [
              "'img/fashion1.png'"
            ]
          },
          "metadata": {
            "tags": []
          },
          "execution_count": 15
        }
      ]
    },
    {
      "cell_type": "markdown",
      "metadata": {
        "id": "SDzDXzfa52qa",
        "colab_type": "text"
      },
      "source": [
        "we can find the image path:"
      ]
    },
    {
      "cell_type": "code",
      "metadata": {
        "id": "GRCukPVL52qa",
        "colab_type": "code",
        "colab": {
          "base_uri": "https://localhost:8080/",
          "height": 35
        },
        "outputId": "4b72fa68-1da0-4845-bfdc-f7adc3c3abe7"
      },
      "source": [
        "image_path=os.path.join(directory,image_name)\n",
        "image_path"
      ],
      "execution_count": 16,
      "outputs": [
        {
          "output_type": "execute_result",
          "data": {
            "application/vnd.google.colaboratory.intrinsic+json": {
              "type": "string"
            },
            "text/plain": [
              "'img/fashion1.png'"
            ]
          },
          "metadata": {
            "tags": []
          },
          "execution_count": 16
        }
      ]
    },
    {
      "cell_type": "code",
      "metadata": {
        "id": "ogEpJGjU_LOI",
        "colab_type": "code",
        "colab": {
          "base_uri": "https://localhost:8080/",
          "height": 282
        },
        "outputId": "ecae25f5-193c-4c36-92ba-0fd48ea0aeea"
      },
      "source": [
        "import matplotlib.image as mpimage\n",
        "img=mpimage.imread(image_path)\n",
        "plt.imshow(img)"
      ],
      "execution_count": 19,
      "outputs": [
        {
          "output_type": "execute_result",
          "data": {
            "text/plain": [
              "<matplotlib.image.AxesImage at 0x7f403bd38c88>"
            ]
          },
          "metadata": {
            "tags": []
          },
          "execution_count": 19
        },
        {
          "output_type": "display_data",
          "data": {
            "image/png": "[encoded data removed]",
            "text/plain": [
              "<Figure size 432x288 with 1 Axes>"
            ]
          },
          "metadata": {
            "tags": [],
            "needs_background": "light"
          }
        }
      ]
    },
    {
      "cell_type": "markdown",
      "metadata": {
        "id": "cZyOJP8K52qf",
        "colab_type": "text"
      },
      "source": [
        "You can then use the function <code>Image.open</code> to store the image to the variable <code>image</code> and display the image and class ."
      ]
    },
    {
      "cell_type": "code",
      "metadata": {
        "id": "GartzbTl52qf",
        "colab_type": "code",
        "colab": {
          "base_uri": "https://localhost:8080/",
          "height": 281
        },
        "outputId": "6453c4a9-273a-47db-ed36-c67083e40678"
      },
      "source": [
        "# Plot the second training image\n",
        "\n",
        "image = Image.open(image_path)\n",
        "plt.imshow(image)\n",
        "plt.title(data_name.iloc[1, 0])\n",
        "plt.show()"
      ],
      "execution_count": 20,
      "outputs": [
        {
          "output_type": "display_data",
          "data": {
            "image/png": "[encoded data removed]",
            "text/plain": [
              "<Figure size 432x288 with 1 Axes>"
            ]
          },
          "metadata": {
            "tags": [],
            "needs_background": "light"
          }
        }
      ]
    },
    {
      "cell_type": "markdown",
      "metadata": {
        "id": "kQ2PuSbQ52qi",
        "colab_type": "text"
      },
      "source": [
        "You can repeat the process for the 20th image."
      ]
    },
    {
      "cell_type": "code",
      "metadata": {
        "id": "FtM0W6wM52qj",
        "colab_type": "code",
        "colab": {
          "base_uri": "https://localhost:8080/",
          "height": 281
        },
        "outputId": "557523c6-88c1-4c79-a4b3-8ba8eaf21666"
      },
      "source": [
        "# Plot the 20th image\n",
        "\n",
        "image_name = data_name.iloc[19, 1]\n",
        "image_path=os.path.join(directory,image_name)\n",
        "image = Image.open(image_path)\n",
        "plt.imshow(image)\n",
        "plt.title(data_name.iloc[19, 0])\n",
        "plt.show()"
      ],
      "execution_count": 22,
      "outputs": [
        {
          "output_type": "display_data",
          "data": {
            "image/png": "[encoded data removed]",
            "text/plain": [
              "<Figure size 432x288 with 1 Axes>"
            ]
          },
          "metadata": {
            "tags": [],
            "needs_background": "light"
          }
        }
      ]
    },
    {
      "cell_type": "markdown",
      "metadata": {
        "id": "Wr37p5Vu52qm",
        "colab_type": "text"
      },
      "source": [
        "<hr>"
      ]
    },
    {
      "cell_type": "markdown",
      "metadata": {
        "id": "aDWefwFO52qn",
        "colab_type": "text"
      },
      "source": [
        " Create the dataset object."
      ]
    },
    {
      "cell_type": "markdown",
      "metadata": {
        "id": "TTUJU-As52qn",
        "colab_type": "text"
      },
      "source": [
        "<h2 id=\"data_class\">Create a Dataset Class</h2>"
      ]
    },
    {
      "cell_type": "markdown",
      "metadata": {
        "id": "shdwmeRc52qo",
        "colab_type": "text"
      },
      "source": [
        "In this section, we will use the components in the last section to build a dataset class and then create an object."
      ]
    },
    {
      "cell_type": "code",
      "metadata": {
        "id": "_Gvtgn1t52qp",
        "colab_type": "code",
        "colab": {}
      },
      "source": [
        "# Create your own dataset object\n",
        "\n",
        "class Dataset(Dataset):\n",
        "\n",
        "    # Constructor\n",
        "    def __init__(self, csv_file, data_dir, transform=None):\n",
        "        \n",
        "        # Image directory\n",
        "        self.data_dir=data_dir\n",
        "        \n",
        "        # The transform is goint to be used on image\n",
        "        self.transform = transform\n",
        "        data_dircsv_file=os.path.join(self.data_dir,csv_file)\n",
        "        # Load the CSV file contians image info\n",
        "        self.data_name= pd.read_csv(data_dircsv_file)\n",
        "        \n",
        "        # Number of images in dataset\n",
        "        self.len=self.data_name.shape[0] \n",
        "    \n",
        "    # Get the length\n",
        "    def __len__(self):\n",
        "        return self.len\n",
        "    \n",
        "    # Getter\n",
        "    def __getitem__(self, idx):\n",
        "        \n",
        "        # Image file path\n",
        "        img_name=os.path.join(self.data_dir,self.data_name.iloc[idx, 1])\n",
        "        # Open image file\n",
        "        image = Image.open(img_name)\n",
        "        \n",
        "        # The class label for the image\n",
        "        y = self.data_name.iloc[idx, 0]\n",
        "        \n",
        "        # If there is any transform method, apply it onto the image\n",
        "        if self.transform:\n",
        "            image = self.transform(image)\n",
        "\n",
        "        return image, y"
      ],
      "execution_count": 42,
      "outputs": []
    },
    {
      "cell_type": "code",
      "metadata": {
        "id": "CGeRf6fh52qr",
        "colab_type": "code",
        "colab": {
          "base_uri": "https://localhost:8080/",
          "height": 34
        },
        "outputId": "bc1e7cb3-a119-4d21-d474-66a50bf4c017"
      },
      "source": [
        "# Create the dataset objects\n",
        "\n",
        "dataset = Dataset(csv_file=csv_file, data_dir=directory,transform=transforms.ToTensor())\n",
        "dataset[0][0].shape"
      ],
      "execution_count": 45,
      "outputs": [
        {
          "output_type": "execute_result",
          "data": {
            "text/plain": [
              "torch.Size([1, 28, 28])"
            ]
          },
          "metadata": {
            "tags": []
          },
          "execution_count": 45
        }
      ]
    },
    {
      "cell_type": "markdown",
      "metadata": {
        "id": "ABY7TNRE52qu",
        "colab_type": "text"
      },
      "source": [
        "Each sample of the image and the class y is stored in a tuple <code> dataset[sample]</code> . The image is the first element in the tuple <code> dataset[sample][0]</code> the label or class is the second element in the tuple <code> dataset[sample][1]</code>. For example you can plot the first image and class."
      ]
    },
    {
      "cell_type": "code",
      "metadata": {
        "id": "4hRB2oGqFqKl",
        "colab_type": "code",
        "colab": {
          "base_uri": "https://localhost:8080/",
          "height": 45
        },
        "outputId": "b29794d6-d59a-4335-e912-9816501176f0"
      },
      "source": [
        "dataset[0][0]"
      ],
      "execution_count": 29,
      "outputs": [
        {
          "output_type": "execute_result",
          "data": {
            "image/png": "[encoded data removed]",
            "text/plain": [
              "<PIL.PngImagePlugin.PngImageFile image mode=L size=28x28 at 0x7F4033E255C0>"
            ]
          },
          "metadata": {
            "tags": []
          },
          "execution_count": 29
        }
      ]
    },
    {
      "cell_type": "code",
      "metadata": {
        "id": "PqGXq1S752qv",
        "colab_type": "code",
        "colab": {
          "base_uri": "https://localhost:8080/",
          "height": 281
        },
        "outputId": "64ed7073-5dd4-4a40-e00a-481d6c8d71ad"
      },
      "source": [
        "image=dataset[0][0]\n",
        "y=dataset[0][1]\n",
        "\n",
        "plt.imshow(image)\n",
        "plt.title(y)\n",
        "plt.show()"
      ],
      "execution_count": 30,
      "outputs": [
        {
          "output_type": "display_data",
          "data": {
            "image/png": "[encoded data removed]",
            "text/plain": [
              "<Figure size 432x288 with 1 Axes>"
            ]
          },
          "metadata": {
            "tags": [],
            "needs_background": "light"
          }
        }
      ]
    },
    {
      "cell_type": "code",
      "metadata": {
        "id": "7gvX-nBJ52qx",
        "colab_type": "code",
        "colab": {
          "base_uri": "https://localhost:8080/",
          "height": 35
        },
        "outputId": "d8ecede8-997a-4f81-84ee-03911b42a749"
      },
      "source": [
        "y"
      ],
      "execution_count": 31,
      "outputs": [
        {
          "output_type": "execute_result",
          "data": {
            "application/vnd.google.colaboratory.intrinsic+json": {
              "type": "string"
            },
            "text/plain": [
              "'Ankle boot'"
            ]
          },
          "metadata": {
            "tags": []
          },
          "execution_count": 31
        }
      ]
    },
    {
      "cell_type": "code",
      "metadata": {
        "id": "gCVj06BCFygu",
        "colab_type": "code",
        "colab": {
          "base_uri": "https://localhost:8080/",
          "height": 51
        },
        "outputId": "73b1e412-3cd8-4df2-f603-4d090c7a0803"
      },
      "source": [
        "dataset[0]\n"
      ],
      "execution_count": 34,
      "outputs": [
        {
          "output_type": "execute_result",
          "data": {
            "text/plain": [
              "(<PIL.PngImagePlugin.PngImageFile image mode=L size=28x28 at 0x7F4033DE4A20>,\n",
              " 'Ankle boot')"
            ]
          },
          "metadata": {
            "tags": []
          },
          "execution_count": 34
        }
      ]
    },
    {
      "cell_type": "markdown",
      "metadata": {
        "id": "FtW0Cnn352q1",
        "colab_type": "text"
      },
      "source": [
        "Similarly, you can plot the second image: "
      ]
    },
    {
      "cell_type": "code",
      "metadata": {
        "id": "o2idrqWg52q2",
        "colab_type": "code",
        "colab": {
          "base_uri": "https://localhost:8080/",
          "height": 281
        },
        "outputId": "dbe8d5b4-d9d3-4957-89d8-243d51b8f45c"
      },
      "source": [
        "image=dataset[9][0]\n",
        "y=dataset[9][1]\n",
        "\n",
        "plt.imshow(image,cmap='gray', vmin=0, vmax=255)\n",
        "plt.title(y)\n",
        "plt.show()"
      ],
      "execution_count": 35,
      "outputs": [
        {
          "output_type": "display_data",
          "data": {
            "image/png": "[encoded data removed]",
            "text/plain": [
              "<Figure size 432x288 with 1 Axes>"
            ]
          },
          "metadata": {
            "tags": [],
            "needs_background": "light"
          }
        }
      ]
    },
    {
      "cell_type": "markdown",
      "metadata": {
        "id": "S2C4Gy_j52q5",
        "colab_type": "text"
      },
      "source": [
        "<h2 id=\"Torchvision\"> Torchvision Transforms  </h2>"
      ]
    },
    {
      "cell_type": "markdown",
      "metadata": {
        "id": "_iU2Zmym52q5",
        "colab_type": "text"
      },
      "source": [
        " \n",
        "You will focus on the following libraries:"
      ]
    },
    {
      "cell_type": "code",
      "metadata": {
        "id": "MYrMT0T252q6",
        "colab_type": "code",
        "colab": {}
      },
      "source": [
        "from torchvision import transforms"
      ],
      "execution_count": 36,
      "outputs": []
    },
    {
      "cell_type": "markdown",
      "metadata": {
        "id": "lY1Zwq5L52q9",
        "colab_type": "text"
      },
      "source": [
        "We can apply some image transform functions on the dataset object. The iamge can be cropped and converted to a tensor. We can use <code>transform.Compose</code> we learned from the previous lab to combine the two transform functions."
      ]
    },
    {
      "cell_type": "code",
      "metadata": {
        "id": "NxXdtw6b52q9",
        "colab_type": "code",
        "colab": {
          "base_uri": "https://localhost:8080/",
          "height": 34
        },
        "outputId": "2df01de7-a9e2-4544-fa5d-9deff9100c50"
      },
      "source": [
        "# Combine two transforms: crop and convert to tensor. Apply the compose to MNIST dataset\n",
        "\n",
        "croptensor_data_transform = transforms.Compose([transforms.CenterCrop(20), transforms.ToTensor()])\n",
        "dataset = Dataset(csv_file=csv_file , data_dir=directory,transform=croptensor_data_transform )\n",
        "print(\"The shape of the first element tensor: \", dataset[0][0].shape)\n"
      ],
      "execution_count": 47,
      "outputs": [
        {
          "output_type": "stream",
          "text": [
            "The shape of the first element tensor:  torch.Size([1, 20, 20])\n"
          ],
          "name": "stdout"
        }
      ]
    },
    {
      "cell_type": "code",
      "metadata": {
        "id": "jYTfAepjG1Io",
        "colab_type": "code",
        "colab": {
          "base_uri": "https://localhost:8080/",
          "height": 34
        },
        "outputId": "9497349d-49d4-4a4b-aaf1-6b3fe10ae371"
      },
      "source": [
        "dataset[0][0].shape"
      ],
      "execution_count": 48,
      "outputs": [
        {
          "output_type": "execute_result",
          "data": {
            "text/plain": [
              "torch.Size([1, 20, 20])"
            ]
          },
          "metadata": {
            "tags": []
          },
          "execution_count": 48
        }
      ]
    },
    {
      "cell_type": "markdown",
      "metadata": {
        "id": "7Z4ljHKA52rC",
        "colab_type": "text"
      },
      "source": [
        "We can see the image is now 20 x 20"
      ]
    },
    {
      "cell_type": "markdown",
      "metadata": {
        "id": "hfWvU-Nc52rC",
        "colab_type": "text"
      },
      "source": [
        "<!--Empty Space for separating topics-->"
      ]
    },
    {
      "cell_type": "markdown",
      "metadata": {
        "id": "nB4PEdif52rD",
        "colab_type": "text"
      },
      "source": [
        "Let us plot the first image again. Notice we see less of the shoe."
      ]
    },
    {
      "cell_type": "code",
      "metadata": {
        "id": "EZpYEOzy52rD",
        "colab_type": "code",
        "colab": {
          "base_uri": "https://localhost:8080/",
          "height": 281
        },
        "outputId": "582deb39-25ac-4b42-da59-339021cdcb22"
      },
      "source": [
        "# Plot the first element in the dataset\n",
        "\n",
        "show_data(dataset[0],shape = (20, 20))"
      ],
      "execution_count": 50,
      "outputs": [
        {
          "output_type": "display_data",
          "data": {
            "image/png": "[encoded data removed]",
            "text/plain": [
              "<Figure size 432x288 with 1 Axes>"
            ]
          },
          "metadata": {
            "tags": [],
            "needs_background": "light"
          }
        }
      ]
    },
    {
      "cell_type": "code",
      "metadata": {
        "id": "bIex06Tk52rG",
        "colab_type": "code",
        "colab": {
          "base_uri": "https://localhost:8080/",
          "height": 281
        },
        "outputId": "d1b238ea-194c-4e6c-9779-55c69e4230dd"
      },
      "source": [
        "# Plot the second element in the dataset\n",
        "\n",
        "show_data(dataset[1],shape = (20, 20))"
      ],
      "execution_count": 51,
      "outputs": [
        {
          "output_type": "display_data",
          "data": {
            "image/png": "[encoded data removed]",
            "text/plain": [
              "<Figure size 432x288 with 1 Axes>"
            ]
          },
          "metadata": {
            "tags": [],
            "needs_background": "light"
          }
        }
      ]
    },
    {
      "cell_type": "markdown",
      "metadata": {
        "id": "RavA9gDB52rI",
        "colab_type": "text"
      },
      "source": [
        "In the below example, we Vertically flip the image, and then convert it to a tensor. Use <code>transforms.Compose()</code> to combine these two transform functions. Plot the flipped image."
      ]
    },
    {
      "cell_type": "code",
      "metadata": {
        "id": "snHxXMdW52rJ",
        "colab_type": "code",
        "colab": {
          "base_uri": "https://localhost:8080/",
          "height": 281
        },
        "outputId": "ea34350c-4390-4abe-fbee-612fa9d4de29"
      },
      "source": [
        "# Construct the compose. Apply it on MNIST dataset. Plot the image out.\n",
        "\n",
        "fliptensor_data_transform = transforms.Compose([transforms.RandomVerticalFlip(p=1),transforms.ToTensor()])\n",
        "dataset = Dataset(csv_file=csv_file , data_dir=directory,transform=fliptensor_data_transform )\n",
        "show_data(dataset[1])"
      ],
      "execution_count": 52,
      "outputs": [
        {
          "output_type": "display_data",
          "data": {
            "image/png": "[encoded data removed]",
            "text/plain": [
              "<Figure size 432x288 with 1 Axes>"
            ]
          },
          "metadata": {
            "tags": [],
            "needs_background": "light"
          }
        }
      ]
    },
    {
      "cell_type": "markdown",
      "metadata": {
        "id": "oi1hl0LA52rM",
        "colab_type": "text"
      },
      "source": [
        "<!--Empty Space for separating topics-->"
      ]
    },
    {
      "cell_type": "markdown",
      "metadata": {
        "id": "YX_UYFzR52rM",
        "colab_type": "text"
      },
      "source": [
        "<h3>Practice</h3>"
      ]
    },
    {
      "cell_type": "markdown",
      "metadata": {
        "id": "zoMyY5qL52rN",
        "colab_type": "text"
      },
      "source": [
        "Try to use the <code>RandomVerticalFlip</code> (vertically flip the image) with horizontally flip and convert to tensor as a compose. Apply the compose on image. Use <code>show_data()</code> to plot the second image (the image as <b>2</b>)."
      ]
    },
    {
      "cell_type": "code",
      "metadata": {
        "id": "28Rsy9bO52rN",
        "colab_type": "code",
        "colab": {}
      },
      "source": [
        "# Practice: Combine vertical flip, horizontal flip and convert to tensor as a compose. Apply the compose on image. Then plot the image\n",
        "\n",
        "# Type your code here"
      ],
      "execution_count": null,
      "outputs": []
    },
    {
      "cell_type": "markdown",
      "metadata": {
        "id": "QsSe0ggl52rR",
        "colab_type": "text"
      },
      "source": [
        "Double-click __here__ for the solution.\n",
        "<!-- \n",
        "my_data_transform = transforms.Compose([transforms.RandomVerticalFlip(p = 1), transforms.RandomHorizontalFlip(p = 1), transforms.ToTensor()])\n",
        "dataset = Dataset(csv_file=csv_file , data_dir=directory,transform=fliptensor_data_transform )\n",
        "show_data(dataset[1])\n",
        " -->"
      ]
    },
    {
      "cell_type": "markdown",
      "metadata": {
        "id": "xaSJTVT152rS",
        "colab_type": "text"
      },
      "source": [
        "<!--Empty Space for separating topics-->"
      ]
    },
    {
      "cell_type": "markdown",
      "metadata": {
        "id": "gu0hZaZA52rS",
        "colab_type": "text"
      },
      "source": [
        "<a href=\"http://cocl.us/pytorch_link_bottom\">\n",
        "    <img src=\"https://s3-api.us-geo.objectstorage.softlayer.net/cf-courses-data/CognitiveClass/DL0110EN/notebook_images%20/notebook_bottom%20.png\" width=\"750\" alt=\"PyTorch Bottom\" />\n",
        "</a>"
      ]
    },
    {
      "cell_type": "markdown",
      "metadata": {
        "id": "HOSBhRpb52rT",
        "colab_type": "text"
      },
      "source": [
        "<h2>About the Authors:</h2> \n",
        "\n",
        "<a href=\"https://www.linkedin.com/in/joseph-s-50398b136/\">Joseph Santarcangelo</a> has a PhD in Electrical Engineering, his research focused on using machine learning, signal processing, and computer vision to determine how videos impact human cognition. Joseph has been working for IBM since he completed his PhD."
      ]
    },
    {
      "cell_type": "markdown",
      "metadata": {
        "id": "6yz84VQW52rT",
        "colab_type": "text"
      },
      "source": [
        "Other contributors: <a href=\"https://www.linkedin.com/in/michelleccarey/\">Michelle Carey</a>, <a href=\"www.linkedin.com/in/jiahui-mavis-zhou-a4537814a\">Mavis Zhou</a> "
      ]
    },
    {
      "cell_type": "markdown",
      "metadata": {
        "id": "l6VgtV3V52rT",
        "colab_type": "text"
      },
      "source": [
        "<hr>"
      ]
    },
    {
      "cell_type": "markdown",
      "metadata": {
        "id": "_hKMpcZh52rU",
        "colab_type": "text"
      },
      "source": [
        "Copyright &copy; 2018 <a href=\"cognitiveclass.ai?utm_source=bducopyrightlink&utm_medium=dswb&utm_campaign=bdu\">cognitiveclass.ai</a>. This notebook and its source code are released under the terms of the <a href=\"https://bigdatauniversity.com/mit-license/\">MIT License</a>."
      ]
    }
  ]
}