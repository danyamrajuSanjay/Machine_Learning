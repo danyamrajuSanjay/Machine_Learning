{
  "nbformat": 4,
  "nbformat_minor": 0,
  "metadata": {
    "kernelspec": {
      "display_name": "Python",
      "language": "python",
      "name": "conda-env-python-py"
    },
    "language_info": {
      "codemirror_mode": {
        "name": "ipython",
        "version": 3
      },
      "file_extension": ".py",
      "mimetype": "text/x-python",
      "name": "python",
      "nbconvert_exporter": "python",
      "pygments_lexer": "ipython3",
      "version": "3.6.7"
    },
    "colab": {
      "name": "torch multiple linear regression.ipynb",
      "provenance": [],
      "include_colab_link": true
    }
  },
  "cells": [
    {
      "cell_type": "markdown",
      "metadata": {
        "id": "view-in-github",
        "colab_type": "text"
      },
      "source": [
        "<a href=\"https://colab.research.google.com/github/danyamrajuSanjay/Machine_Learning/blob/master/torch_multiple_linear_regression.ipynb\" target=\"_parent\"><img src=\"https://colab.research.google.com/assets/colab-badge.svg\" alt=\"Open In Colab\"/></a>"
      ]
    },
    {
      "cell_type": "markdown",
      "metadata": {
        "id": "Oxh6wnIc6X4q",
        "colab_type": "text"
      },
      "source": [
        "<h1>Multiple Linear Regression</h1>"
      ]
    },
    {
      "cell_type": "markdown",
      "metadata": {
        "id": "6t7vv1hj6X4s",
        "colab_type": "text"
      },
      "source": [
        "<h2>Table of Contents</h2>\n",
        "<p>In this lab, you will review how to make a prediction in several different ways by using PyTorch.</p>\n",
        "\n",
        "<ul>\n",
        "    <li><a href=\"#Prediction\">Prediction</a></li>\n",
        "    <li><a href=\"#Linear\">Class Linear</a></li>\n",
        "    <li><a href=\"#Cust\">Build Custom Modules</a></li>\n",
        "</ul>\n",
        "\n",
        "<p>Estimated Time Needed: <strong>15 min</strong></p>\n",
        "\n",
        "<hr>"
      ]
    },
    {
      "cell_type": "markdown",
      "metadata": {
        "id": "WpmCCa2Q6X4s",
        "colab_type": "text"
      },
      "source": [
        "<h2>Preparation</h2>"
      ]
    },
    {
      "cell_type": "markdown",
      "metadata": {
        "id": "kwgelJ566X4t",
        "colab_type": "text"
      },
      "source": [
        "Import the libraries and set the random seed."
      ]
    },
    {
      "cell_type": "code",
      "metadata": {
        "id": "jf1n9GzR6X4u",
        "colab_type": "code",
        "colab": {
          "base_uri": "https://localhost:8080/",
          "height": 34
        },
        "outputId": "81632346-812a-42db-edf6-a0f577c7b406"
      },
      "source": [
        "# Import the libraries and set the random seed\n",
        "\n",
        "from torch import nn\n",
        "import torch\n",
        "torch.manual_seed(1)"
      ],
      "execution_count": 1,
      "outputs": [
        {
          "output_type": "execute_result",
          "data": {
            "text/plain": [
              "<torch._C.Generator at 0x7f59a11a40d8>"
            ]
          },
          "metadata": {
            "tags": []
          },
          "execution_count": 1
        }
      ]
    },
    {
      "cell_type": "markdown",
      "metadata": {
        "id": "oulWNDrX6X4y",
        "colab_type": "text"
      },
      "source": [
        "<!--Empty Space for separating topics-->"
      ]
    },
    {
      "cell_type": "markdown",
      "metadata": {
        "id": "l3K-M_7L6X4z",
        "colab_type": "text"
      },
      "source": [
        "<h2 id=\"Prediction\">Prediction</h2>"
      ]
    },
    {
      "cell_type": "markdown",
      "metadata": {
        "id": "Y6XP39G36X4z",
        "colab_type": "text"
      },
      "source": [
        "Set weight and bias."
      ]
    },
    {
      "cell_type": "code",
      "metadata": {
        "id": "YiRk--Bj6X40",
        "colab_type": "code",
        "colab": {}
      },
      "source": [
        "# Set the weight and bias\n",
        "\n",
        "w = torch.tensor([[2.0], [3.0]], requires_grad=True)\n",
        "b = torch.tensor([[1.0]], requires_grad=True)"
      ],
      "execution_count": 2,
      "outputs": []
    },
    {
      "cell_type": "markdown",
      "metadata": {
        "id": "k8IWUDCG6X45",
        "colab_type": "text"
      },
      "source": [
        "Define the parameters. <code>torch.mm</code> uses matrix multiplication instead of scaler multiplication."
      ]
    },
    {
      "cell_type": "code",
      "metadata": {
        "id": "PNwI_HqY6X45",
        "colab_type": "code",
        "colab": {}
      },
      "source": [
        "# Define Prediction Function\n",
        "\n",
        "def forward(x):\n",
        "    yhat = torch.mm(x, w) + b\n",
        "    return yhat"
      ],
      "execution_count": 3,
      "outputs": []
    },
    {
      "cell_type": "markdown",
      "metadata": {
        "id": "kCvs5aUg6X49",
        "colab_type": "text"
      },
      "source": [
        "The function <code>forward</code> implements the following equation:"
      ]
    },
    {
      "cell_type": "markdown",
      "metadata": {
        "id": "fVR1cGbB6X4-",
        "colab_type": "text"
      },
      "source": [
        "<img src=\"https://s3-api.us-geo.objectstorage.softlayer.net/cf-courses-data/CognitiveClass/DL0110EN/notebook_images%20/chapter2/2.6.1_matrix_eq.png\" width=\"600\" alt=\"Matrix Linear Regression\"/>"
      ]
    },
    {
      "cell_type": "markdown",
      "metadata": {
        "id": "br2-N-AM6X4-",
        "colab_type": "text"
      },
      "source": [
        "If we input a <i>1x2</i> tensor, because we have a <i>2x1</i> tensor as <code>w</code>, we will get a <i>1x1</i> tensor: "
      ]
    },
    {
      "cell_type": "code",
      "metadata": {
        "id": "9zicEsCU6X4_",
        "colab_type": "code",
        "colab": {
          "base_uri": "https://localhost:8080/",
          "height": 34
        },
        "outputId": "d166a551-bbd7-4f35-c161-9a1a154fe5ab"
      },
      "source": [
        "# Calculate yhat\n",
        "\n",
        "x = torch.tensor([[1.0, 2.0]])\n",
        "yhat = forward(x)\n",
        "print(\"The result: \", yhat)"
      ],
      "execution_count": 4,
      "outputs": [
        {
          "output_type": "stream",
          "text": [
            "The result:  tensor([[9.]], grad_fn=<AddBackward0>)\n"
          ],
          "name": "stdout"
        }
      ]
    },
    {
      "cell_type": "markdown",
      "metadata": {
        "id": "uiXytReN6X5C",
        "colab_type": "text"
      },
      "source": [
        "<img src = \"https://s3-api.us-geo.objectstorage.softlayer.net/cf-courses-data/CognitiveClass/DL0110EN/notebook_images%20/chapter2/2.6.1example.png\" width = \"300\" alt=\"Linear Regression Matrix Sample One\" />"
      ]
    },
    {
      "cell_type": "markdown",
      "metadata": {
        "id": "16OZgQC96X5D",
        "colab_type": "text"
      },
      "source": [
        "# Each row of the following tensor represents a sample:"
      ]
    },
    {
      "cell_type": "code",
      "metadata": {
        "id": "jyP_5e-H6X5E",
        "colab_type": "code",
        "colab": {}
      },
      "source": [
        "# Sample tensor X\n",
        "\n",
        "X = torch.tensor([[1.0, 1.0], [1.0, 2.0], [1.0, 3.0]])"
      ],
      "execution_count": 5,
      "outputs": []
    },
    {
      "cell_type": "code",
      "metadata": {
        "id": "qcwFqq5x6X5J",
        "colab_type": "code",
        "colab": {
          "base_uri": "https://localhost:8080/",
          "height": 68
        },
        "outputId": "18651c13-eb16-4650-8afb-75aff2f2e844"
      },
      "source": [
        "# Make the prediction of X \n",
        "\n",
        "yhat = forward(X)\n",
        "print(\"The result: \", yhat)"
      ],
      "execution_count": 6,
      "outputs": [
        {
          "output_type": "stream",
          "text": [
            "The result:  tensor([[ 6.],\n",
            "        [ 9.],\n",
            "        [12.]], grad_fn=<AddBackward0>)\n"
          ],
          "name": "stdout"
        }
      ]
    },
    {
      "cell_type": "markdown",
      "metadata": {
        "id": "aDPdS_rD6X5P",
        "colab_type": "text"
      },
      "source": [
        "<!--Empty Space for separating topics-->"
      ]
    },
    {
      "cell_type": "markdown",
      "metadata": {
        "id": "MPSGX8y_6X5Q",
        "colab_type": "text"
      },
      "source": [
        "<h2 id=\"Linear\">Class Linear</h2>"
      ]
    },
    {
      "cell_type": "markdown",
      "metadata": {
        "id": "bDH8UC4U6X5Q",
        "colab_type": "text"
      },
      "source": [
        "We can use the linear class to make a prediction. You'll also use the linear class to build more complex models."
      ]
    },
    {
      "cell_type": "markdown",
      "metadata": {
        "id": "fPz87THg6X5R",
        "colab_type": "text"
      },
      "source": [
        "Let us create a model."
      ]
    },
    {
      "cell_type": "code",
      "metadata": {
        "id": "YJ_hjpWi6X5S",
        "colab_type": "code",
        "colab": {}
      },
      "source": [
        "# Make a linear regression model using build-in function\n",
        "\n",
        "model = nn.Linear(2, 1)"
      ],
      "execution_count": 7,
      "outputs": []
    },
    {
      "cell_type": "markdown",
      "metadata": {
        "id": "krJrFZfm6X5U",
        "colab_type": "text"
      },
      "source": [
        "Make a prediction with the first sample:"
      ]
    },
    {
      "cell_type": "code",
      "metadata": {
        "id": "Hbp1JcY96X5V",
        "colab_type": "code",
        "colab": {
          "base_uri": "https://localhost:8080/",
          "height": 34
        },
        "outputId": "374cfa0c-42b0-40bf-c592-a3bb8d354f54"
      },
      "source": [
        "# Make a prediction of x\n",
        "\n",
        "yhat = model(x)\n",
        "print(\"The result: \", yhat)"
      ],
      "execution_count": 8,
      "outputs": [
        {
          "output_type": "stream",
          "text": [
            "The result:  tensor([[-0.3969]], grad_fn=<AddmmBackward>)\n"
          ],
          "name": "stdout"
        }
      ]
    },
    {
      "cell_type": "markdown",
      "metadata": {
        "id": "AZQT6N906X5a",
        "colab_type": "text"
      },
      "source": [
        "Predict with multiple samples <code>X</code>: "
      ]
    },
    {
      "cell_type": "code",
      "metadata": {
        "id": "jkYl1xla6X5b",
        "colab_type": "code",
        "colab": {
          "base_uri": "https://localhost:8080/",
          "height": 68
        },
        "outputId": "57e89ff6-6fe2-41d6-b875-45e2466e1fb4"
      },
      "source": [
        "# Make a prediction of X\n",
        "\n",
        "yhat = model(X)\n",
        "print(\"The result: \", yhat)"
      ],
      "execution_count": 9,
      "outputs": [
        {
          "output_type": "stream",
          "text": [
            "The result:  tensor([[-0.0848],\n",
            "        [-0.3969],\n",
            "        [-0.7090]], grad_fn=<AddmmBackward>)\n"
          ],
          "name": "stdout"
        }
      ]
    },
    {
      "cell_type": "markdown",
      "metadata": {
        "id": "9b1lBazO6X5e",
        "colab_type": "text"
      },
      "source": [
        "The function performs matrix multiplication as shown in this image:"
      ]
    },
    {
      "cell_type": "markdown",
      "metadata": {
        "id": "eFBZ7sMv6X5f",
        "colab_type": "text"
      },
      "source": [
        "<img src = \"https://s3-api.us-geo.objectstorage.softlayer.net/cf-courses-data/CognitiveClass/DL0110EN/notebook_images%20/chapter2/2.6.1multi_sample_example.png\" width = \"600\" alt=\"Linear Regression Matrix Sample One\" />"
      ]
    },
    {
      "cell_type": "markdown",
      "metadata": {
        "id": "HA_hVBV_6X5f",
        "colab_type": "text"
      },
      "source": [
        "<!--Empty Space for separating topics-->"
      ]
    },
    {
      "cell_type": "markdown",
      "metadata": {
        "id": "7XoyOZK46X5g",
        "colab_type": "text"
      },
      "source": [
        "<h2 id=\"Cust\">Build Custom Modules </h2>"
      ]
    },
    {
      "cell_type": "markdown",
      "metadata": {
        "id": "qcc24kw16X5g",
        "colab_type": "text"
      },
      "source": [
        "Now, you'll build a custom module. You can make more complex models by using this method later. "
      ]
    },
    {
      "cell_type": "code",
      "metadata": {
        "id": "HgpLGP4T6X5h",
        "colab_type": "code",
        "colab": {}
      },
      "source": [
        "# Create linear_regression Class\n",
        "\n",
        "class linear_regression(nn.Module):\n",
        "    \n",
        "    # Constructor\n",
        "    def __init__(self, input_size, output_size):\n",
        "        super(linear_regression, self).__init__()\n",
        "        self.linear = nn.Linear(input_size, output_size)\n",
        "    \n",
        "    # Prediction function\n",
        "    def forward(self, x):\n",
        "        yhat = self.linear(x)\n",
        "        return yhat"
      ],
      "execution_count": 10,
      "outputs": []
    },
    {
      "cell_type": "markdown",
      "metadata": {
        "id": "mElPmNlG6X5j",
        "colab_type": "text"
      },
      "source": [
        "Build a linear regression object. The input feature size is two. "
      ]
    },
    {
      "cell_type": "code",
      "metadata": {
        "id": "KH1WZY_Y6X5k",
        "colab_type": "code",
        "colab": {}
      },
      "source": [
        "model = linear_regression(2, 1)"
      ],
      "execution_count": 11,
      "outputs": []
    },
    {
      "cell_type": "markdown",
      "metadata": {
        "id": "Se2EkE4r6X5n",
        "colab_type": "text"
      },
      "source": [
        "This will input the following equation:"
      ]
    },
    {
      "cell_type": "markdown",
      "metadata": {
        "id": "m7sDUKFA6X5o",
        "colab_type": "text"
      },
      "source": [
        "<img src=\"https://s3-api.us-geo.objectstorage.softlayer.net/cf-courses-data/CognitiveClass/DL0110EN/notebook_images%20/chapter2/2.6.1_matrix_eq.png\" width=\"600\" alt=\"Matrix Linear Regression\" />"
      ]
    },
    {
      "cell_type": "markdown",
      "metadata": {
        "id": "W6n7tlwt6X5o",
        "colab_type": "text"
      },
      "source": [
        "You can see the randomly initialized parameters by using the <code>parameters()</code> method:"
      ]
    },
    {
      "cell_type": "code",
      "metadata": {
        "id": "K08EzWGF6X5p",
        "colab_type": "code",
        "colab": {
          "base_uri": "https://localhost:8080/",
          "height": 68
        },
        "outputId": "7b02a17c-02f3-4977-b6be-3a0cb14dfb1e"
      },
      "source": [
        "# Print model parameters\n",
        "\n",
        "print(\"The parameters: \", list(model.parameters()))"
      ],
      "execution_count": 12,
      "outputs": [
        {
          "output_type": "stream",
          "text": [
            "The parameters:  [Parameter containing:\n",
            "tensor([[ 0.3319, -0.6657]], requires_grad=True), Parameter containing:\n",
            "tensor([0.4241], requires_grad=True)]\n"
          ],
          "name": "stdout"
        }
      ]
    },
    {
      "cell_type": "markdown",
      "metadata": {
        "id": "zyrmdAbq6X5u",
        "colab_type": "text"
      },
      "source": [
        "You can also see the parameters by using the <code>state_dict()</code> method:"
      ]
    },
    {
      "cell_type": "code",
      "metadata": {
        "id": "pTYAt2Rw6X5u",
        "colab_type": "code",
        "colab": {
          "base_uri": "https://localhost:8080/",
          "height": 34
        },
        "outputId": "7db00bbb-c034-4062-9deb-251196ba51e2"
      },
      "source": [
        "# Print model parameters\n",
        "\n",
        "print(\"The parameters: \", model.state_dict())"
      ],
      "execution_count": 13,
      "outputs": [
        {
          "output_type": "stream",
          "text": [
            "The parameters:  OrderedDict([('linear.weight', tensor([[ 0.3319, -0.6657]])), ('linear.bias', tensor([0.4241]))])\n"
          ],
          "name": "stdout"
        }
      ]
    },
    {
      "cell_type": "markdown",
      "metadata": {
        "id": "o66BGGa96X5y",
        "colab_type": "text"
      },
      "source": [
        "Now we input a 1x2 tensor, and we will get a 1x1 tensor."
      ]
    },
    {
      "cell_type": "code",
      "metadata": {
        "id": "4ntx5NcV6X5y",
        "colab_type": "code",
        "colab": {
          "base_uri": "https://localhost:8080/",
          "height": 34
        },
        "outputId": "2f9a9c85-3fa9-483c-8b23-6ef3e1ac0877"
      },
      "source": [
        "# Make a prediction of x\n",
        "\n",
        "yhat = model(x)\n",
        "print(\"The result: \", yhat)"
      ],
      "execution_count": 14,
      "outputs": [
        {
          "output_type": "stream",
          "text": [
            "The result:  tensor([[-0.5754]], grad_fn=<AddmmBackward>)\n"
          ],
          "name": "stdout"
        }
      ]
    },
    {
      "cell_type": "markdown",
      "metadata": {
        "id": "Mudic_8p6X51",
        "colab_type": "text"
      },
      "source": [
        "The shape of the output is shown in the following image: "
      ]
    },
    {
      "cell_type": "markdown",
      "metadata": {
        "id": "gW-mfkb36X52",
        "colab_type": "text"
      },
      "source": [
        "<img src=\"https://s3-api.us-geo.objectstorage.softlayer.net/cf-courses-data/CognitiveClass/DL0110EN/notebook_images%20/chapter2/2.6.1_matrix_eq.png\" width=\"600\" alt=\"Matrix Linear Regression\" />"
      ]
    },
    {
      "cell_type": "markdown",
      "metadata": {
        "id": "1eNQXksI6X53",
        "colab_type": "text"
      },
      "source": [
        "Make a prediction for multiple samples:"
      ]
    },
    {
      "cell_type": "code",
      "metadata": {
        "id": "TO4pfdEQ6X53",
        "colab_type": "code",
        "colab": {
          "base_uri": "https://localhost:8080/",
          "height": 68
        },
        "outputId": "197b167e-5fe2-48ff-f69b-67ed28a3fac5"
      },
      "source": [
        "# Make a prediction of X\n",
        "\n",
        "yhat = model(X)\n",
        "print(\"The result: \", yhat)"
      ],
      "execution_count": 15,
      "outputs": [
        {
          "output_type": "stream",
          "text": [
            "The result:  tensor([[ 0.0903],\n",
            "        [-0.5754],\n",
            "        [-1.2411]], grad_fn=<AddmmBackward>)\n"
          ],
          "name": "stdout"
        }
      ]
    },
    {
      "cell_type": "markdown",
      "metadata": {
        "id": "Fylsiagk6X57",
        "colab_type": "text"
      },
      "source": [
        "The shape is shown in the following image: \n"
      ]
    },
    {
      "cell_type": "markdown",
      "metadata": {
        "id": "G1UjKWUC6X58",
        "colab_type": "text"
      },
      "source": [
        "<img src=\"https://s3-api.us-geo.objectstorage.softlayer.net/cf-courses-data/CognitiveClass/DL0110EN/notebook_images%20/chapter2/2.6.1Multi_sample.png\" width=\"600\" alt=\"Multiple Samples Linear Regression\" />"
      ]
    },
    {
      "cell_type": "markdown",
      "metadata": {
        "id": "eAgyKXCD6X58",
        "colab_type": "text"
      },
      "source": [
        "<!--Empty Space for separating topics-->"
      ]
    },
    {
      "cell_type": "markdown",
      "metadata": {
        "id": "FYGvErjk6X59",
        "colab_type": "text"
      },
      "source": [
        "<h3>Practice</h3>"
      ]
    },
    {
      "cell_type": "markdown",
      "metadata": {
        "id": "ERKKKw5v6X59",
        "colab_type": "text"
      },
      "source": [
        "Build a model or object of type <code>linear_regression</code>. Using the <code>linear_regression</code> object will predict the following tensor: "
      ]
    },
    {
      "cell_type": "code",
      "metadata": {
        "id": "IAdvTj3U6X5-",
        "colab_type": "code",
        "colab": {}
      },
      "source": [
        "# Practice: Build a model to predict the follow tensor.\n",
        "\n",
        "X = torch.tensor([[11.0, 12.0, 13, 14], [11, 12, 13, 14]])"
      ],
      "execution_count": 16,
      "outputs": []
    }
  ]
}