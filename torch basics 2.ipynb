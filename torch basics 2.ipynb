{
  "nbformat": 4,
  "nbformat_minor": 0,
  "metadata": {
    "kernelspec": {
      "display_name": "Python 3",
      "language": "python",
      "name": "python3"
    },
    "language_info": {
      "codemirror_mode": {
        "name": "ipython",
        "version": 3
      },
      "file_extension": ".py",
      "mimetype": "text/x-python",
      "name": "python",
      "nbconvert_exporter": "python",
      "pygments_lexer": "ipython3",
      "version": "3.6.8"
    },
    "colab": {
      "name": "1.1_2 Two-Dimensional Tensors_v2.ipynb",
      "provenance": [],
      "include_colab_link": true
    }
  },
  "cells": [
    {
      "cell_type": "markdown",
      "metadata": {
        "id": "view-in-github",
        "colab_type": "text"
      },
      "source": [
        "<a href=\"https://colab.research.google.com/github/danyamrajuSanjay/Machine_Learning/blob/master/torch%20basics%202.ipynb\" target=\"_parent\"><img src=\"https://colab.research.google.com/assets/colab-badge.svg\" alt=\"Open In Colab\"/></a>"
      ]
    },
    {
      "cell_type": "markdown",
      "metadata": {
        "id": "bZzVq-O7MsWp",
        "colab_type": "text"
      },
      "source": [
        "<a href=\"http://cocl.us/pytorch_link_top\">\n",
        "    <img src=\"https://s3-api.us-geo.objectstorage.softlayer.net/cf-courses-data/CognitiveClass/DL0110EN/notebook_images%20/Pytochtop.png\" width=\"750\" alt=\"IBM Product \" />\n",
        "</a> "
      ]
    },
    {
      "cell_type": "markdown",
      "metadata": {
        "id": "wcOtK3-_MsWq",
        "colab_type": "text"
      },
      "source": [
        "<img src=\"https://s3-api.us-geo.objectstorage.softlayer.net/cf-courses-data/CognitiveClass/DL0110EN/notebook_images%20/cc-logo-square.png\" width=\"200\" alt=\"cognitiveclass.ai logo\" />"
      ]
    },
    {
      "cell_type": "markdown",
      "metadata": {
        "id": "ZerXg89KMsWr",
        "colab_type": "text"
      },
      "source": [
        "<h1>Two-Dimensional Tensors</h1>"
      ]
    },
    {
      "cell_type": "markdown",
      "metadata": {
        "id": "RxlfSsCjMsWs",
        "colab_type": "text"
      },
      "source": [
        "<h2>Table of Contents</h2>"
      ]
    },
    {
      "cell_type": "markdown",
      "metadata": {
        "id": "k-O3ZD-QMsWt",
        "colab_type": "text"
      },
      "source": [
        "<p>In this lab, you will learn the basics of tensor operations on 2D tensors.</p>\n",
        "<ul>\n",
        "    <li><a href=\"#Types_Shape\">Types and Shape </a></li>\n",
        "    <li><a href=\"#Index_Slice\">Indexing and Slicing</a></li>\n",
        "    <li><a href=\"#Tensor_Op\">Tensor Operations</a></li>\n",
        "</ul>\n",
        "\n",
        "<p>Estimated Time Needed: <b>10 min</b></p>\n",
        "<hr>"
      ]
    },
    {
      "cell_type": "markdown",
      "metadata": {
        "id": "E3e4_Ji8MsWt",
        "colab_type": "text"
      },
      "source": [
        "<h2>Preparation</h2>"
      ]
    },
    {
      "cell_type": "markdown",
      "metadata": {
        "id": "la1zG9_uMsWu",
        "colab_type": "text"
      },
      "source": [
        "The following are the libraries we are going to use for this lab."
      ]
    },
    {
      "cell_type": "code",
      "metadata": {
        "id": "ytxNitIdMsWv",
        "colab_type": "code",
        "colab": {}
      },
      "source": [
        "# These are the libraries will be used for this lab.\n",
        "\n",
        "import numpy as np \n",
        "import matplotlib.pyplot as plt\n",
        "import torch\n",
        "import pandas as pd"
      ],
      "execution_count": 1,
      "outputs": []
    },
    {
      "cell_type": "markdown",
      "metadata": {
        "id": "13BwV3TZMsWz",
        "colab_type": "text"
      },
      "source": [
        "<!--Empty Space for separating topics-->"
      ]
    },
    {
      "cell_type": "markdown",
      "metadata": {
        "id": "OFE_rxnSMsW0",
        "colab_type": "text"
      },
      "source": [
        "<h2 id=\"Types_Shape\">Types and Shape</h2>"
      ]
    },
    {
      "cell_type": "markdown",
      "metadata": {
        "id": "rjkFQFiKMsW3",
        "colab_type": "text"
      },
      "source": [
        "The methods and types for 2D tensors is similar to the methods and types for 1D tensors which has been introduced in <i>Previous Lab</i>."
      ]
    },
    {
      "cell_type": "markdown",
      "metadata": {
        "id": "ut1BN7QdMsW5",
        "colab_type": "text"
      },
      "source": [
        "Let us see how to convert a 2D list to a 2D tensor. First, let us create a 3X3 2D tensor. Then let us try to use <code>torch.tensor()</code> which we used for converting a 1D list to 1D tensor. Is it going to work?"
      ]
    },
    {
      "cell_type": "code",
      "metadata": {
        "id": "gDlBtMEUMsW5",
        "colab_type": "code",
        "colab": {
          "base_uri": "https://localhost:8080/",
          "height": 68
        },
        "outputId": "8c133d6f-01c1-4ac4-b1b6-71ae9cba5420"
      },
      "source": [
        "# Convert 2D List to 2D Tensor\n",
        "\n",
        "twoD_list = [[11, 12, 13], [21, 22, 23], [31, 32, 33]]\n",
        "twoD_tensor = torch.tensor(twoD_list)\n",
        "print(\"The New 2D Tensor: \", twoD_tensor)"
      ],
      "execution_count": 2,
      "outputs": [
        {
          "output_type": "stream",
          "text": [
            "The New 2D Tensor:  tensor([[11, 12, 13],\n",
            "        [21, 22, 23],\n",
            "        [31, 32, 33]])\n"
          ],
          "name": "stdout"
        }
      ]
    },
    {
      "cell_type": "markdown",
      "metadata": {
        "id": "0C3C6f0oMsW9",
        "colab_type": "text"
      },
      "source": [
        "Bravo! The method <code>torch.tensor()</code> works perfectly.Now, let us try other functions we studied in the <i>Previous Lab</i>."
      ]
    },
    {
      "cell_type": "markdown",
      "metadata": {
        "id": "97aosv5EMsW-",
        "colab_type": "text"
      },
      "source": [
        "<!--Empty Space for separating topics-->"
      ]
    },
    {
      "cell_type": "markdown",
      "metadata": {
        "id": "CAsK-JT2MsW_",
        "colab_type": "text"
      },
      "source": [
        "Let us try <code><i>tensor_obj</i>.ndimension()</code> (<code>tensor_obj</code>: This can be any tensor object), <code><i>tensor_obj</i>.shape</code>, and <code><i>tensor_obj</i>.size()</code>"
      ]
    },
    {
      "cell_type": "code",
      "metadata": {
        "id": "HSEG6BnxMsW_",
        "colab_type": "code",
        "colab": {
          "base_uri": "https://localhost:8080/",
          "height": 85
        },
        "outputId": "cf636f91-cf81-4d62-917c-b859e8e69057"
      },
      "source": [
        "# Try tensor_obj.ndimension(), tensor_obj.shape, tensor_obj.size()\n",
        "\n",
        "print(\"The dimension of twoD_tensor: \", twoD_tensor.ndimension())\n",
        "print(\"The shape of twoD_tensor: \", twoD_tensor.shape)\n",
        "print(\"The shape of twoD_tensor: \", twoD_tensor.size())\n",
        "print(\"The number of elements in twoD_tensor: \", twoD_tensor.numel())"
      ],
      "execution_count": 3,
      "outputs": [
        {
          "output_type": "stream",
          "text": [
            "The dimension of twoD_tensor:  2\n",
            "The shape of twoD_tensor:  torch.Size([3, 3])\n",
            "The shape of twoD_tensor:  torch.Size([3, 3])\n",
            "The number of elements in twoD_tensor:  9\n"
          ],
          "name": "stdout"
        }
      ]
    },
    {
      "cell_type": "markdown",
      "metadata": {
        "id": "dpCClObIMsXD",
        "colab_type": "text"
      },
      "source": [
        "Because it is a 2D 3X3 tensor,  the outputs are correct."
      ]
    },
    {
      "cell_type": "markdown",
      "metadata": {
        "id": "JDtnOBXhMsXE",
        "colab_type": "text"
      },
      "source": [
        "|<!--Empty Space for separating topics-->"
      ]
    },
    {
      "cell_type": "markdown",
      "metadata": {
        "id": "FqTgfyw_MsXG",
        "colab_type": "text"
      },
      "source": [
        "Now, let us try converting the tensor to a numpy array and convert the numpy array back to a tensor."
      ]
    },
    {
      "cell_type": "code",
      "metadata": {
        "id": "8aGc7IsKMsXH",
        "colab_type": "code",
        "colab": {
          "base_uri": "https://localhost:8080/",
          "height": 204
        },
        "outputId": "52233745-9e37-4a90-f18c-29ad5f600b62"
      },
      "source": [
        "# Convert tensor to numpy array; Convert numpy array to tensor\n",
        "\n",
        "twoD_numpy = twoD_tensor.numpy()\n",
        "print(\"Tensor -> Numpy Array:\")\n",
        "print(\"The numpy array after converting: \", twoD_numpy)\n",
        "print(\"Type after converting: \", twoD_numpy.dtype)\n",
        "\n",
        "print(\"================================================\")\n",
        "\n",
        "new_twoD_tensor = torch.from_numpy(twoD_numpy)\n",
        "print(\"Numpy Array -> Tensor:\")\n",
        "print(\"The tensor after converting:\", new_twoD_tensor)\n",
        "print(\"Type after converting: \", new_twoD_tensor.dtype)"
      ],
      "execution_count": 4,
      "outputs": [
        {
          "output_type": "stream",
          "text": [
            "Tensor -> Numpy Array:\n",
            "The numpy array after converting:  [[11 12 13]\n",
            " [21 22 23]\n",
            " [31 32 33]]\n",
            "Type after converting:  int64\n",
            "================================================\n",
            "Numpy Array -> Tensor:\n",
            "The tensor after converting: tensor([[11, 12, 13],\n",
            "        [21, 22, 23],\n",
            "        [31, 32, 33]])\n",
            "Type after converting:  torch.int64\n"
          ],
          "name": "stdout"
        }
      ]
    },
    {
      "cell_type": "markdown",
      "metadata": {
        "id": "yGT5I2kwMsXL",
        "colab_type": "text"
      },
      "source": [
        "The result shows the tensor has successfully been converted to a numpy array and then converted back to a tensor."
      ]
    },
    {
      "cell_type": "markdown",
      "metadata": {
        "id": "XPR8aB7rMsXM",
        "colab_type": "text"
      },
      "source": [
        "<!--Empty Space for separating topics-->"
      ]
    },
    {
      "cell_type": "markdown",
      "metadata": {
        "id": "uSMFOm14MsXN",
        "colab_type": "text"
      },
      "source": [
        "Now let us try to convert a Pandas Dataframe to a tensor. The process is the  Same as the 1D conversion, we can obtain the numpy array via the attribute <code>values</code>. Then, we can use <code>torch.from_numpy()</code> to convert the value of the Pandas Series to a tensor."
      ]
    },
    {
      "cell_type": "code",
      "metadata": {
        "id": "f_HOFiW_MsXO",
        "colab_type": "code",
        "colab": {
          "base_uri": "https://localhost:8080/",
          "height": 170
        },
        "outputId": "caa47f16-165d-44e1-9439-16edd4018326"
      },
      "source": [
        "# Try to convert the Panda Dataframe to tensor\n",
        "\n",
        "df = pd.DataFrame({'a':[11,21,31],'b':[12,22,312]})\n",
        "\n",
        "print(\"Pandas Dataframe to numpy: \", df.values)\n",
        "print(\"Type BEFORE converting: \", df.values.dtype)\n",
        "\n",
        "print(\"================================================\")\n",
        "\n",
        "new_tensor = torch.from_numpy(df.values)\n",
        "print(\"Tensor AFTER converting: \", new_tensor)\n",
        "print(\"Type AFTER converting: \", new_tensor.dtype)"
      ],
      "execution_count": 5,
      "outputs": [
        {
          "output_type": "stream",
          "text": [
            "Pandas Dataframe to numpy:  [[ 11  12]\n",
            " [ 21  22]\n",
            " [ 31 312]]\n",
            "Type BEFORE converting:  int64\n",
            "================================================\n",
            "Tensor AFTER converting:  tensor([[ 11,  12],\n",
            "        [ 21,  22],\n",
            "        [ 31, 312]])\n",
            "Type AFTER converting:  torch.int64\n"
          ],
          "name": "stdout"
        }
      ]
    },
    {
      "cell_type": "markdown",
      "metadata": {
        "id": "YY5xR6PRMsXT",
        "colab_type": "text"
      },
      "source": [
        "<!--Empty Space for separating topics-->"
      ]
    },
    {
      "cell_type": "markdown",
      "metadata": {
        "id": "940z0__JMsXU",
        "colab_type": "text"
      },
      "source": [
        "<!--Empty Space for separating topics-->"
      ]
    },
    {
      "cell_type": "markdown",
      "metadata": {
        "id": "SoU359g-MsXV",
        "colab_type": "text"
      },
      "source": [
        "<h3>Practice</h3>"
      ]
    },
    {
      "cell_type": "markdown",
      "metadata": {
        "id": "S4YVU-ZOMsXW",
        "colab_type": "text"
      },
      "source": [
        "Try to convert the following Pandas Dataframe  to a tensor"
      ]
    },
    {
      "cell_type": "code",
      "metadata": {
        "id": "NsHgl6MzMsXZ",
        "colab_type": "code",
        "colab": {}
      },
      "source": [
        "# Practice: try to convert Pandas Series to tensor\n",
        "\n",
        "df = pd.DataFrame({'A':[11, 33, 22],'B':[3, 3, 2]})"
      ],
      "execution_count": 6,
      "outputs": []
    },
    {
      "cell_type": "markdown",
      "metadata": {
        "id": "6E528KNBMsXd",
        "colab_type": "text"
      },
      "source": [
        "Double-click <b>here</b> for the solution.\n",
        "\n",
        "<!--\n",
        "converted_tensor = torch.tensor(df.values)\n",
        "print (\"Tensor: \", converted_tensor)\n",
        "-->"
      ]
    },
    {
      "cell_type": "markdown",
      "metadata": {
        "id": "GgHF1JWgMsXd",
        "colab_type": "text"
      },
      "source": [
        "<h2 id=\"Index_Slice\">Indexing and Slicing</h2>"
      ]
    },
    {
      "cell_type": "markdown",
      "metadata": {
        "id": "Xep_fNjuMsXf",
        "colab_type": "text"
      },
      "source": [
        "You can use rectangular brackets to access the different elements of the tensor. The correspondence between the rectangular brackets and the list and the rectangular representation is shown in the following figure for a 3X3 tensor:  "
      ]
    },
    {
      "cell_type": "markdown",
      "metadata": {
        "id": "URCMo0X0MsXf",
        "colab_type": "text"
      },
      "source": [
        "<img src=\"https://s3-api.us-geo.objectstorage.softlayer.net/cf-courses-data/CognitiveClass/DL0110EN/notebook_images%20/chapter%201/1.2index1.png\" width=500 alt=\"Matrix Structure Introduce\">"
      ]
    },
    {
      "cell_type": "markdown",
      "metadata": {
        "id": "49qQuvqqMsXg",
        "colab_type": "text"
      },
      "source": [
        "You can access the 2nd-row 3rd-column as shown in the following figure:"
      ]
    },
    {
      "cell_type": "markdown",
      "metadata": {
        "id": "VoJxCqEtMsXh",
        "colab_type": "text"
      },
      "source": [
        "<img src=\"https://s3-api.us-geo.objectstorage.softlayer.net/cf-courses-data/CognitiveClass/DL0110EN/notebook_images%20/chapter%201/1.2index.png\" width=\"500\" alt=\"Example of Matrix Index\">"
      ]
    },
    {
      "cell_type": "markdown",
      "metadata": {
        "id": "swcF5WXZMsXi",
        "colab_type": "text"
      },
      "source": [
        "You simply use the square brackets and the indices corresponding to the element that you want."
      ]
    },
    {
      "cell_type": "markdown",
      "metadata": {
        "id": "-C2h46e1MsXi",
        "colab_type": "text"
      },
      "source": [
        "Now, let us try to access the value on position 2nd-row 3rd-column. Remember that the index is always 1 less than how we count rows and columns. There are two ways to access the certain value of a tensor. The example in code will be the same as the example picture above."
      ]
    },
    {
      "cell_type": "code",
      "metadata": {
        "id": "AVG14IhRMsXj",
        "colab_type": "code",
        "colab": {
          "base_uri": "https://localhost:8080/",
          "height": 51
        },
        "outputId": "2fa3f739-7f84-4692-aca2-39b3c58a1f6d"
      },
      "source": [
        "# Use tensor_obj[row, column] and tensor_obj[row][column] to access certain position\n",
        "\n",
        "tensor_example = torch.tensor([[11, 12, 13], [21, 22, 23], [31, 32, 33]])\n",
        "print(\"What is the value on 2nd-row 3rd-column? \", tensor_example[1, 2])\n",
        "print(\"What is the value on 2nd-row 3rd-column? \", tensor_example[1][2])"
      ],
      "execution_count": 7,
      "outputs": [
        {
          "output_type": "stream",
          "text": [
            "What is the value on 2nd-row 3rd-column?  tensor(23)\n",
            "What is the value on 2nd-row 3rd-column?  tensor(23)\n"
          ],
          "name": "stdout"
        }
      ]
    },
    {
      "cell_type": "markdown",
      "metadata": {
        "id": "sruMUNDjMsXo",
        "colab_type": "text"
      },
      "source": [
        "As we can see, both methods return the true value (the same value as the picture above). Therefore, both of the methods work."
      ]
    },
    {
      "cell_type": "markdown",
      "metadata": {
        "id": "b3rLNLZ8MsXp",
        "colab_type": "text"
      },
      "source": [
        "<!--Empty Space for separating topics-->"
      ]
    },
    {
      "cell_type": "markdown",
      "metadata": {
        "id": "MCi_fSJwMsXp",
        "colab_type": "text"
      },
      "source": [
        "Consider the elements shown in the following figure: "
      ]
    },
    {
      "cell_type": "markdown",
      "metadata": {
        "id": "iSJFQ0vjMsXq",
        "colab_type": "text"
      },
      "source": [
        "<img src=\"https://s3-api.us-geo.objectstorage.softlayer.net/cf-courses-data/CognitiveClass/DL0110EN/notebook_images%20/chapter%201/1.2_index2.png\" width=\"500\" alt=\"Example of Matrix Index\" />"
      ]
    },
    {
      "cell_type": "markdown",
      "metadata": {
        "id": "ONRsdJ_TMsXq",
        "colab_type": "text"
      },
      "source": [
        "Use the method above, we can access the 1st-row 1st-column by <code>tensor_example[0][0]</code>"
      ]
    },
    {
      "cell_type": "code",
      "metadata": {
        "id": "rrUhT-NPMsXr",
        "colab_type": "code",
        "colab": {
          "base_uri": "https://localhost:8080/",
          "height": 34
        },
        "outputId": "192b928a-edd3-4745-bfd9-e29fc1f259d7"
      },
      "source": [
        "tensor_example[0][0]"
      ],
      "execution_count": 9,
      "outputs": [
        {
          "output_type": "execute_result",
          "data": {
            "text/plain": [
              "tensor(11)"
            ]
          },
          "metadata": {
            "tags": []
          },
          "execution_count": 9
        }
      ]
    },
    {
      "cell_type": "markdown",
      "metadata": {
        "id": "hDG_IRS1MsXu",
        "colab_type": "text"
      },
      "source": [
        "But what if we want to get the value on both 1st-row 1st-column and 1st-row 2nd-column?"
      ]
    },
    {
      "cell_type": "markdown",
      "metadata": {
        "id": "q-KLuHKfMsXv",
        "colab_type": "text"
      },
      "source": [
        "You can also use slicing in a tensor. Consider the following figure. You want to obtain the 1st two columns in the 1st row:  "
      ]
    },
    {
      "cell_type": "markdown",
      "metadata": {
        "id": "9nqbVjcdMsXw",
        "colab_type": "text"
      },
      "source": [
        "<img src=\"https://s3-api.us-geo.objectstorage.softlayer.net/cf-courses-data/CognitiveClass/DL0110EN/notebook_images%20/chapter%201/1.2sliceing.png\" width=\"500\" alt=\"Example of Matrix Index and Slicing\" />"
      ]
    },
    {
      "cell_type": "markdown",
      "metadata": {
        "id": "XwDua_iRMsXw",
        "colab_type": "text"
      },
      "source": [
        "## Let us see how  we use slicing with 2D tensors to get the values in the above picture."
      ]
    },
    {
      "cell_type": "code",
      "metadata": {
        "id": "ujXmp3wvMsXx",
        "colab_type": "code",
        "colab": {
          "base_uri": "https://localhost:8080/",
          "height": 51
        },
        "outputId": "d1dcb64c-76c7-4d5a-9c8b-bab0fbb5c84f"
      },
      "source": [
        "# Use tensor_obj[begin_row_number: end_row_number, begin_column_number: end_column number] \n",
        "# and tensor_obj[row][begin_column_number: end_column number] to do the slicing\n",
        "\n",
        "tensor_example = torch.tensor([[11, 12, 13], [21, 22, 23], [31, 32, 33]])\n",
        "print(\"What is the value on 1st-row first two columns? \", tensor_example[0, 0:2])\n",
        "print(\"What is the value on 1st-row first two columns? \", tensor_example[0][0:2])"
      ],
      "execution_count": 10,
      "outputs": [
        {
          "output_type": "stream",
          "text": [
            "What is the value on 1st-row first two columns?  tensor([11, 12])\n",
            "What is the value on 1st-row first two columns?  tensor([11, 12])\n"
          ],
          "name": "stdout"
        }
      ]
    },
    {
      "cell_type": "markdown",
      "metadata": {
        "id": "LY3Z7T13MsX2",
        "colab_type": "text"
      },
      "source": [
        "We get the result as <code>tensor([11, 12])</code> successfully."
      ]
    },
    {
      "cell_type": "markdown",
      "metadata": {
        "id": "q0vO7obzMsX3",
        "colab_type": "text"
      },
      "source": [
        "<!--Empty Space for separating topics-->"
      ]
    },
    {
      "cell_type": "markdown",
      "metadata": {
        "id": "l-0ZmP6CMsX5",
        "colab_type": "text"
      },
      "source": [
        "But we <b>can't</b> combine using slicing on row and pick one column by using the code <code>tensor_obj[begin_row_number: end_row_number][begin_column_number: end_column number]</code>. The reason is that the slicing will be applied on the tensor first. The result type will be a two dimension again. The second bracket will no longer represent the index of the column it will be the index of the row at that time. Let us see an example. "
      ]
    },
    {
      "cell_type": "code",
      "metadata": {
        "id": "VYHHFDSTMsX6",
        "colab_type": "code",
        "colab": {
          "base_uri": "https://localhost:8080/",
          "height": 221
        },
        "outputId": "b5994504-56d6-49f8-82e1-f0b0e165d710"
      },
      "source": [
        "# Give an idea on tensor_obj[number: number][number]\n",
        "\n",
        "tensor_example = torch.tensor([[11, 12, 13], [21, 22, 23], [31, 32, 33]])\n",
        "sliced_tensor_example = tensor_example[1:3]\n",
        "print(\"1. Slicing step on tensor_example: \")\n",
        "print(\"Result after tensor_example[1:3]: \", sliced_tensor_example)\n",
        "print(\"Dimension after tensor_example[1:3]: \", sliced_tensor_example.ndimension())\n",
        "print(\"================================================\")\n",
        "print(\"2. Pick an index on sliced_tensor_example: \")\n",
        "print(\"Result after sliced_tensor_example[1]: \", sliced_tensor_example[1])\n",
        "print(\"Dimension after sliced_tensor_example[1]: \", sliced_tensor_example[1].ndimension())\n",
        "print(\"================================================\")\n",
        "print(\"3. Combine these step together:\")\n",
        "print(\"Result: \", tensor_example[1:3][1])\n",
        "print(\"Dimension: \", tensor_example[1:3][1].ndimension())"
      ],
      "execution_count": 11,
      "outputs": [
        {
          "output_type": "stream",
          "text": [
            "1. Slicing step on tensor_example: \n",
            "Result after tensor_example[1:3]:  tensor([[21, 22, 23],\n",
            "        [31, 32, 33]])\n",
            "Dimension after tensor_example[1:3]:  2\n",
            "================================================\n",
            "2. Pick an index on sliced_tensor_example: \n",
            "Result after sliced_tensor_example[1]:  tensor([31, 32, 33])\n",
            "Dimension after sliced_tensor_example[1]:  1\n",
            "================================================\n",
            "3. Combine these step together:\n",
            "Result:  tensor([31, 32, 33])\n",
            "Dimension:  1\n"
          ],
          "name": "stdout"
        }
      ]
    },
    {
      "cell_type": "markdown",
      "metadata": {
        "id": "Jxd-FDasMsX-",
        "colab_type": "text"
      },
      "source": [
        "See the results and dimensions in 2 and 3 are the same. Both of them contains the 3rd row in the <code>tensor_example</code>, but not the last two values in the 3rd column."
      ]
    },
    {
      "cell_type": "markdown",
      "metadata": {
        "id": "GtTChIQ2MsX-",
        "colab_type": "text"
      },
      "source": [
        "<!--Empty Space for separating topics-->"
      ]
    },
    {
      "cell_type": "markdown",
      "metadata": {
        "id": "nGNu55gpMsX_",
        "colab_type": "text"
      },
      "source": [
        "So how can we get the elements in the 3rd column with the last two rows? As the below picture."
      ]
    },
    {
      "cell_type": "markdown",
      "metadata": {
        "id": "EOGaE77wMsX_",
        "colab_type": "text"
      },
      "source": [
        "<img src=\"https://s3-api.us-geo.objectstorage.softlayer.net/cf-courses-data/CognitiveClass/DL0110EN/notebook_images%20/chapter%201/1.2slicing2.png\" width=\"500\" alt=\"Example of Matrix Index and Slicing\" />"
      ]
    },
    {
      "cell_type": "markdown",
      "metadata": {
        "id": "nQXfJstwMsYA",
        "colab_type": "text"
      },
      "source": [
        "Let's see the code below."
      ]
    },
    {
      "cell_type": "code",
      "metadata": {
        "id": "p1Dv8JnrMsYA",
        "colab_type": "code",
        "colab": {
          "base_uri": "https://localhost:8080/",
          "height": 34
        },
        "outputId": "78d89ae4-3250-471d-d497-1890ebdd3187"
      },
      "source": [
        "# Use tensor_obj[begin_row_number: end_row_number, begin_column_number: end_column number] \n",
        "\n",
        "tensor_example = torch.tensor([[11, 12, 13], [21, 22, 23], [31, 32, 33]])\n",
        "print(\"What is the value on 3rd-column last two rows? \", tensor_example[1:3, 2])"
      ],
      "execution_count": 12,
      "outputs": [
        {
          "output_type": "stream",
          "text": [
            "What is the value on 3rd-column last two rows?  tensor([23, 33])\n"
          ],
          "name": "stdout"
        }
      ]
    },
    {
      "cell_type": "markdown",
      "metadata": {
        "id": "mJaLY-JOMsYD",
        "colab_type": "text"
      },
      "source": [
        "Fortunately, the code <code>tensor_obj[begin_row_number: end_row_number, begin_column_number: end_column number]</code> is still works."
      ]
    },
    {
      "cell_type": "markdown",
      "metadata": {
        "id": "nrrb3_keMsYE",
        "colab_type": "text"
      },
      "source": [
        "<!--Empty Space for separating topics-->"
      ]
    },
    {
      "cell_type": "markdown",
      "metadata": {
        "id": "boPYFoqWMsYE",
        "colab_type": "text"
      },
      "source": [
        "<h3>Practice</h3>"
      ]
    },
    {
      "cell_type": "markdown",
      "metadata": {
        "id": "aRg5W1Q2MsYF",
        "colab_type": "text"
      },
      "source": [
        "Try to change the values on the second column and the last two rows to 0. Basically, change the values on <code>tensor_ques[1][1]</code> and <code>tensor_ques[2][1]</code> to 0."
      ]
    },
    {
      "cell_type": "code",
      "metadata": {
        "id": "MfcEhK0jMsYF",
        "colab_type": "code",
        "colab": {}
      },
      "source": [
        "# Practice: Use slice and index to change the values on the matrix tensor_ques.\n",
        "\n",
        "tensor_ques = torch.tensor([[11, 12, 13], [21, 22, 23], [31, 32, 33]])\n"
      ],
      "execution_count": 13,
      "outputs": []
    },
    {
      "cell_type": "markdown",
      "metadata": {
        "id": "vQQ_xv8iMsYJ",
        "colab_type": "text"
      },
      "source": [
        "Double-click <b>here</b> for the solution.\n",
        "\n",
        "<!--\n",
        "tensor_ques[1:3, 1] = 0\n",
        "print(\"The result: \", tensor_ques)\n",
        "-->"
      ]
    },
    {
      "cell_type": "markdown",
      "metadata": {
        "id": "Pt3fc9EXMsYK",
        "colab_type": "text"
      },
      "source": [
        "<!--Empty Space for separating topics-->"
      ]
    },
    {
      "cell_type": "markdown",
      "metadata": {
        "id": "I0lQW9XNMsYK",
        "colab_type": "text"
      },
      "source": [
        "<h2 id=\"Tensor_Op\">Tensor Operations</h2> "
      ]
    },
    {
      "cell_type": "markdown",
      "metadata": {
        "id": "JqGBEsISMsYL",
        "colab_type": "text"
      },
      "source": [
        "We can also do some calculations on 2D tensors."
      ]
    },
    {
      "cell_type": "markdown",
      "metadata": {
        "id": "c3uHS0ABMsYM",
        "colab_type": "text"
      },
      "source": [
        "<!--Empty Space for separating topics-->"
      ]
    },
    {
      "cell_type": "markdown",
      "metadata": {
        "id": "ERM741hmMsYM",
        "colab_type": "text"
      },
      "source": [
        "<h3>Tensor Addition</h3>"
      ]
    },
    {
      "cell_type": "markdown",
      "metadata": {
        "id": "h1nJWOQjMsYN",
        "colab_type": "text"
      },
      "source": [
        "You can also add tensors; the process is identical to matrix addition. Matrix addition of <b>X</b> and <b>Y</b> is shown in the following figure:"
      ]
    },
    {
      "cell_type": "markdown",
      "metadata": {
        "id": "W1f2iubmMsYN",
        "colab_type": "text"
      },
      "source": [
        "<img src=\"https://s3-api.us-geo.objectstorage.softlayer.net/cf-courses-data/CognitiveClass/DL0110EN/notebook_images%20/chapter%201/1.2add.png\" width=\"500\" alt=\"Tensor Addition in 2D\">"
      ]
    },
    {
      "cell_type": "markdown",
      "metadata": {
        "id": "t1Rl-G-uMsYQ",
        "colab_type": "text"
      },
      "source": [
        "Let us see how tensor addition works with <code>X</code> and <code>Y</code>."
      ]
    },
    {
      "cell_type": "code",
      "metadata": {
        "id": "Ich_vfL-MsYS",
        "colab_type": "code",
        "colab": {
          "base_uri": "https://localhost:8080/",
          "height": 51
        },
        "outputId": "2275a0ff-470a-4e3e-d62f-d1b1173df318"
      },
      "source": [
        "# Calculate [[1, 0], [0, 1]] + [[2, 1], [1, 2]]\n",
        "\n",
        "X = torch.tensor([[1, 0],[0, 1]]) \n",
        "Y = torch.tensor([[2, 1],[1, 2]])\n",
        "X_plus_Y = X + Y\n",
        "print(\"The result of X + Y: \", X_plus_Y)"
      ],
      "execution_count": 14,
      "outputs": [
        {
          "output_type": "stream",
          "text": [
            "The result of X + Y:  tensor([[3, 1],\n",
            "        [1, 3]])\n"
          ],
          "name": "stdout"
        }
      ]
    },
    {
      "cell_type": "markdown",
      "metadata": {
        "id": "sxi8t7w1MsYV",
        "colab_type": "text"
      },
      "source": [
        "Like the result shown in the picture above. The result is <code>[[3, 1], [1, 3]]</code>"
      ]
    },
    {
      "cell_type": "markdown",
      "metadata": {
        "id": "-Mq_b8W_MsYW",
        "colab_type": "text"
      },
      "source": [
        "<!--Empty Space for separating topics-->"
      ]
    },
    {
      "cell_type": "markdown",
      "metadata": {
        "id": "SV2vrzkGMsYX",
        "colab_type": "text"
      },
      "source": [
        "<h3> Scalar Multiplication </h3>"
      ]
    },
    {
      "cell_type": "markdown",
      "metadata": {
        "id": "H1O19XkjMsYX",
        "colab_type": "text"
      },
      "source": [
        "Multiplying a tensor by a scalar is identical to multiplying a matrix by a scaler. If you multiply the matrix <b>Y</b> by the scalar 2, you simply multiply every element in the matrix by 2 as shown in the figure:"
      ]
    },
    {
      "cell_type": "markdown",
      "metadata": {
        "id": "ycNdfnuAMsYY",
        "colab_type": "text"
      },
      "source": [
        "<img src=\"https://s3-api.us-geo.objectstorage.softlayer.net/cf-courses-data/CognitiveClass/DL0110EN/notebook_images%20/chapter%201/1.2scaller_mult.png\" width=\"500\" alt=\"The product of tensor and scalar\">"
      ]
    },
    {
      "cell_type": "markdown",
      "metadata": {
        "id": "zc5Cld5LMsYZ",
        "colab_type": "text"
      },
      "source": [
        "Let us try to calculate the product of <b>2Y</b>."
      ]
    },
    {
      "cell_type": "code",
      "metadata": {
        "id": "TRReHBGFMsYa",
        "colab_type": "code",
        "colab": {
          "base_uri": "https://localhost:8080/",
          "height": 51
        },
        "outputId": "964b4dc0-6bdd-4206-c650-7a8e2457669f"
      },
      "source": [
        "# Calculate 2 * [[2, 1], [1, 2]]\n",
        "\n",
        "Y = torch.tensor([[2, 1], [1, 2]]) \n",
        "two_Y = 2 * Y\n",
        "print(\"The result of 2Y: \", two_Y)"
      ],
      "execution_count": 15,
      "outputs": [
        {
          "output_type": "stream",
          "text": [
            "The result of 2Y:  tensor([[4, 2],\n",
            "        [2, 4]])\n"
          ],
          "name": "stdout"
        }
      ]
    },
    {
      "cell_type": "markdown",
      "metadata": {
        "id": "wIU37225MsYd",
        "colab_type": "text"
      },
      "source": [
        "<!--Empty Space for separating topics-->"
      ]
    },
    {
      "cell_type": "markdown",
      "metadata": {
        "id": "325PAXFGMsYe",
        "colab_type": "text"
      },
      "source": [
        "<h3>Element-wise Product/Hadamard Product</h3>"
      ]
    },
    {
      "cell_type": "markdown",
      "metadata": {
        "id": "wBDtF36BMsYe",
        "colab_type": "text"
      },
      "source": [
        "Multiplication of two tensors corresponds to an element-wise product or Hadamard product.  Consider matrix the <b>X</b> and <b>Y</b> with the same size. The Hadamard product corresponds to multiplying each of the elements at the same position, that is, multiplying elements with the same color together. The result is a new matrix that is the same size as matrix <b>X</b> and <b>Y</b> as shown in the following figure:"
      ]
    },
    {
      "cell_type": "markdown",
      "metadata": {
        "id": "-zma5EAHMsYf",
        "colab_type": "text"
      },
      "source": [
        " <a><img src=\"https://s3-api.us-geo.objectstorage.softlayer.net/cf-courses-data/CognitiveClass/DL0110EN/notebook_images%20/chapter%201/1.2tensor_pruduct.png\" width=500 align=\"center\"> </a>\n"
      ]
    },
    {
      "cell_type": "markdown",
      "metadata": {
        "id": "e_3pgaLdMsYf",
        "colab_type": "text"
      },
      "source": [
        "The code below calculates the element-wise product of the tensor <strong>X</strong> and <strong>Y</strong>:"
      ]
    },
    {
      "cell_type": "code",
      "metadata": {
        "id": "909kOnLvMsYg",
        "colab_type": "code",
        "colab": {
          "base_uri": "https://localhost:8080/",
          "height": 51
        },
        "outputId": "49980daf-bf8a-4b6d-b7d8-279b23125359"
      },
      "source": [
        "# Calculate [[1, 0], [0, 1]] * [[2, 1], [1, 2]]\n",
        "\n",
        "X = torch.tensor([[1, 0], [0, 1]])\n",
        "Y = torch.tensor([[2, 1], [1, 2]]) \n",
        "X_times_Y = X * Y\n",
        "print(\"The result of X * Y: \", X_times_Y)"
      ],
      "execution_count": 16,
      "outputs": [
        {
          "output_type": "stream",
          "text": [
            "The result of X * Y:  tensor([[2, 0],\n",
            "        [0, 2]])\n"
          ],
          "name": "stdout"
        }
      ]
    },
    {
      "cell_type": "markdown",
      "metadata": {
        "id": "Fdcr71IYMsYi",
        "colab_type": "text"
      },
      "source": [
        "This is a simple calculation. The result from the code matches the result shown in the picture."
      ]
    },
    {
      "cell_type": "markdown",
      "metadata": {
        "id": "ssgTE-yLMsYj",
        "colab_type": "text"
      },
      "source": [
        "<!--Empty Space for separating topics-->"
      ]
    },
    {
      "cell_type": "markdown",
      "metadata": {
        "id": "9Y0bfRVMMsYj",
        "colab_type": "text"
      },
      "source": [
        "<h3>Matrix Multiplication </h3>"
      ]
    },
    {
      "cell_type": "markdown",
      "metadata": {
        "id": "u0KPPTr3MsYk",
        "colab_type": "text"
      },
      "source": [
        "We can also apply matrix multiplication to two tensors, if you have learned linear algebra, you should know that in the multiplication of two matrices order matters. This means if <i>X * Y</i> is valid, it does not mean <i>Y * X</i> is valid. The number of columns of the matrix on the left side of the multiplication sign must equal to the number of rows of the matrix on the right side."
      ]
    },
    {
      "cell_type": "markdown",
      "metadata": {
        "id": "syBOFa_pMsYk",
        "colab_type": "text"
      },
      "source": [
        "First, let us create a tensor <code>X</code> with size 2X3. Then, let us create another tensor <code>Y</code> with size 3X2. Since the number of columns of <code>X</code> is equal to the number of rows of <code>Y</code>. We are able to perform the multiplication."
      ]
    },
    {
      "cell_type": "markdown",
      "metadata": {
        "id": "QALrNIdnMsYl",
        "colab_type": "text"
      },
      "source": [
        "We use <code>torch.mm()</code> for calculating the multiplication between tensors with different sizes."
      ]
    },
    {
      "cell_type": "code",
      "metadata": {
        "id": "lLz8PRGyMsYl",
        "colab_type": "code",
        "colab": {
          "base_uri": "https://localhost:8080/",
          "height": 51
        },
        "outputId": "58af14aa-f734-458b-a284-7a5a1c1e767e"
      },
      "source": [
        "# Calculate [[0, 1, 1], [1, 0, 1]] * [[1, 1], [1, 1], [-1, 1]]\n",
        "\n",
        "A = torch.tensor([[0, 1, 1], [1, 0, 1]])\n",
        "B = torch.tensor([[1, 1], [1, 1], [-1, 1]])\n",
        "A_times_B = torch.mm(A,B)\n",
        "print(\"The result of A * B: \", A_times_B)"
      ],
      "execution_count": 17,
      "outputs": [
        {
          "output_type": "stream",
          "text": [
            "The result of A * B:  tensor([[0, 2],\n",
            "        [0, 2]])\n"
          ],
          "name": "stdout"
        }
      ]
    },
    {
      "cell_type": "markdown",
      "metadata": {
        "id": "e_PRV4gQMsYq",
        "colab_type": "text"
      },
      "source": [
        "<!--Empty Space for separating topics-->"
      ]
    },
    {
      "cell_type": "markdown",
      "metadata": {
        "id": "GLfvqdTBMsYr",
        "colab_type": "text"
      },
      "source": [
        "<h3>Practice</h3>"
      ]
    },
    {
      "cell_type": "markdown",
      "metadata": {
        "id": "n7_ivFD_MsYs",
        "colab_type": "text"
      },
      "source": [
        "Try to create your own two tensors (<code>X</code> and <code>Y</code>) with different sizes, and multiply them."
      ]
    },
    {
      "cell_type": "code",
      "metadata": {
        "id": "kFBFpdizMsYt",
        "colab_type": "code",
        "colab": {}
      },
      "source": [
        "# Practice: Calculate the product of two tensors (X and Y) with different sizes \n",
        "\n",
        "# Type your code here"
      ],
      "execution_count": 18,
      "outputs": []
    },
    {
      "cell_type": "markdown",
      "metadata": {
        "id": "8LZedXxNMsYv",
        "colab_type": "text"
      },
      "source": [
        "Double-click <b>here</b> for the solution.\n",
        "\n",
        "<!--\n",
        "X = torch.tensor([[0, 1], [1, 2]])\n",
        "Y = torch.tensor([[-1, -2, 0], [2, 1, 2]])\n",
        "X_times_Y = torch.mm(X, Y)\n",
        "print(\"The result of X * Y: \", X_times_Y)\n",
        "-->"
      ]
    },
    {
      "cell_type": "markdown",
      "metadata": {
        "id": "UBAM2wdiMsYw",
        "colab_type": "text"
      },
      "source": [
        "<!--Empty Space for separating topics-->"
      ]
    },
    {
      "cell_type": "markdown",
      "metadata": {
        "id": "J_dks7G9MsYw",
        "colab_type": "text"
      },
      "source": [
        "<!--Empty Space for separating topics-->"
      ]
    },
    {
      "cell_type": "markdown",
      "metadata": {
        "id": "zdpPM-nFMsYx",
        "colab_type": "text"
      },
      "source": [
        "<a href=\"http://cocl.us/pytorch_link_bottom\">\n",
        "    <img src=\"https://s3-api.us-geo.objectstorage.softlayer.net/cf-courses-data/CognitiveClass/DL0110EN/notebook_images%20/notebook_bottom%20.png\" width=\"750\" alt=\"PyTorch Bottom\" />\n",
        "</a>"
      ]
    },
    {
      "cell_type": "markdown",
      "metadata": {
        "id": "eNvUaB4AMsYz",
        "colab_type": "text"
      },
      "source": [
        "<h2>About the Authors:</h2> \n",
        "\n",
        "<a href=\"https://www.linkedin.com/in/joseph-s-50398b136/\">Joseph Santarcangelo</a> has a PhD in Electrical Engineering, his research focused on using machine learning, signal processing, and computer vision to determine how videos impact human cognition. Joseph has been working for IBM since he completed his PhD."
      ]
    },
    {
      "cell_type": "markdown",
      "metadata": {
        "id": "pLkKKsFNMsYz",
        "colab_type": "text"
      },
      "source": [
        "Other contributors: <a href=\"https://www.linkedin.com/in/michelleccarey/\">Michelle Carey</a>, <a href=\"www.linkedin.com/in/jiahui-mavis-zhou-a4537814a\">Mavis Zhou</a> "
      ]
    },
    {
      "cell_type": "markdown",
      "metadata": {
        "id": "b9itTFVLMsY0",
        "colab_type": "text"
      },
      "source": [
        "<hr>"
      ]
    },
    {
      "cell_type": "markdown",
      "metadata": {
        "id": "vx-VhBSmMsY1",
        "colab_type": "text"
      },
      "source": [
        "Copyright &copy; 2018 <a href=\"cognitiveclass.ai?utm_source=bducopyrightlink&utm_medium=dswb&utm_campaign=bdu\">cognitiveclass.ai</a>. This notebook and its source code are released under the terms of the <a href=\"https://bigdatauniversity.com/mit-license/\">MIT License</a>."
      ]
    }
  ]
}